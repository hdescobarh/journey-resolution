{
 "cells": [
  {
   "cell_type": "markdown",
   "metadata": {},
   "source": [
    "# Encontrando integral, derivadas y puntos críticos restantes de la regresión empleada\n",
    "__Hans D. Escobar H.__"
   ]
  },
  {
   "cell_type": "code",
   "execution_count": 83,
   "metadata": {},
   "outputs": [],
   "source": [
    "import sympy\n",
    "sympy.init_printing()"
   ]
  },
  {
   "cell_type": "code",
   "execution_count": 84,
   "metadata": {},
   "outputs": [
    {
     "name": "stdout",
     "output_type": "stream",
     "text": [
      "> logistic:\n"
     ]
    },
    {
     "data": {
      "image/png": "[encoded data removed]",
      "text/latex": [
       "$\\displaystyle \\frac{Asym}{e^{\\frac{- x + xmid}{\\mathcal{s}}} + 1}$"
      ],
      "text/plain": [
       "     Asym     \n",
       "──────────────\n",
       " -x + xmid    \n",
       " ─────────    \n",
       "   scal       \n",
       "ℯ          + 1"
      ]
     },
     "metadata": {},
     "output_type": "display_data"
    },
    {
     "name": "stdout",
     "output_type": "stream",
     "text": [
      "> integral:\n"
     ]
    },
    {
     "data": {
      "image/png": "[encoded data removed]",
      "text/latex": [
       "$\\displaystyle Asym \\left(\\mathcal{s} \\log{\\left(e^{\\frac{- x + xmid}{\\mathcal{s}}} + 1 \\right)} + x\\right)$"
      ],
      "text/plain": [
       "     ⎛        ⎛ -x + xmid    ⎞    ⎞\n",
       "     ⎜        ⎜ ─────────    ⎟    ⎟\n",
       "     ⎜        ⎜   scal       ⎟    ⎟\n",
       "Asym⋅⎝scal⋅log⎝ℯ          + 1⎠ + x⎠"
      ]
     },
     "metadata": {},
     "output_type": "display_data"
    },
    {
     "name": "stdout",
     "output_type": "stream",
     "text": [
      "> derivative_1:\n"
     ]
    },
    {
     "data": {
      "image/png": "[encoded data removed]",
      "text/latex": [
       "$\\displaystyle \\frac{Asym}{4 \\mathcal{s} \\cosh^{2}{\\left(\\frac{x - xmid}{2 \\mathcal{s}} \\right)}}$"
      ],
      "text/plain": [
       "         Asym         \n",
       "──────────────────────\n",
       "           2⎛x - xmid⎞\n",
       "4⋅scal⋅cosh ⎜────────⎟\n",
       "            ⎝ 2⋅scal ⎠"
      ]
     },
     "metadata": {},
     "output_type": "display_data"
    },
    {
     "name": "stdout",
     "output_type": "stream",
     "text": [
      "> derivative_2:\n"
     ]
    },
    {
     "data": {
      "image/png": "[encoded data removed]",
      "text/latex": [
       "$\\displaystyle - \\frac{Asym \\sinh{\\left(\\frac{x - xmid}{2 \\mathcal{s}} \\right)}}{4 \\mathcal{s}^{2} \\cosh^{3}{\\left(\\frac{x - xmid}{2 \\mathcal{s}} \\right)}}$"
      ],
      "text/plain": [
       "           ⎛x - xmid⎞  \n",
       " -Asym⋅sinh⎜────────⎟  \n",
       "           ⎝ 2⋅scal ⎠  \n",
       "───────────────────────\n",
       "      2     3⎛x - xmid⎞\n",
       "4⋅scal ⋅cosh ⎜────────⎟\n",
       "             ⎝ 2⋅scal ⎠"
      ]
     },
     "metadata": {},
     "output_type": "display_data"
    },
    {
     "name": "stdout",
     "output_type": "stream",
     "text": [
      "> derivative_3:\n"
     ]
    },
    {
     "data": {
      "image/png": "[encoded data removed]",
      "text/latex": [
       "$\\displaystyle \\frac{Asym \\left(\\cosh{\\left(\\frac{x - xmid}{\\mathcal{s}} \\right)} - 2\\right)}{8 \\mathcal{s}^{3} \\cosh^{4}{\\left(\\frac{x - xmid}{2 \\mathcal{s}} \\right)}}$"
      ],
      "text/plain": [
       "     ⎛    ⎛x - xmid⎞    ⎞\n",
       "Asym⋅⎜cosh⎜────────⎟ - 2⎟\n",
       "     ⎝    ⎝  scal  ⎠    ⎠\n",
       "─────────────────────────\n",
       "       3     4⎛x - xmid⎞ \n",
       " 8⋅scal ⋅cosh ⎜────────⎟ \n",
       "              ⎝ 2⋅scal ⎠ "
      ]
     },
     "metadata": {},
     "output_type": "display_data"
    },
    {
     "name": "stdout",
     "output_type": "stream",
     "text": [
      "> derivative_4:\n"
     ]
    },
    {
     "data": {
      "image/png": "[encoded data removed]",
      "text/latex": [
       "$\\displaystyle \\frac{Asym \\left(11 \\sinh{\\left(\\frac{x - xmid}{2 \\mathcal{s}} \\right)} - \\sinh{\\left(\\frac{3 \\left(x - xmid\\right)}{2 \\mathcal{s}} \\right)}\\right)}{16 \\mathcal{s}^{4} \\cosh^{5}{\\left(\\frac{x - xmid}{2 \\mathcal{s}} \\right)}}$"
      ],
      "text/plain": [
       "     ⎛       ⎛x - xmid⎞       ⎛3⋅(x - xmid)⎞⎞\n",
       "Asym⋅⎜11⋅sinh⎜────────⎟ - sinh⎜────────────⎟⎟\n",
       "     ⎝       ⎝ 2⋅scal ⎠       ⎝   2⋅scal   ⎠⎠\n",
       "─────────────────────────────────────────────\n",
       "                 4     5⎛x - xmid⎞           \n",
       "          16⋅scal ⋅cosh ⎜────────⎟           \n",
       "                        ⎝ 2⋅scal ⎠           "
      ]
     },
     "metadata": {},
     "output_type": "display_data"
    }
   ],
   "source": [
    "x = sympy.symbols(\"x\", real = True)\n",
    "Asym, xmid, scal = sympy.symbols(\"Asym, xmid, scal\", positive = True)\n",
    "\n",
    "my_functions = dict()\n",
    "my_functions[\"logistic\"] = Asym/(1+sympy.exp((xmid-x)/scal))\n",
    "my_functions[\"integral\"] = sympy.simplify(sympy.integrate(my_functions[\"logistic\"],x))\n",
    "my_functions[\"derivative_1\"]= sympy.simplify(sympy.diff(my_functions[\"logistic\"],x))\n",
    "my_functions[\"derivative_2\"]= sympy.simplify(sympy.diff(my_functions[\"derivative_1\"],x))\n",
    "my_functions[\"derivative_3\"]= sympy.simplify(sympy.diff(my_functions[\"derivative_2\"],x))\n",
    "my_functions[\"derivative_4\"]= sympy.simplify(sympy.diff(my_functions[\"derivative_3\"],x))\n",
    "\n",
    "sorted_names = [\n",
    "    'logistic','integral',\n",
    "    'derivative_1', 'derivative_2',\n",
    "    'derivative_3', 'derivative_4']\n",
    "\n",
    "for key in sorted_names:\n",
    "    print(\"> \" + key + \":\")\n",
    "    display(my_functions[key])"
   ]
  },
  {
   "cell_type": "markdown",
   "metadata": {},
   "source": [
    "## Punto de inicio de la desaceleración asintótica\n",
    "\n",
    "Es el mayor $x$ tal que $\\frac{\\mathrm{d}^4 f(x)}{\\mathrm{d} x^4} = 0$"
   ]
  },
  {
   "cell_type": "code",
   "execution_count": 85,
   "metadata": {},
   "outputs": [
    {
     "name": "stdout",
     "output_type": "stream",
     "text": [
      "3 solutions:\n"
     ]
    },
    {
     "data": {
      "image/png": "[encoded data removed]",
      "text/latex": [
       "$\\displaystyle xmid$"
      ],
      "text/plain": [
       "xmid"
      ]
     },
     "metadata": {},
     "output_type": "display_data"
    },
    {
     "data": {
      "image/png": "[encoded data removed]",
      "text/latex": [
       "$\\displaystyle \\mathcal{s} \\log{\\left(5 - 2 \\sqrt{6} \\right)} + xmid$"
      ],
      "text/plain": [
       "scal⋅log(5 - 2⋅√6) + xmid"
      ]
     },
     "metadata": {},
     "output_type": "display_data"
    },
    {
     "data": {
      "image/png": "[encoded data removed]",
      "text/latex": [
       "$\\displaystyle \\mathcal{s} \\log{\\left(2 \\sqrt{6} + 5 \\right)} + xmid$"
      ],
      "text/plain": [
       "scal⋅log(2⋅√6 + 5) + xmid"
      ]
     },
     "metadata": {},
     "output_type": "display_data"
    }
   ],
   "source": [
    "derivative_4_solutions = sympy.solve(my_functions[\"derivative_4\"], x)\n",
    "derivative_4_solutions = [sympy.simplify(v) for v in derivative_4_solutions]\n",
    "print(f\"{len(derivative_4_solutions)} solutions:\")\n",
    "for i in range(len(derivative_4_solutions)):\n",
    "    display(derivative_4_solutions[i])"
   ]
  },
  {
   "cell_type": "markdown",
   "metadata": {},
   "source": [
    "Son 3 valores, solo se necesitan 3 comparaciones para ordenarlos:\n"
   ]
  },
  {
   "cell_type": "code",
   "execution_count": 86,
   "metadata": {},
   "outputs": [
    {
     "name": "stdout",
     "output_type": "stream",
     "text": [
      "\n",
      "Is x0 <= x1 ?\n",
      "False\n",
      "\n",
      "Is x0 <= x2 ?\n",
      "True\n",
      "\n",
      "Is x1 <= x2 ?\n",
      "True\n"
     ]
    }
   ],
   "source": [
    "for i,j in [(0,1), (0,2), (1, 2)]:\n",
    "    print(f\"\\nIs x{i} <= x{j} ?\")\n",
    "    print(derivative_4_solutions[i] - derivative_4_solutions[j] <= 0)"
   ]
  },
  {
   "cell_type": "markdown",
   "metadata": {},
   "source": [
    "El orden, entonces es $x_1 < x_0 \\leq x_2$. Por lo tanto, el punto de desaceleración asintótica está dado por:"
   ]
  },
  {
   "cell_type": "code",
   "execution_count": 87,
   "metadata": {},
   "outputs": [
    {
     "data": {
      "image/png": "[encoded data removed]",
      "text/latex": [
       "$\\displaystyle \\mathcal{s} \\log{\\left(2 \\sqrt{6} + 5 \\right)} + xmid$"
      ],
      "text/plain": [
       "scal⋅log(2⋅√6 + 5) + xmid"
      ]
     },
     "execution_count": 87,
     "metadata": {},
     "output_type": "execute_result"
    }
   ],
   "source": [
    "derivative_4_solutions[2]"
   ]
  },
  {
   "cell_type": "markdown",
   "metadata": {},
   "source": [
    "## Máximo de la primera derivada\n",
    "\n",
    "Ya sabemos qué el máximo de $\\frac{\\mathrm{d} f(x)}{\\mathrm{d} x}$ está en $x = x_{mid}$. El máximo se corresponde, entonces es:"
   ]
  },
  {
   "cell_type": "code",
   "execution_count": 88,
   "metadata": {},
   "outputs": [
    {
     "data": {
      "image/png": "[encoded data removed]",
      "text/latex": [
       "$\\displaystyle \\frac{Asym}{4 \\mathcal{s}}$"
      ],
      "text/plain": [
       " Asym \n",
       "──────\n",
       "4⋅scal"
      ]
     },
     "execution_count": 88,
     "metadata": {},
     "output_type": "execute_result"
    }
   ],
   "source": [
    "my_functions[\"derivative_1\"].subs(x,xmid)"
   ]
  },
  {
   "cell_type": "markdown",
   "metadata": {},
   "source": [
    "## Bibliografía\n",
    "\n",
    "Meurer A, Smith CP, Paprocki M, Čertík O, Kirpichev SB, Rocklin M, Kumar A,\n",
    "Ivanov S, Moore JK, Singh S, Rathnayake T, Vig S, Granger BE, Muller RP,\n",
    "Bonazzi F, Gupta H, Vats S, Johansson F, Pedregosa F, Curry MJ, Terrel AR,\n",
    "Roučka Š, Saboo A, Fernando I, Kulal S, Cimrman R, Scopatz A. (2017) SymPy:\n",
    "symbolic computing in Python. *PeerJ Computer Science* 3:e103\n",
    "https://doi.org/10.7717/peerj-cs.103\n"
   ]
  }
 ],
 "metadata": {
  "kernelspec": {
   "display_name": "Python 3 (ipykernel)",
   "language": "python",
   "name": "python3"
  },
  "language_info": {
   "codemirror_mode": {
    "name": "ipython",
    "version": 3
   },
   "file_extension": ".py",
   "mimetype": "text/x-python",
   "name": "python",
   "nbconvert_exporter": "python",
   "pygments_lexer": "ipython3",
   "version": "3.12.3"
  }
 },
 "nbformat": 4,
 "nbformat_minor": 2
}
