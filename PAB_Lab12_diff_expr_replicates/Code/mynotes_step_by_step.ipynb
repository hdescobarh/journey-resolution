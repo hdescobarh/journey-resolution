{
 "cells": [
  {
   "cell_type": "markdown",
   "metadata": {},
   "source": [
    "# Análisis expresión diferencial - datos con replicas biológicas\n",
    "\n",
    "Replico algunos pasos del taller, agregando apuntes y modificaciones que considere apropiadas de acuerdo a la documentación de edgeR."
   ]
  },
  {
   "cell_type": "code",
   "execution_count": 1,
   "metadata": {
    "vscode": {
     "languageId": "r"
    }
   },
   "outputs": [],
   "source": [
    "# Required libraries validation\n",
    "missing_packages <- character()\n",
    "for (package in c(\n",
    "  \"edgeR\"\n",
    ")) {\n",
    "  if (!require(package, quietly = TRUE, character.only = TRUE)) {\n",
    "    missing_packages <- append(missing_packages, package)\n",
    "  }\n",
    "}\n",
    "\n",
    "if (length(missing_packages) > 0) {\n",
    "  stop(\n",
    "    sprintf(\n",
    "      \"Missing the following packages: %s\",\n",
    "      paste(missing_packages, collapse = \", \")\n",
    "    ),\n",
    "    call. = FALSE\n",
    "  )\n",
    "}\n"
   ]
  },
  {
   "cell_type": "markdown",
   "metadata": {},
   "source": [
    "## 1. Load data"
   ]
  },
  {
   "cell_type": "code",
   "execution_count": 2,
   "metadata": {
    "vscode": {
     "languageId": "r"
    }
   },
   "outputs": [
    {
     "data": {
      "text/html": [
       "<dl>\n",
       "\t<dt>$counts</dt>\n",
       "\t\t<dd><table class=\"dataframe\">\n",
       "<caption>A matrix: 6 × 6 of type int</caption>\n",
       "<thead>\n",
       "\t<tr><th></th><th scope=col>A549CellCiptapRep3</th><th scope=col>A549CellCiptapRep4</th><th scope=col>A549CytosolCiptapRep3</th><th scope=col>A549CytosolCiptapRep4</th><th scope=col>A549NucleusCiptapRep3</th><th scope=col>A549NucleusCiptapRep4</th></tr>\n",
       "</thead>\n",
       "<tbody>\n",
       "\t<tr><th scope=row>chr10_AsnGTT_22518418_22518448_5tRNAr</th><td>21324</td><td>20495</td><td>20115</td><td>2626</td><td>1770</td><td> 9826</td></tr>\n",
       "\t<tr><th scope=row>chr10_AsnGTT_22518438_22518511_total</th><td>21831</td><td>21065</td><td>20373</td><td>2693</td><td>1839</td><td>10038</td></tr>\n",
       "\t<tr><th scope=row>chr10_AsnGTT_22518501_22518531_3tRNAr</th><td>  207</td><td>  232</td><td>  276</td><td>  65</td><td>  67</td><td>  161</td></tr>\n",
       "\t<tr><th scope=row>chr10_PseudoCAA_34591396_34591426_5tRNAr</th><td>    3</td><td>    0</td><td>    0</td><td>   0</td><td>   0</td><td>    0</td></tr>\n",
       "\t<tr><th scope=row>chr10_PseudoCAA_34591416_34591483_total</th><td>    3</td><td>    0</td><td>    0</td><td>   0</td><td>   1</td><td>    0</td></tr>\n",
       "\t<tr><th scope=row>chr10_PseudoCAA_34591473_34591503_3tRNAr</th><td>    3</td><td>    0</td><td>    0</td><td>   0</td><td>   1</td><td>    0</td></tr>\n",
       "</tbody>\n",
       "</table>\n",
       "</dd>\n",
       "\t<dt>$samples</dt>\n",
       "\t\t<dd><table class=\"dataframe\">\n",
       "<caption>A data.frame: 6 × 3</caption>\n",
       "<thead>\n",
       "\t<tr><th></th><th scope=col>group</th><th scope=col>lib.size</th><th scope=col>norm.factors</th></tr>\n",
       "\t<tr><th></th><th scope=col>&lt;fct&gt;</th><th scope=col>&lt;dbl&gt;</th><th scope=col>&lt;dbl&gt;</th></tr>\n",
       "</thead>\n",
       "<tbody>\n",
       "\t<tr><th scope=row>A549CellCiptapRep3</th><td>Ce</td><td>58393208</td><td>1</td></tr>\n",
       "\t<tr><th scope=row>A549CellCiptapRep4</th><td>Ce</td><td>81517906</td><td>1</td></tr>\n",
       "\t<tr><th scope=row>A549CytosolCiptapRep3</th><td>Cy</td><td>72547811</td><td>1</td></tr>\n",
       "\t<tr><th scope=row>A549CytosolCiptapRep4</th><td>Cy</td><td> 2514860</td><td>1</td></tr>\n",
       "\t<tr><th scope=row>A549NucleusCiptapRep3</th><td>Nu</td><td> 1803277</td><td>1</td></tr>\n",
       "\t<tr><th scope=row>A549NucleusCiptapRep4</th><td>Nu</td><td>25392617</td><td>1</td></tr>\n",
       "</tbody>\n",
       "</table>\n",
       "</dd>\n",
       "</dl>\n"
      ],
      "text/latex": [
       "\\begin{description}\n",
       "\\item[\\$counts] A matrix: 6 × 6 of type int\n",
       "\\begin{tabular}{r|llllll}\n",
       "  & A549CellCiptapRep3 & A549CellCiptapRep4 & A549CytosolCiptapRep3 & A549CytosolCiptapRep4 & A549NucleusCiptapRep3 & A549NucleusCiptapRep4\\\\\n",
       "\\hline\n",
       "\tchr10\\_AsnGTT\\_22518418\\_22518448\\_5tRNAr & 21324 & 20495 & 20115 & 2626 & 1770 &  9826\\\\\n",
       "\tchr10\\_AsnGTT\\_22518438\\_22518511\\_total & 21831 & 21065 & 20373 & 2693 & 1839 & 10038\\\\\n",
       "\tchr10\\_AsnGTT\\_22518501\\_22518531\\_3tRNAr &   207 &   232 &   276 &   65 &   67 &   161\\\\\n",
       "\tchr10\\_PseudoCAA\\_34591396\\_34591426\\_5tRNAr &     3 &     0 &     0 &    0 &    0 &     0\\\\\n",
       "\tchr10\\_PseudoCAA\\_34591416\\_34591483\\_total &     3 &     0 &     0 &    0 &    1 &     0\\\\\n",
       "\tchr10\\_PseudoCAA\\_34591473\\_34591503\\_3tRNAr &     3 &     0 &     0 &    0 &    1 &     0\\\\\n",
       "\\end{tabular}\n",
       "\n",
       "\\item[\\$samples] A data.frame: 6 × 3\n",
       "\\begin{tabular}{r|lll}\n",
       "  & group & lib.size & norm.factors\\\\\n",
       "  & <fct> & <dbl> & <dbl>\\\\\n",
       "\\hline\n",
       "\tA549CellCiptapRep3 & Ce & 58393208 & 1\\\\\n",
       "\tA549CellCiptapRep4 & Ce & 81517906 & 1\\\\\n",
       "\tA549CytosolCiptapRep3 & Cy & 72547811 & 1\\\\\n",
       "\tA549CytosolCiptapRep4 & Cy &  2514860 & 1\\\\\n",
       "\tA549NucleusCiptapRep3 & Nu &  1803277 & 1\\\\\n",
       "\tA549NucleusCiptapRep4 & Nu & 25392617 & 1\\\\\n",
       "\\end{tabular}\n",
       "\n",
       "\\end{description}\n"
      ],
      "text/markdown": [
       "$counts\n",
       ":   \n",
       "A matrix: 6 × 6 of type int\n",
       "\n",
       "| <!--/--> | A549CellCiptapRep3 | A549CellCiptapRep4 | A549CytosolCiptapRep3 | A549CytosolCiptapRep4 | A549NucleusCiptapRep3 | A549NucleusCiptapRep4 |\n",
       "|---|---|---|---|---|---|---|\n",
       "| chr10_AsnGTT_22518418_22518448_5tRNAr | 21324 | 20495 | 20115 | 2626 | 1770 |  9826 |\n",
       "| chr10_AsnGTT_22518438_22518511_total | 21831 | 21065 | 20373 | 2693 | 1839 | 10038 |\n",
       "| chr10_AsnGTT_22518501_22518531_3tRNAr |   207 |   232 |   276 |   65 |   67 |   161 |\n",
       "| chr10_PseudoCAA_34591396_34591426_5tRNAr |     3 |     0 |     0 |    0 |    0 |     0 |\n",
       "| chr10_PseudoCAA_34591416_34591483_total |     3 |     0 |     0 |    0 |    1 |     0 |\n",
       "| chr10_PseudoCAA_34591473_34591503_3tRNAr |     3 |     0 |     0 |    0 |    1 |     0 |\n",
       "\n",
       "\n",
       "$samples\n",
       ":   \n",
       "A data.frame: 6 × 3\n",
       "\n",
       "| <!--/--> | group &lt;fct&gt; | lib.size &lt;dbl&gt; | norm.factors &lt;dbl&gt; |\n",
       "|---|---|---|---|\n",
       "| A549CellCiptapRep3 | Ce | 58393208 | 1 |\n",
       "| A549CellCiptapRep4 | Ce | 81517906 | 1 |\n",
       "| A549CytosolCiptapRep3 | Cy | 72547811 | 1 |\n",
       "| A549CytosolCiptapRep4 | Cy |  2514860 | 1 |\n",
       "| A549NucleusCiptapRep3 | Nu |  1803277 | 1 |\n",
       "| A549NucleusCiptapRep4 | Nu | 25392617 | 1 |\n",
       "\n",
       "\n",
       "\n",
       "\n"
      ],
      "text/plain": [
       "An object of class \"DGEList\"\n",
       "$counts\n",
       "                                         A549CellCiptapRep3 A549CellCiptapRep4\n",
       "chr10_AsnGTT_22518418_22518448_5tRNAr                 21324              20495\n",
       "chr10_AsnGTT_22518438_22518511_total                  21831              21065\n",
       "chr10_AsnGTT_22518501_22518531_3tRNAr                   207                232\n",
       "chr10_PseudoCAA_34591396_34591426_5tRNAr                  3                  0\n",
       "chr10_PseudoCAA_34591416_34591483_total                   3                  0\n",
       "chr10_PseudoCAA_34591473_34591503_3tRNAr                  3                  0\n",
       "                                         A549CytosolCiptapRep3\n",
       "chr10_AsnGTT_22518418_22518448_5tRNAr                    20115\n",
       "chr10_AsnGTT_22518438_22518511_total                     20373\n",
       "chr10_AsnGTT_22518501_22518531_3tRNAr                      276\n",
       "chr10_PseudoCAA_34591396_34591426_5tRNAr                     0\n",
       "chr10_PseudoCAA_34591416_34591483_total                      0\n",
       "chr10_PseudoCAA_34591473_34591503_3tRNAr                     0\n",
       "                                         A549CytosolCiptapRep4\n",
       "chr10_AsnGTT_22518418_22518448_5tRNAr                     2626\n",
       "chr10_AsnGTT_22518438_22518511_total                      2693\n",
       "chr10_AsnGTT_22518501_22518531_3tRNAr                       65\n",
       "chr10_PseudoCAA_34591396_34591426_5tRNAr                     0\n",
       "chr10_PseudoCAA_34591416_34591483_total                      0\n",
       "chr10_PseudoCAA_34591473_34591503_3tRNAr                     0\n",
       "                                         A549NucleusCiptapRep3\n",
       "chr10_AsnGTT_22518418_22518448_5tRNAr                     1770\n",
       "chr10_AsnGTT_22518438_22518511_total                      1839\n",
       "chr10_AsnGTT_22518501_22518531_3tRNAr                       67\n",
       "chr10_PseudoCAA_34591396_34591426_5tRNAr                     0\n",
       "chr10_PseudoCAA_34591416_34591483_total                      1\n",
       "chr10_PseudoCAA_34591473_34591503_3tRNAr                     1\n",
       "                                         A549NucleusCiptapRep4\n",
       "chr10_AsnGTT_22518418_22518448_5tRNAr                     9826\n",
       "chr10_AsnGTT_22518438_22518511_total                     10038\n",
       "chr10_AsnGTT_22518501_22518531_3tRNAr                      161\n",
       "chr10_PseudoCAA_34591396_34591426_5tRNAr                     0\n",
       "chr10_PseudoCAA_34591416_34591483_total                      0\n",
       "chr10_PseudoCAA_34591473_34591503_3tRNAr                     0\n",
       "\n",
       "$samples\n",
       "                      group lib.size norm.factors\n",
       "A549CellCiptapRep3       Ce 58393208            1\n",
       "A549CellCiptapRep4       Ce 81517906            1\n",
       "A549CytosolCiptapRep3    Cy 72547811            1\n",
       "A549CytosolCiptapRep4    Cy  2514860            1\n",
       "A549NucleusCiptapRep3    Nu  1803277            1\n",
       "A549NucleusCiptapRep4    Nu 25392617            1\n"
      ]
     },
     "metadata": {},
     "output_type": "display_data"
    }
   ],
   "source": [
    "data <- read.table(\n",
    "  file = \"Private_Data/A549citap/A549_real_Ciptap.total.merged.txt\",\n",
    "  header = TRUE, row.names = 1\n",
    ")\n",
    "\n",
    "\n",
    "# By default, factor is in alphabetical order\n",
    "## to change the reference level: relevel(group, ref=\"new_reference\")\n",
    "group <- factor(c(\"Ce\", \"Ce\", \"Cy\", \"Cy\", \"Nu\", \"Nu\"))\n",
    "data <- DGEList(counts = data, group = group)\n",
    "head(data)\n"
   ]
  },
  {
   "cell_type": "markdown",
   "metadata": {},
   "source": [
    "## 2. Filtering\n",
    "\n",
    "Nótese el cambio en los tamaños de las bibliotecas:"
   ]
  },
  {
   "cell_type": "code",
   "execution_count": 3,
   "metadata": {
    "vscode": {
     "languageId": "r"
    }
   },
   "outputs": [
    {
     "data": {
      "text/html": [
       "<table class=\"dataframe\">\n",
       "<caption>A data.frame: 6 × 3</caption>\n",
       "<thead>\n",
       "\t<tr><th></th><th scope=col>group</th><th scope=col>lib.size</th><th scope=col>norm.factors</th></tr>\n",
       "\t<tr><th></th><th scope=col>&lt;fct&gt;</th><th scope=col>&lt;dbl&gt;</th><th scope=col>&lt;dbl&gt;</th></tr>\n",
       "</thead>\n",
       "<tbody>\n",
       "\t<tr><th scope=row>A549CellCiptapRep3</th><td>Ce</td><td>57972247</td><td>1</td></tr>\n",
       "\t<tr><th scope=row>A549CellCiptapRep4</th><td>Ce</td><td>81008385</td><td>1</td></tr>\n",
       "\t<tr><th scope=row>A549CytosolCiptapRep3</th><td>Cy</td><td>72015467</td><td>1</td></tr>\n",
       "\t<tr><th scope=row>A549CytosolCiptapRep4</th><td>Cy</td><td> 2455607</td><td>1</td></tr>\n",
       "\t<tr><th scope=row>A549NucleusCiptapRep3</th><td>Nu</td><td> 1759300</td><td>1</td></tr>\n",
       "\t<tr><th scope=row>A549NucleusCiptapRep4</th><td>Nu</td><td>25185439</td><td>1</td></tr>\n",
       "</tbody>\n",
       "</table>\n"
      ],
      "text/latex": [
       "A data.frame: 6 × 3\n",
       "\\begin{tabular}{r|lll}\n",
       "  & group & lib.size & norm.factors\\\\\n",
       "  & <fct> & <dbl> & <dbl>\\\\\n",
       "\\hline\n",
       "\tA549CellCiptapRep3 & Ce & 57972247 & 1\\\\\n",
       "\tA549CellCiptapRep4 & Ce & 81008385 & 1\\\\\n",
       "\tA549CytosolCiptapRep3 & Cy & 72015467 & 1\\\\\n",
       "\tA549CytosolCiptapRep4 & Cy &  2455607 & 1\\\\\n",
       "\tA549NucleusCiptapRep3 & Nu &  1759300 & 1\\\\\n",
       "\tA549NucleusCiptapRep4 & Nu & 25185439 & 1\\\\\n",
       "\\end{tabular}\n"
      ],
      "text/markdown": [
       "\n",
       "A data.frame: 6 × 3\n",
       "\n",
       "| <!--/--> | group &lt;fct&gt; | lib.size &lt;dbl&gt; | norm.factors &lt;dbl&gt; |\n",
       "|---|---|---|---|\n",
       "| A549CellCiptapRep3 | Ce | 57972247 | 1 |\n",
       "| A549CellCiptapRep4 | Ce | 81008385 | 1 |\n",
       "| A549CytosolCiptapRep3 | Cy | 72015467 | 1 |\n",
       "| A549CytosolCiptapRep4 | Cy |  2455607 | 1 |\n",
       "| A549NucleusCiptapRep3 | Nu |  1759300 | 1 |\n",
       "| A549NucleusCiptapRep4 | Nu | 25185439 | 1 |\n",
       "\n"
      ],
      "text/plain": [
       "                      group lib.size norm.factors\n",
       "A549CellCiptapRep3    Ce    57972247 1           \n",
       "A549CellCiptapRep4    Ce    81008385 1           \n",
       "A549CytosolCiptapRep3 Cy    72015467 1           \n",
       "A549CytosolCiptapRep4 Cy     2455607 1           \n",
       "A549NucleusCiptapRep3 Nu     1759300 1           \n",
       "A549NucleusCiptapRep4 Nu    25185439 1           "
      ]
     },
     "metadata": {},
     "output_type": "display_data"
    }
   ],
   "source": [
    "# filtering keeps genes that have CPM >= CPM.cutoff in MinSampleSize samples,\n",
    "#   where CPM.cutoff = min.count/median(lib.size)*1e6 and MinSampleSize is the\n",
    "#   smallest group sample size or, more generally, the minimum inverse leverage\n",
    "#   computed from the design matrix.\n",
    "\n",
    "# keep <- filterByExpr(data, group = group, min.count = 10)\n",
    "keep <- rowSums(cpm(data) > 100) >= 1\n",
    "data <- data[keep, , keep.lib.sizes = FALSE]\n",
    "data$samples\n"
   ]
  },
  {
   "cell_type": "markdown",
   "metadata": {},
   "source": [
    "## 3. Normalization\n",
    "\n",
    "edgeR realiza la normalización mediante factores de corrección en el modelo. NO TRANSFORMA los datos. NO se debe ingresar datos transformados tampoco (e.g. RPKM o FPKM)\n",
    "\n",
    "- En general, solo se necesita normalizar __efectos específicos de muestra__. Por ejemplo, el tamaño del gen influencia el conteo de reads, pero al comparar entre muestras cada gen, estos al tener la misma longitud, en principio, tiene un efecto pequeño e históricamente no se suele tener en cuenta.\n",
    "- La profundidad de secuenciación afecta el conteo de lecturas. edgeR ajusta este efecto automáticamente.\n",
    "- Históricamente el contenido GC cambia poco entre muestras, pero algunos estudios han mostrado efectos __específicos de muestra__.\n",
    "- Genes muy expresados pueden causar que otros sean sub-muestreados. "
   ]
  },
  {
   "cell_type": "code",
   "execution_count": 4,
   "metadata": {
    "vscode": {
     "languageId": "r"
    }
   },
   "outputs": [],
   "source": [
    "# Calculate scaling factors to convert the raw library sizes for a\n",
    "#   set of sequenced samples into normalized effective library sizes.\n",
    "\n",
    "# normLibSizes is the new name for calcNormFactors. The two functions\n",
    "#   are equivalent but calcNormFactors will eventually be retired.\n",
    "\n",
    "# method TMMwsp: This is a variant of TMM that is intended to have more stable\n",
    "#   performance when the counts have a high proportion of zeros.\n",
    "data_normalized <- normLibSizes(data, method = \"TMMwsp\")\n"
   ]
  },
  {
   "cell_type": "markdown",
   "metadata": {},
   "source": [
    "> \"The effective library sizes for use in downstream analysis\n",
    "are lib.size \\* norm.factors where lib.size contains the original library sizes and norm.factors\n",
    "is the vector of scaling factors computed by this function.\"\n",
    "\n",
    "Nótese como ha cambiado el data frame samples. lib.size se mantiene, lo que cambia es norm.factors:"
   ]
  },
  {
   "cell_type": "code",
   "execution_count": 5,
   "metadata": {
    "vscode": {
     "languageId": "r"
    }
   },
   "outputs": [
    {
     "name": "stdout",
     "output_type": "stream",
     "text": [
      "Samples data after normalization:"
     ]
    },
    {
     "data": {
      "text/html": [
       "<table class=\"dataframe\">\n",
       "<caption>A data.frame: 6 × 3</caption>\n",
       "<thead>\n",
       "\t<tr><th></th><th scope=col>group</th><th scope=col>lib.size</th><th scope=col>norm.factors</th></tr>\n",
       "\t<tr><th></th><th scope=col>&lt;fct&gt;</th><th scope=col>&lt;dbl&gt;</th><th scope=col>&lt;dbl&gt;</th></tr>\n",
       "</thead>\n",
       "<tbody>\n",
       "\t<tr><th scope=row>A549CellCiptapRep3</th><td>Ce</td><td>57972247</td><td>0.7471236</td></tr>\n",
       "\t<tr><th scope=row>A549CellCiptapRep4</th><td>Ce</td><td>81008385</td><td>0.6731451</td></tr>\n",
       "\t<tr><th scope=row>A549CytosolCiptapRep3</th><td>Cy</td><td>72015467</td><td>0.7039582</td></tr>\n",
       "\t<tr><th scope=row>A549CytosolCiptapRep4</th><td>Cy</td><td> 2455607</td><td>2.0801886</td></tr>\n",
       "\t<tr><th scope=row>A549NucleusCiptapRep3</th><td>Nu</td><td> 1759300</td><td>1.7577137</td></tr>\n",
       "\t<tr><th scope=row>A549NucleusCiptapRep4</th><td>Nu</td><td>25185439</td><td>0.7725047</td></tr>\n",
       "</tbody>\n",
       "</table>\n"
      ],
      "text/latex": [
       "A data.frame: 6 × 3\n",
       "\\begin{tabular}{r|lll}\n",
       "  & group & lib.size & norm.factors\\\\\n",
       "  & <fct> & <dbl> & <dbl>\\\\\n",
       "\\hline\n",
       "\tA549CellCiptapRep3 & Ce & 57972247 & 0.7471236\\\\\n",
       "\tA549CellCiptapRep4 & Ce & 81008385 & 0.6731451\\\\\n",
       "\tA549CytosolCiptapRep3 & Cy & 72015467 & 0.7039582\\\\\n",
       "\tA549CytosolCiptapRep4 & Cy &  2455607 & 2.0801886\\\\\n",
       "\tA549NucleusCiptapRep3 & Nu &  1759300 & 1.7577137\\\\\n",
       "\tA549NucleusCiptapRep4 & Nu & 25185439 & 0.7725047\\\\\n",
       "\\end{tabular}\n"
      ],
      "text/markdown": [
       "\n",
       "A data.frame: 6 × 3\n",
       "\n",
       "| <!--/--> | group &lt;fct&gt; | lib.size &lt;dbl&gt; | norm.factors &lt;dbl&gt; |\n",
       "|---|---|---|---|\n",
       "| A549CellCiptapRep3 | Ce | 57972247 | 0.7471236 |\n",
       "| A549CellCiptapRep4 | Ce | 81008385 | 0.6731451 |\n",
       "| A549CytosolCiptapRep3 | Cy | 72015467 | 0.7039582 |\n",
       "| A549CytosolCiptapRep4 | Cy |  2455607 | 2.0801886 |\n",
       "| A549NucleusCiptapRep3 | Nu |  1759300 | 1.7577137 |\n",
       "| A549NucleusCiptapRep4 | Nu | 25185439 | 0.7725047 |\n",
       "\n"
      ],
      "text/plain": [
       "                      group lib.size norm.factors\n",
       "A549CellCiptapRep3    Ce    57972247 0.7471236   \n",
       "A549CellCiptapRep4    Ce    81008385 0.6731451   \n",
       "A549CytosolCiptapRep3 Cy    72015467 0.7039582   \n",
       "A549CytosolCiptapRep4 Cy     2455607 2.0801886   \n",
       "A549NucleusCiptapRep3 Nu     1759300 1.7577137   \n",
       "A549NucleusCiptapRep4 Nu    25185439 0.7725047   "
      ]
     },
     "metadata": {},
     "output_type": "display_data"
    }
   ],
   "source": [
    "cat(\"Samples data after normalization:\")\n",
    "data_normalized$samples\n"
   ]
  },
  {
   "cell_type": "code",
   "execution_count": 6,
   "metadata": {
    "vscode": {
     "languageId": "r"
    }
   },
   "outputs": [
    {
     "data": {
      "image/png": "[encoded data removed]",
      "text/plain": [
       "plot without title"
      ]
     },
     "metadata": {
      "image/png": {
       "height": 420,
       "width": 420
      }
     },
     "output_type": "display_data"
    }
   ],
   "source": [
    "# Data exploration\n",
    "plotMDS(data_normalized)\n"
   ]
  },
  {
   "cell_type": "markdown",
   "metadata": {},
   "source": [
    "## 4. General experiments (i.e., multiple factors) - Dispersion estimation\n",
    "\n",
    ">\"Assuming that an estimate is available for $\\Phi_g$, so the variance can be evaluated for any value of $\\mu_{gi}$, GLM theory can be used to fit a log-linear model for each gene\"\n",
    "\n",
    "$$\\text{log }\\mu_{gi} = x_i^T \\beta_g + \\text{log } N_i$$\n",
    "\n",
    "- $x_i^T $ covariates vector specifying treatment conditions\n",
    "- $ \\beta_g$ regresión coefficients vector"
   ]
  },
  {
   "cell_type": "markdown",
   "metadata": {},
   "source": [
    "Notice the new components added to data:"
   ]
  },
  {
   "cell_type": "code",
   "execution_count": 7,
   "metadata": {
    "vscode": {
     "languageId": "r"
    }
   },
   "outputs": [
    {
     "name": "stdout",
     "output_type": "stream",
     "text": [
      "Before dispersion estimation:\n",
      "  - counts\n",
      "  - samples"
     ]
    }
   ],
   "source": [
    "cat(\"Before dispersion estimation:\\n\")\n",
    "cat(paste(\"  -\", names(data_normalized), collapse = \"\\n\"))\n"
   ]
  },
  {
   "cell_type": "code",
   "execution_count": 8,
   "metadata": {
    "vscode": {
     "languageId": "r"
    }
   },
   "outputs": [
    {
     "name": "stdout",
     "output_type": "stream",
     "text": [
      "After dispersion estimation:\n",
      "  - counts\n",
      "  - samples\n",
      "  - design\n",
      "  - common.dispersion\n",
      "  - trended.dispersion\n",
      "  - tagwise.dispersion\n",
      "  - AveLogCPM\n",
      "  - trend.method\n",
      "  - prior.df\n",
      "  - prior.n\n",
      "  - span"
     ]
    }
   ],
   "source": [
    "# Dispersion estimation\n",
    "\n",
    "# here, the firs group is the intersect; then, the first coefficient\n",
    "#   will measure the baseline logCPM, and the later columns are\n",
    "#   relative to the baseline\n",
    "design <- model.matrix(~group, data = data$samples)\n",
    "\n",
    "# Estimate Common, Trended and Tagwise Negative Binomial dispersions\n",
    "#   by weighted likelihood empirical Bayes\n",
    "data_normalized <- estimateDisp(data_normalized, design)\n",
    "cat(\"After dispersion estimation:\\n\")\n",
    "cat(paste(\"  -\", names(data_normalized), collapse = \"\\n\"))\n"
   ]
  },
  {
   "cell_type": "code",
   "execution_count": 9,
   "metadata": {
    "vscode": {
     "languageId": "r"
    }
   },
   "outputs": [
    {
     "name": "stdout",
     "output_type": "stream",
     "text": [
      "Common dispersion:  0.2769269 \n"
     ]
    },
    {
     "data": {
      "image/png": "[encoded data removed]",
      "text/plain": [
       "plot without title"
      ]
     },
     "metadata": {
      "image/png": {
       "height": 420,
       "width": 420
      }
     },
     "output_type": "display_data"
    }
   ],
   "source": [
    "cat(\"Common dispersion: \", data_normalized$common.dispersion, \"\\n\")\n",
    "plotBCV(data_normalized)\n"
   ]
  },
  {
   "cell_type": "markdown",
   "metadata": {},
   "source": [
    "## 5. General experiments (i.e., multiple factors) - Model fit and DE genes testing\n",
    "\n",
    ">\"The QL F-test is preferred as it reflects the uncertainty in estimating the dispersion for each gene. It provides more robust and reliable error rate control when the number of replicates is small.\""
   ]
  },
  {
   "cell_type": "code",
   "execution_count": 10,
   "metadata": {
    "vscode": {
     "languageId": "r"
    }
   },
   "outputs": [
    {
     "name": "stdout",
     "output_type": "stream",
     "text": [
      "fit is a 'DGEGLM' class object:\n",
      "  - coefficients\n",
      "  - fitted.values\n",
      "  - deviance\n",
      "  - method\n",
      "  - counts\n",
      "  - unshrunk.coefficients\n",
      "  - df.residual\n",
      "  - design\n",
      "  - offset\n",
      "  - dispersion\n",
      "  - prior.count\n",
      "  - AveLogCPM\n",
      "  - df.residual.zeros\n",
      "  - df.prior\n",
      "  - var.post\n",
      "  - var.prior\n",
      "  - samples"
     ]
    }
   ],
   "source": [
    "# Model Fit\n",
    "# Fit a negative binomial generalized log-linear model to the read counts for\n",
    "#   each gene Estimate the genewise quasi-dispersions with empirical\n",
    "#   Bayes moderation.\n",
    "\n",
    "fit <- glmQLFit(data_normalized)\n",
    "cat(\"fit is a 'DGEGLM' class object:\\n\")\n",
    "cat(paste(\"  -\", names(fit), collapse = \"\\n\"))\n"
   ]
  },
  {
   "cell_type": "code",
   "execution_count": 11,
   "metadata": {
    "vscode": {
     "languageId": "r"
    }
   },
   "outputs": [
    {
     "data": {
      "image/png": "[encoded data removed]",
      "text/plain": [
       "plot without title"
      ]
     },
     "metadata": {
      "image/png": {
       "height": 420,
       "width": 420
      }
     },
     "output_type": "display_data"
    }
   ],
   "source": [
    "plotQLDisp(fit)\n"
   ]
  },
  {
   "cell_type": "code",
   "execution_count": 12,
   "metadata": {
    "vscode": {
     "languageId": "r"
    }
   },
   "outputs": [
    {
     "name": "stdout",
     "output_type": "stream",
     "text": [
      "comparison: groupNu"
     ]
    }
   ],
   "source": [
    "# Quasi-Likelihood F-Tests: Conduct genewise quasi F-tests\n",
    "#   for a given coefficient or coefficient contrast.\n",
    "\n",
    "# - coef: integer or character index vector indicating which\n",
    "#   coefficients of the linear model are to be tested equal to zero.\n",
    "#   Default is  ncol(glmfit$design)\n",
    "\n",
    "# - contrast: numeric vector or matrix specifying one or more contrasts\n",
    "#   of the linear model coefficients to be tested equal to zero.\n",
    "\n",
    "qlf_last_vs_1 <- glmQLFTest(glmfit = fit)\n",
    "cat(\"comparison:\", qlf_last_vs_1$comparison)\n"
   ]
  },
  {
   "cell_type": "code",
   "execution_count": 13,
   "metadata": {
    "vscode": {
     "languageId": "r"
    }
   },
   "outputs": [
    {
     "name": "stdout",
     "output_type": "stream",
     "text": [
      "qlf_3_vs_1 comparison: groupNu \n",
      "qlf_2_vs_1 comparison: groupCy \n",
      "qlf_3_vs_2 comparison: -1*groupCy 1*groupNu \n"
     ]
    }
   ],
   "source": [
    "# Other examples\n",
    "\n",
    "# H0: coef_3 - coef_1 = 0\n",
    "qlf_3_vs_1 <- glmQLFTest(glmfit = fit, coef = 3)\n",
    "cat(\"qlf_3_vs_1 comparison:\", qlf_3_vs_1$comparison, \"\\n\")\n",
    "\n",
    "# H0: coef_2 - coef_1 = 0\n",
    "qlf_2_vs_1 <- glmQLFTest(glmfit = fit, coef = 2)\n",
    "cat(\"qlf_2_vs_1 comparison:\", qlf_2_vs_1$comparison, \"\\n\")\n",
    "\n",
    "# H0: coef_3 - coef_2 = 0\n",
    "qlf_3_vs_2 <- glmQLFTest(glmfit = fit, contrast = c(0, -1, 1))\n",
    "cat(\"qlf_3_vs_2 comparison:\", qlf_3_vs_2$comparison, \"\\n\")\n"
   ]
  },
  {
   "cell_type": "markdown",
   "metadata": {},
   "source": [
    ">\"It might be of interest to find genes that are DE between any of the groups, without specifying before-hand which groups might be different.\""
   ]
  },
  {
   "cell_type": "code",
   "execution_count": 14,
   "metadata": {
    "vscode": {
     "languageId": "r"
    }
   },
   "outputs": [
    {
     "name": "stdout",
     "output_type": "stream",
     "text": [
      "qlf_any comparison: groupCy groupNu \n"
     ]
    }
   ],
   "source": [
    "# ANOVA-like test for any differences\n",
    "qlf_any <- glmQLFTest(glmfit = fit, coef = 2:ncol(fit$design))\n",
    "cat(\"qlf_any comparison:\", qlf_any$comparison, \"\\n\")\n"
   ]
  },
  {
   "cell_type": "code",
   "execution_count": 15,
   "metadata": {
    "vscode": {
     "languageId": "r"
    }
   },
   "outputs": [
    {
     "data": {
      "text/html": [
       "<dl>\n",
       "\t<dt>$table</dt>\n",
       "\t\t<dd><table class=\"dataframe\">\n",
       "<caption>A data.frame: 10 × 5</caption>\n",
       "<thead>\n",
       "\t<tr><th></th><th scope=col>logFC</th><th scope=col>logCPM</th><th scope=col>F</th><th scope=col>PValue</th><th scope=col>FDR</th></tr>\n",
       "\t<tr><th></th><th scope=col>&lt;dbl&gt;</th><th scope=col>&lt;dbl&gt;</th><th scope=col>&lt;dbl&gt;</th><th scope=col>&lt;dbl&gt;</th><th scope=col>&lt;dbl&gt;</th></tr>\n",
       "</thead>\n",
       "<tbody>\n",
       "\t<tr><th scope=row>chr17_ProCGG_8126131_8126161_5tRNAr</th><td>1.8219405</td><td>7.488156</td><td>13.383011</td><td>0.01114775</td><td>0.7063384</td></tr>\n",
       "\t<tr><th scope=row>chr16_ProTGG_3234113_3234143_5tRNAr</th><td>1.2262359</td><td>8.823780</td><td> 9.561817</td><td>0.02213236</td><td>0.7063384</td></tr>\n",
       "\t<tr><th scope=row>chr16_ProTGG_3238155_3238185_3tRNAr</th><td>1.3495025</td><td>8.553441</td><td> 9.306744</td><td>0.02331879</td><td>0.7063384</td></tr>\n",
       "\t<tr><th scope=row>chr16_ProTGG_3234133_3234204_total</th><td>1.1669233</td><td>8.983703</td><td> 7.815329</td><td>0.03231372</td><td>0.7063384</td></tr>\n",
       "\t<tr><th scope=row>chr16_ProTGG_3238094_3238165_total</th><td>1.2571971</td><td>8.732222</td><td> 7.520138</td><td>0.03463230</td><td>0.7063384</td></tr>\n",
       "\t<tr><th scope=row>chr6_GluCTC_126101373_126101403_5tRNAr</th><td>0.9154560</td><td>8.401212</td><td> 7.489307</td><td>0.03488733</td><td>0.7063384</td></tr>\n",
       "\t<tr><th scope=row>chr1_GluCTC_145399213_145399243_5tRNAr</th><td>0.9201261</td><td>8.883381</td><td> 7.463848</td><td>0.03509985</td><td>0.7063384</td></tr>\n",
       "\t<tr><th scope=row>chr6_GluCTC_28950037_28950067_3tRNAr</th><td>0.9021876</td><td>8.872419</td><td> 7.258284</td><td>0.03688189</td><td>0.7063384</td></tr>\n",
       "\t<tr><th scope=row>chr19_GlyTCC_4724143_4724173_3tRNAr</th><td>1.7134834</td><td>5.160221</td><td> 7.056060</td><td>0.03875693</td><td>0.7063384</td></tr>\n",
       "\t<tr><th scope=row>chr16_ArgCCT_3202901_3202973_total</th><td>0.8329538</td><td>7.808673</td><td> 6.848791</td><td>0.04081562</td><td>0.7063384</td></tr>\n",
       "</tbody>\n",
       "</table>\n",
       "</dd>\n",
       "\t<dt>$adjust.method</dt>\n",
       "\t\t<dd>'BH'</dd>\n",
       "\t<dt>$comparison</dt>\n",
       "\t\t<dd>'groupCy'</dd>\n",
       "\t<dt>$test</dt>\n",
       "\t\t<dd>'glm'</dd>\n",
       "</dl>\n"
      ],
      "text/latex": [
       "\\begin{description}\n",
       "\\item[\\$table] A data.frame: 10 × 5\n",
       "\\begin{tabular}{r|lllll}\n",
       "  & logFC & logCPM & F & PValue & FDR\\\\\n",
       "  & <dbl> & <dbl> & <dbl> & <dbl> & <dbl>\\\\\n",
       "\\hline\n",
       "\tchr17\\_ProCGG\\_8126131\\_8126161\\_5tRNAr & 1.8219405 & 7.488156 & 13.383011 & 0.01114775 & 0.7063384\\\\\n",
       "\tchr16\\_ProTGG\\_3234113\\_3234143\\_5tRNAr & 1.2262359 & 8.823780 &  9.561817 & 0.02213236 & 0.7063384\\\\\n",
       "\tchr16\\_ProTGG\\_3238155\\_3238185\\_3tRNAr & 1.3495025 & 8.553441 &  9.306744 & 0.02331879 & 0.7063384\\\\\n",
       "\tchr16\\_ProTGG\\_3234133\\_3234204\\_total & 1.1669233 & 8.983703 &  7.815329 & 0.03231372 & 0.7063384\\\\\n",
       "\tchr16\\_ProTGG\\_3238094\\_3238165\\_total & 1.2571971 & 8.732222 &  7.520138 & 0.03463230 & 0.7063384\\\\\n",
       "\tchr6\\_GluCTC\\_126101373\\_126101403\\_5tRNAr & 0.9154560 & 8.401212 &  7.489307 & 0.03488733 & 0.7063384\\\\\n",
       "\tchr1\\_GluCTC\\_145399213\\_145399243\\_5tRNAr & 0.9201261 & 8.883381 &  7.463848 & 0.03509985 & 0.7063384\\\\\n",
       "\tchr6\\_GluCTC\\_28950037\\_28950067\\_3tRNAr & 0.9021876 & 8.872419 &  7.258284 & 0.03688189 & 0.7063384\\\\\n",
       "\tchr19\\_GlyTCC\\_4724143\\_4724173\\_3tRNAr & 1.7134834 & 5.160221 &  7.056060 & 0.03875693 & 0.7063384\\\\\n",
       "\tchr16\\_ArgCCT\\_3202901\\_3202973\\_total & 0.8329538 & 7.808673 &  6.848791 & 0.04081562 & 0.7063384\\\\\n",
       "\\end{tabular}\n",
       "\n",
       "\\item[\\$adjust.method] 'BH'\n",
       "\\item[\\$comparison] 'groupCy'\n",
       "\\item[\\$test] 'glm'\n",
       "\\end{description}\n"
      ],
      "text/markdown": [
       "$table\n",
       ":   \n",
       "A data.frame: 10 × 5\n",
       "\n",
       "| <!--/--> | logFC &lt;dbl&gt; | logCPM &lt;dbl&gt; | F &lt;dbl&gt; | PValue &lt;dbl&gt; | FDR &lt;dbl&gt; |\n",
       "|---|---|---|---|---|---|\n",
       "| chr17_ProCGG_8126131_8126161_5tRNAr | 1.8219405 | 7.488156 | 13.383011 | 0.01114775 | 0.7063384 |\n",
       "| chr16_ProTGG_3234113_3234143_5tRNAr | 1.2262359 | 8.823780 |  9.561817 | 0.02213236 | 0.7063384 |\n",
       "| chr16_ProTGG_3238155_3238185_3tRNAr | 1.3495025 | 8.553441 |  9.306744 | 0.02331879 | 0.7063384 |\n",
       "| chr16_ProTGG_3234133_3234204_total | 1.1669233 | 8.983703 |  7.815329 | 0.03231372 | 0.7063384 |\n",
       "| chr16_ProTGG_3238094_3238165_total | 1.2571971 | 8.732222 |  7.520138 | 0.03463230 | 0.7063384 |\n",
       "| chr6_GluCTC_126101373_126101403_5tRNAr | 0.9154560 | 8.401212 |  7.489307 | 0.03488733 | 0.7063384 |\n",
       "| chr1_GluCTC_145399213_145399243_5tRNAr | 0.9201261 | 8.883381 |  7.463848 | 0.03509985 | 0.7063384 |\n",
       "| chr6_GluCTC_28950037_28950067_3tRNAr | 0.9021876 | 8.872419 |  7.258284 | 0.03688189 | 0.7063384 |\n",
       "| chr19_GlyTCC_4724143_4724173_3tRNAr | 1.7134834 | 5.160221 |  7.056060 | 0.03875693 | 0.7063384 |\n",
       "| chr16_ArgCCT_3202901_3202973_total | 0.8329538 | 7.808673 |  6.848791 | 0.04081562 | 0.7063384 |\n",
       "\n",
       "\n",
       "$adjust.method\n",
       ":   'BH'\n",
       "$comparison\n",
       ":   'groupCy'\n",
       "$test\n",
       ":   'glm'\n",
       "\n",
       "\n"
      ],
      "text/plain": [
       "Coefficient:  groupCy \n",
       "                                           logFC   logCPM         F     PValue\n",
       "chr17_ProCGG_8126131_8126161_5tRNAr    1.8219405 7.488156 13.383011 0.01114775\n",
       "chr16_ProTGG_3234113_3234143_5tRNAr    1.2262359 8.823780  9.561817 0.02213236\n",
       "chr16_ProTGG_3238155_3238185_3tRNAr    1.3495025 8.553441  9.306744 0.02331879\n",
       "chr16_ProTGG_3234133_3234204_total     1.1669233 8.983703  7.815329 0.03231372\n",
       "chr16_ProTGG_3238094_3238165_total     1.2571971 8.732222  7.520138 0.03463230\n",
       "chr6_GluCTC_126101373_126101403_5tRNAr 0.9154560 8.401212  7.489307 0.03488733\n",
       "chr1_GluCTC_145399213_145399243_5tRNAr 0.9201261 8.883381  7.463848 0.03509985\n",
       "chr6_GluCTC_28950037_28950067_3tRNAr   0.9021876 8.872419  7.258284 0.03688189\n",
       "chr19_GlyTCC_4724143_4724173_3tRNAr    1.7134834 5.160221  7.056060 0.03875693\n",
       "chr16_ArgCCT_3202901_3202973_total     0.8329538 7.808673  6.848791 0.04081562\n",
       "                                             FDR\n",
       "chr17_ProCGG_8126131_8126161_5tRNAr    0.7063384\n",
       "chr16_ProTGG_3234113_3234143_5tRNAr    0.7063384\n",
       "chr16_ProTGG_3238155_3238185_3tRNAr    0.7063384\n",
       "chr16_ProTGG_3234133_3234204_total     0.7063384\n",
       "chr16_ProTGG_3238094_3238165_total     0.7063384\n",
       "chr6_GluCTC_126101373_126101403_5tRNAr 0.7063384\n",
       "chr1_GluCTC_145399213_145399243_5tRNAr 0.7063384\n",
       "chr6_GluCTC_28950037_28950067_3tRNAr   0.7063384\n",
       "chr19_GlyTCC_4724143_4724173_3tRNAr    0.7063384\n",
       "chr16_ArgCCT_3202901_3202973_total     0.7063384"
      ]
     },
     "metadata": {},
     "output_type": "display_data"
    }
   ],
   "source": [
    "# Table rows = min(n, number of genes with adjusted p-value <= cutoff p-value)\n",
    "#   default cutoff is 1!!!\n",
    "# FDR: false discovery rate (only when adjust.method is \"BH\", \"BY\" or \"fdr\")\n",
    "topTags(qlf_2_vs_1)\n"
   ]
  },
  {
   "cell_type": "code",
   "execution_count": 16,
   "metadata": {
    "vscode": {
     "languageId": "r"
    }
   },
   "outputs": [
    {
     "data": {
      "image/png": "[encoded data removed]",
      "text/plain": [
       "Plot with title “groupCy”"
      ]
     },
     "metadata": {
      "image/png": {
       "height": 420,
       "width": 420
      }
     },
     "output_type": "display_data"
    }
   ],
   "source": [
    "plotMD(qlf_2_vs_1)\n",
    "abline(h = c(-1, 1), col = \"blue\")\n"
   ]
  },
  {
   "cell_type": "markdown",
   "metadata": {},
   "source": [
    "#### 5.1. A more general approach:\n",
    "\n",
    "Tuning design and contrast, the glm approach allows an infinite variety of comparisons."
   ]
  },
  {
   "cell_type": "code",
   "execution_count": 17,
   "metadata": {
    "vscode": {
     "languageId": "r"
    }
   },
   "outputs": [],
   "source": [
    "# define a coefficient for the expression level of each group\n",
    "\n",
    "# not to include an intercept column and instead to\n",
    "#   include a column for each group.\n",
    "design2 <- model.matrix(~ 0 + group, data = data_normalized$samples)\n",
    "colnames(design2) <- levels(data_normalized$samples$group)\n",
    "data_normalized2 <- estimateDisp(data_normalized, design)\n",
    "fit2 <- glmQLFit(data_normalized2, design2)\n"
   ]
  },
  {
   "cell_type": "code",
   "execution_count": 18,
   "metadata": {
    "vscode": {
     "languageId": "r"
    }
   },
   "outputs": [
    {
     "name": "stdout",
     "output_type": "stream",
     "text": [
      "qlf_alt_2_vs_1comparison: -1*Ce 1*Cy \n"
     ]
    },
    {
     "data": {
      "text/html": [
       "<table class=\"dataframe\">\n",
       "<caption>A matrix: 10 × 5 of type lgl</caption>\n",
       "<thead>\n",
       "\t<tr><th></th><th scope=col>logFC</th><th scope=col>logCPM</th><th scope=col>F</th><th scope=col>PValue</th><th scope=col>FDR</th></tr>\n",
       "</thead>\n",
       "<tbody>\n",
       "\t<tr><th scope=row>chr17_ProCGG_8126131_8126161_5tRNAr</th><td>TRUE</td><td>TRUE</td><td>TRUE</td><td>TRUE</td><td>TRUE</td></tr>\n",
       "\t<tr><th scope=row>chr16_ProTGG_3234113_3234143_5tRNAr</th><td>TRUE</td><td>TRUE</td><td>TRUE</td><td>TRUE</td><td>TRUE</td></tr>\n",
       "\t<tr><th scope=row>chr16_ProTGG_3238155_3238185_3tRNAr</th><td>TRUE</td><td>TRUE</td><td>TRUE</td><td>TRUE</td><td>TRUE</td></tr>\n",
       "\t<tr><th scope=row>chr16_ProTGG_3234133_3234204_total</th><td>TRUE</td><td>TRUE</td><td>TRUE</td><td>TRUE</td><td>TRUE</td></tr>\n",
       "\t<tr><th scope=row>chr16_ProTGG_3238094_3238165_total</th><td>TRUE</td><td>TRUE</td><td>TRUE</td><td>TRUE</td><td>TRUE</td></tr>\n",
       "\t<tr><th scope=row>chr6_GluCTC_126101373_126101403_5tRNAr</th><td>TRUE</td><td>TRUE</td><td>TRUE</td><td>TRUE</td><td>TRUE</td></tr>\n",
       "\t<tr><th scope=row>chr1_GluCTC_145399213_145399243_5tRNAr</th><td>TRUE</td><td>TRUE</td><td>TRUE</td><td>TRUE</td><td>TRUE</td></tr>\n",
       "\t<tr><th scope=row>chr6_GluCTC_28950037_28950067_3tRNAr</th><td>TRUE</td><td>TRUE</td><td>TRUE</td><td>TRUE</td><td>TRUE</td></tr>\n",
       "\t<tr><th scope=row>chr19_GlyTCC_4724143_4724173_3tRNAr</th><td>TRUE</td><td>TRUE</td><td>TRUE</td><td>TRUE</td><td>TRUE</td></tr>\n",
       "\t<tr><th scope=row>chr16_ArgCCT_3202901_3202973_total</th><td>TRUE</td><td>TRUE</td><td>TRUE</td><td>TRUE</td><td>TRUE</td></tr>\n",
       "</tbody>\n",
       "</table>\n"
      ],
      "text/latex": [
       "A matrix: 10 × 5 of type lgl\n",
       "\\begin{tabular}{r|lllll}\n",
       "  & logFC & logCPM & F & PValue & FDR\\\\\n",
       "\\hline\n",
       "\tchr17\\_ProCGG\\_8126131\\_8126161\\_5tRNAr & TRUE & TRUE & TRUE & TRUE & TRUE\\\\\n",
       "\tchr16\\_ProTGG\\_3234113\\_3234143\\_5tRNAr & TRUE & TRUE & TRUE & TRUE & TRUE\\\\\n",
       "\tchr16\\_ProTGG\\_3238155\\_3238185\\_3tRNAr & TRUE & TRUE & TRUE & TRUE & TRUE\\\\\n",
       "\tchr16\\_ProTGG\\_3234133\\_3234204\\_total & TRUE & TRUE & TRUE & TRUE & TRUE\\\\\n",
       "\tchr16\\_ProTGG\\_3238094\\_3238165\\_total & TRUE & TRUE & TRUE & TRUE & TRUE\\\\\n",
       "\tchr6\\_GluCTC\\_126101373\\_126101403\\_5tRNAr & TRUE & TRUE & TRUE & TRUE & TRUE\\\\\n",
       "\tchr1\\_GluCTC\\_145399213\\_145399243\\_5tRNAr & TRUE & TRUE & TRUE & TRUE & TRUE\\\\\n",
       "\tchr6\\_GluCTC\\_28950037\\_28950067\\_3tRNAr & TRUE & TRUE & TRUE & TRUE & TRUE\\\\\n",
       "\tchr19\\_GlyTCC\\_4724143\\_4724173\\_3tRNAr & TRUE & TRUE & TRUE & TRUE & TRUE\\\\\n",
       "\tchr16\\_ArgCCT\\_3202901\\_3202973\\_total & TRUE & TRUE & TRUE & TRUE & TRUE\\\\\n",
       "\\end{tabular}\n"
      ],
      "text/markdown": [
       "\n",
       "A matrix: 10 × 5 of type lgl\n",
       "\n",
       "| <!--/--> | logFC | logCPM | F | PValue | FDR |\n",
       "|---|---|---|---|---|---|\n",
       "| chr17_ProCGG_8126131_8126161_5tRNAr | TRUE | TRUE | TRUE | TRUE | TRUE |\n",
       "| chr16_ProTGG_3234113_3234143_5tRNAr | TRUE | TRUE | TRUE | TRUE | TRUE |\n",
       "| chr16_ProTGG_3238155_3238185_3tRNAr | TRUE | TRUE | TRUE | TRUE | TRUE |\n",
       "| chr16_ProTGG_3234133_3234204_total | TRUE | TRUE | TRUE | TRUE | TRUE |\n",
       "| chr16_ProTGG_3238094_3238165_total | TRUE | TRUE | TRUE | TRUE | TRUE |\n",
       "| chr6_GluCTC_126101373_126101403_5tRNAr | TRUE | TRUE | TRUE | TRUE | TRUE |\n",
       "| chr1_GluCTC_145399213_145399243_5tRNAr | TRUE | TRUE | TRUE | TRUE | TRUE |\n",
       "| chr6_GluCTC_28950037_28950067_3tRNAr | TRUE | TRUE | TRUE | TRUE | TRUE |\n",
       "| chr19_GlyTCC_4724143_4724173_3tRNAr | TRUE | TRUE | TRUE | TRUE | TRUE |\n",
       "| chr16_ArgCCT_3202901_3202973_total | TRUE | TRUE | TRUE | TRUE | TRUE |\n",
       "\n"
      ],
      "text/plain": [
       "                                       logFC logCPM F    PValue FDR \n",
       "chr17_ProCGG_8126131_8126161_5tRNAr    TRUE  TRUE   TRUE TRUE   TRUE\n",
       "chr16_ProTGG_3234113_3234143_5tRNAr    TRUE  TRUE   TRUE TRUE   TRUE\n",
       "chr16_ProTGG_3238155_3238185_3tRNAr    TRUE  TRUE   TRUE TRUE   TRUE\n",
       "chr16_ProTGG_3234133_3234204_total     TRUE  TRUE   TRUE TRUE   TRUE\n",
       "chr16_ProTGG_3238094_3238165_total     TRUE  TRUE   TRUE TRUE   TRUE\n",
       "chr6_GluCTC_126101373_126101403_5tRNAr TRUE  TRUE   TRUE TRUE   TRUE\n",
       "chr1_GluCTC_145399213_145399243_5tRNAr TRUE  TRUE   TRUE TRUE   TRUE\n",
       "chr6_GluCTC_28950037_28950067_3tRNAr   TRUE  TRUE   TRUE TRUE   TRUE\n",
       "chr19_GlyTCC_4724143_4724173_3tRNAr    TRUE  TRUE   TRUE TRUE   TRUE\n",
       "chr16_ArgCCT_3202901_3202973_total     TRUE  TRUE   TRUE TRUE   TRUE"
      ]
     },
     "metadata": {},
     "output_type": "display_data"
    }
   ],
   "source": [
    "# esto en esencia es igual a qlf_2_vs_1\n",
    "qlf_alt_2_vs_1 <- glmQLFTest(fit2, contrast = c(-1, 1, 0))\n",
    "cat(\"qlf_alt_2_vs_1comparison:\", qlf_alt_2_vs_1$comparison, \"\\n\")\n",
    "abs(topTags(qlf_2_vs_1)$table - topTags(qlf_alt_2_vs_1)$table) < 1e-14\n"
   ]
  },
  {
   "cell_type": "markdown",
   "metadata": {},
   "source": [
    "The contrast vector can be made with the function __makeContrasts__:"
   ]
  },
  {
   "cell_type": "code",
   "execution_count": 19,
   "metadata": {
    "vscode": {
     "languageId": "r"
    }
   },
   "outputs": [
    {
     "name": "stdout",
     "output_type": "stream",
     "text": [
      "-1*Ce 1*Nu"
     ]
    }
   ],
   "source": [
    "# A single contrast\n",
    "NuvsCe <- makeContrasts(Nu - Ce, levels = design2)\n",
    "qlf_NuvsCe <- glmQLFTest(fit2, contrast = NuvsCe)\n",
    "cat(qlf_NuvsCe$comparison)\n"
   ]
  },
  {
   "cell_type": "code",
   "execution_count": 20,
   "metadata": {
    "vscode": {
     "languageId": "r"
    }
   },
   "outputs": [
    {
     "data": {
      "text/plain": [
       "$CyvsCe\n",
       "       -1*Ce 1*Cy\n",
       "Down            0\n",
       "NotSig        516\n",
       "Up              0\n",
       "\n",
       "$NuvsCe\n",
       "       -1*Ce 1*Nu\n",
       "Down            0\n",
       "NotSig        516\n",
       "Up              0\n",
       "\n",
       "$NuvsCy\n",
       "       -1*Cy 1*Nu\n",
       "Down            0\n",
       "NotSig        516\n",
       "Up              0\n"
      ]
     },
     "metadata": {},
     "output_type": "display_data"
    }
   ],
   "source": [
    "# Multiple contrasts\n",
    "\n",
    "my_contrasts <- makeContrasts(\n",
    "  CyvsCe = Cy - Ce, # c(-1,1,0)\n",
    "  NuvsCe = Nu - Ce, # c(-1,0,1)\n",
    "  NuvsCy = Nu - Cy, # c(0,-1,1)\n",
    "  levels = design2\n",
    ")\n",
    "\n",
    "qlf_list <- list()\n",
    "for (current_contrast in colnames(my_contrasts)) {\n",
    "  qlf_current <- glmQLFTest(fit2, contrast = my_contrasts[, current_contrast])\n",
    "  # top_current <- topTags(qlf_current, n = nrow(fit2$counts))\n",
    "  current_i <- length(qlf_list) + 1\n",
    "  qlf_list[[current_contrast]] <- summary(decideTests(qlf_current))\n",
    "}\n",
    "qlf_list\n"
   ]
  },
  {
   "cell_type": "markdown",
   "metadata": {},
   "source": [
    "## About design and contrasts\n",
    "\n",
    "Be aware of the model desing when making the contrasts; for example:\n",
    "\n",
    "_Contrasts under a given design:_\n",
    "| comparison | ~group | ~0+group |\n",
    "| :-: | :-: | :-: |\n",
    "| group2 vs group1 | (0, 1, 0) | (-1, 1, 0) |\n",
    "| group 3 vs group1 | (0, 0, 1) | (-1, 0, 1)|\n",
    "| group 3 vs group 2 | (0, -1, 1) | (0, -1, 1) |\n",
    "| | (-1, 1, 0) | (-2, 1, 0) |\n",
    "| | (1, 1, 0) | (0, 1, 0) |\n",
    "| | (1, 1, 1) | (-1, 1, 1) |\n",
    "| | (2, 2, 2) | (-2, 2, 2) |\n"
   ]
  },
  {
   "cell_type": "code",
   "execution_count": 21,
   "metadata": {
    "vscode": {
     "languageId": "r"
    }
   },
   "outputs": [
    {
     "data": {
      "text/html": [
       "<table class=\"dataframe\">\n",
       "<caption>A matrix: 6 × 3 of type dbl</caption>\n",
       "<thead>\n",
       "\t<tr><th></th><th scope=col>(Intercept)</th><th scope=col>groupCy</th><th scope=col>groupNu</th></tr>\n",
       "</thead>\n",
       "<tbody>\n",
       "\t<tr><th scope=row>A549CellCiptapRep3</th><td>1</td><td>0</td><td>0</td></tr>\n",
       "\t<tr><th scope=row>A549CellCiptapRep4</th><td>1</td><td>0</td><td>0</td></tr>\n",
       "\t<tr><th scope=row>A549CytosolCiptapRep3</th><td>1</td><td>1</td><td>0</td></tr>\n",
       "\t<tr><th scope=row>A549CytosolCiptapRep4</th><td>1</td><td>1</td><td>0</td></tr>\n",
       "\t<tr><th scope=row>A549NucleusCiptapRep3</th><td>1</td><td>0</td><td>1</td></tr>\n",
       "\t<tr><th scope=row>A549NucleusCiptapRep4</th><td>1</td><td>0</td><td>1</td></tr>\n",
       "</tbody>\n",
       "</table>\n"
      ],
      "text/latex": [
       "A matrix: 6 × 3 of type dbl\n",
       "\\begin{tabular}{r|lll}\n",
       "  & (Intercept) & groupCy & groupNu\\\\\n",
       "\\hline\n",
       "\tA549CellCiptapRep3 & 1 & 0 & 0\\\\\n",
       "\tA549CellCiptapRep4 & 1 & 0 & 0\\\\\n",
       "\tA549CytosolCiptapRep3 & 1 & 1 & 0\\\\\n",
       "\tA549CytosolCiptapRep4 & 1 & 1 & 0\\\\\n",
       "\tA549NucleusCiptapRep3 & 1 & 0 & 1\\\\\n",
       "\tA549NucleusCiptapRep4 & 1 & 0 & 1\\\\\n",
       "\\end{tabular}\n"
      ],
      "text/markdown": [
       "\n",
       "A matrix: 6 × 3 of type dbl\n",
       "\n",
       "| <!--/--> | (Intercept) | groupCy | groupNu |\n",
       "|---|---|---|---|\n",
       "| A549CellCiptapRep3 | 1 | 0 | 0 |\n",
       "| A549CellCiptapRep4 | 1 | 0 | 0 |\n",
       "| A549CytosolCiptapRep3 | 1 | 1 | 0 |\n",
       "| A549CytosolCiptapRep4 | 1 | 1 | 0 |\n",
       "| A549NucleusCiptapRep3 | 1 | 0 | 1 |\n",
       "| A549NucleusCiptapRep4 | 1 | 0 | 1 |\n",
       "\n"
      ],
      "text/plain": [
       "                      (Intercept) groupCy groupNu\n",
       "A549CellCiptapRep3    1           0       0      \n",
       "A549CellCiptapRep4    1           0       0      \n",
       "A549CytosolCiptapRep3 1           1       0      \n",
       "A549CytosolCiptapRep4 1           1       0      \n",
       "A549NucleusCiptapRep3 1           0       1      \n",
       "A549NucleusCiptapRep4 1           0       1      "
      ]
     },
     "metadata": {},
     "output_type": "display_data"
    },
    {
     "data": {
      "text/html": [
       "<table class=\"dataframe\">\n",
       "<caption>A matrix: 6 × 3 of type dbl</caption>\n",
       "<thead>\n",
       "\t<tr><th></th><th scope=col>Ce</th><th scope=col>Cy</th><th scope=col>Nu</th></tr>\n",
       "</thead>\n",
       "<tbody>\n",
       "\t<tr><th scope=row>A549CellCiptapRep3</th><td>1</td><td>0</td><td>0</td></tr>\n",
       "\t<tr><th scope=row>A549CellCiptapRep4</th><td>1</td><td>0</td><td>0</td></tr>\n",
       "\t<tr><th scope=row>A549CytosolCiptapRep3</th><td>0</td><td>1</td><td>0</td></tr>\n",
       "\t<tr><th scope=row>A549CytosolCiptapRep4</th><td>0</td><td>1</td><td>0</td></tr>\n",
       "\t<tr><th scope=row>A549NucleusCiptapRep3</th><td>0</td><td>0</td><td>1</td></tr>\n",
       "\t<tr><th scope=row>A549NucleusCiptapRep4</th><td>0</td><td>0</td><td>1</td></tr>\n",
       "</tbody>\n",
       "</table>\n"
      ],
      "text/latex": [
       "A matrix: 6 × 3 of type dbl\n",
       "\\begin{tabular}{r|lll}\n",
       "  & Ce & Cy & Nu\\\\\n",
       "\\hline\n",
       "\tA549CellCiptapRep3 & 1 & 0 & 0\\\\\n",
       "\tA549CellCiptapRep4 & 1 & 0 & 0\\\\\n",
       "\tA549CytosolCiptapRep3 & 0 & 1 & 0\\\\\n",
       "\tA549CytosolCiptapRep4 & 0 & 1 & 0\\\\\n",
       "\tA549NucleusCiptapRep3 & 0 & 0 & 1\\\\\n",
       "\tA549NucleusCiptapRep4 & 0 & 0 & 1\\\\\n",
       "\\end{tabular}\n"
      ],
      "text/markdown": [
       "\n",
       "A matrix: 6 × 3 of type dbl\n",
       "\n",
       "| <!--/--> | Ce | Cy | Nu |\n",
       "|---|---|---|---|\n",
       "| A549CellCiptapRep3 | 1 | 0 | 0 |\n",
       "| A549CellCiptapRep4 | 1 | 0 | 0 |\n",
       "| A549CytosolCiptapRep3 | 0 | 1 | 0 |\n",
       "| A549CytosolCiptapRep4 | 0 | 1 | 0 |\n",
       "| A549NucleusCiptapRep3 | 0 | 0 | 1 |\n",
       "| A549NucleusCiptapRep4 | 0 | 0 | 1 |\n",
       "\n"
      ],
      "text/plain": [
       "                      Ce Cy Nu\n",
       "A549CellCiptapRep3    1  0  0 \n",
       "A549CellCiptapRep4    1  0  0 \n",
       "A549CytosolCiptapRep3 0  1  0 \n",
       "A549CytosolCiptapRep4 0  1  0 \n",
       "A549NucleusCiptapRep3 0  0  1 \n",
       "A549NucleusCiptapRep4 0  0  1 "
      ]
     },
     "metadata": {},
     "output_type": "display_data"
    }
   ],
   "source": [
    "design\n",
    "design2\n"
   ]
  },
  {
   "cell_type": "code",
   "execution_count": 36,
   "metadata": {
    "vscode": {
     "languageId": "r"
    }
   },
   "outputs": [
    {
     "data": {
      "text/html": [
       "TRUE"
      ],
      "text/latex": [
       "TRUE"
      ],
      "text/markdown": [
       "TRUE"
      ],
      "text/plain": [
       "[1] TRUE"
      ]
     },
     "metadata": {},
     "output_type": "display_data"
    }
   ],
   "source": [
    "contrast1 <- c(1, 1, 1)\n",
    "contrast2 <- c(-1, 1, 1)\n",
    "t1 <- glmLRT(glmfit = glmFit(data_normalized, design), contrast = contrast1)\n",
    "t2 <- glmLRT(glmfit = glmFit(data_normalized2, design2), contrast = contrast2)\n",
    "total_tags <- nrow(data_normalized$counts)\n",
    "all((decideTests(t2) ==\n",
    "  decideTests(t1))[, 1])\n"
   ]
  },
  {
   "cell_type": "markdown",
   "metadata": {},
   "source": [
    "# Bibliography\n",
    "\n",
    "[1] Y. Chen, L. Chen, A. T. L. Lun, P. L. Baldoni, and G. K. Smyth, “edgeR 4.0: powerful differential analysis of sequencing data with expanded functionality and improved support for small counts and larger datasets.” Jan. 24, 2024. doi: 10.1101/2024.01.21.576131.\n",
    "\n",
    "[2] Y. Chen et al., “edgeR.” 2017. doi: 10.18129/B9.BIOC.EDGER.\n",
    "\n",
    "[3] Y. Chen, D. McCarthy, P. Baldoni, M. Robinson, and G. Smyth, “edgeR: differential analysis of sequence read count data User’s Guide.” [Online]. Available: https://bioconductor.org/packages/release/bioc/html/edgeR.html"
   ]
  },
  {
   "cell_type": "code",
   "execution_count": 23,
   "metadata": {
    "vscode": {
     "languageId": "r"
    }
   },
   "outputs": [
    {
     "data": {
      "text/plain": [
       "R version 4.3.3 (2024-02-29)\n",
       "Platform: x86_64-pc-linux-gnu (64-bit)\n",
       "Running under: Ubuntu 24.04 LTS\n",
       "\n",
       "Matrix products: default\n",
       "BLAS:   /usr/lib/x86_64-linux-gnu/blas/libblas.so.3.12.0 \n",
       "LAPACK: /usr/lib/x86_64-linux-gnu/lapack/liblapack.so.3.12.0\n",
       "\n",
       "locale:\n",
       " [1] LC_CTYPE=C.UTF-8       LC_NUMERIC=C           LC_TIME=C.UTF-8       \n",
       " [4] LC_COLLATE=C.UTF-8     LC_MONETARY=C.UTF-8    LC_MESSAGES=C.UTF-8   \n",
       " [7] LC_PAPER=C.UTF-8       LC_NAME=C              LC_ADDRESS=C          \n",
       "[10] LC_TELEPHONE=C         LC_MEASUREMENT=C.UTF-8 LC_IDENTIFICATION=C   \n",
       "\n",
       "time zone: America/Bogota\n",
       "tzcode source: system (glibc)\n",
       "\n",
       "attached base packages:\n",
       "[1] stats     graphics  grDevices utils     datasets  methods   base     \n",
       "\n",
       "other attached packages:\n",
       "[1] edgeR_4.0.16 limma_3.58.1\n",
       "\n",
       "loaded via a namespace (and not attached):\n",
       " [1] digest_0.6.35     IRdisplay_1.1     utf8_1.2.4        base64enc_0.1-3  \n",
       " [5] fastmap_1.2.0     lattice_0.22-6    splines_4.3.3     glue_1.7.0       \n",
       " [9] htmltools_0.5.8.1 repr_1.1.7        lifecycle_1.0.4   cli_3.6.2        \n",
       "[13] fansi_1.0.6       grid_4.3.3        vctrs_0.6.5       pbdZMQ_0.3-11    \n",
       "[17] statmod_1.5.0     compiler_4.3.3    tools_4.3.3       evaluate_0.23    \n",
       "[21] pillar_1.9.0      Rcpp_1.0.12       locfit_1.5-9.9    crayon_1.5.2     \n",
       "[25] rlang_1.1.3       jsonlite_1.8.8    IRkernel_1.3.2    uuid_1.2-0       "
      ]
     },
     "metadata": {},
     "output_type": "display_data"
    }
   ],
   "source": [
    "sessionInfo()\n"
   ]
  }
 ],
 "metadata": {
  "kernelspec": {
   "display_name": "R",
   "language": "R",
   "name": "ir"
  },
  "language_info": {
   "codemirror_mode": "r",
   "file_extension": ".r",
   "mimetype": "text/x-r-source",
   "name": "R",
   "pygments_lexer": "r",
   "version": "4.3.3"
  }
 },
 "nbformat": 4,
 "nbformat_minor": 2
}
