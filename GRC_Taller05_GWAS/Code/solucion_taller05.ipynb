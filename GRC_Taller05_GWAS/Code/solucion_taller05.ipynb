{
 "cells": [
  {
   "cell_type": "code",
   "execution_count": 44,
   "metadata": {
    "vscode": {
     "languageId": "r"
    }
   },
   "outputs": [],
   "source": [
    "delphinidin_results_file <- \"../Results/ncomponents_3/GAPIT.Association.GWAS_Results.MLM.Delphinidin.csv\"\n",
    "cyanidin_file <- \"../Results/ncomponents_3/GAPIT.Association.PVE.MLM.Cyanidin.csv\"\n",
    "data_file <- \"../Example_Data/GBS_150G.txt\"\n"
   ]
  },
  {
   "cell_type": "code",
   "execution_count": 45,
   "metadata": {
    "vscode": {
     "languageId": "r"
    }
   },
   "outputs": [
    {
     "data": {
      "text/html": [
       "<table class=\"dataframe\">\n",
       "<caption>A data.frame: 5 × 8</caption>\n",
       "<thead>\n",
       "\t<tr><th></th><th scope=col>SNP</th><th scope=col>Chr</th><th scope=col>Pos</th><th scope=col>P.value</th><th scope=col>MAF</th><th scope=col>nobs</th><th scope=col>H.B.P.Value</th><th scope=col>Effect</th></tr>\n",
       "\t<tr><th></th><th scope=col>&lt;chr&gt;</th><th scope=col>&lt;chr&gt;</th><th scope=col>&lt;int&gt;</th><th scope=col>&lt;dbl&gt;</th><th scope=col>&lt;dbl&gt;</th><th scope=col>&lt;int&gt;</th><th scope=col>&lt;dbl&gt;</th><th scope=col>&lt;dbl&gt;</th></tr>\n",
       "</thead>\n",
       "<tbody>\n",
       "\t<tr><th scope=row>10812</th><td>SNP12430</td><td>ST4.03ch02</td><td>7161938</td><td>2.913776e-06</td><td>0.01333333</td><td>150</td><td>0.04885237</td><td>-1.452686</td></tr>\n",
       "\t<tr><th scope=row>10811</th><td>SNP12429</td><td>ST4.03ch02</td><td>7161936</td><td>2.913776e-06</td><td>0.01333333</td><td>150</td><td>0.04885237</td><td> 1.452686</td></tr>\n",
       "\t<tr><th scope=row>10813</th><td>SNP12431</td><td>ST4.03ch02</td><td>7161942</td><td>2.913776e-06</td><td>0.01333333</td><td>150</td><td>0.04885237</td><td> 1.452686</td></tr>\n",
       "\t<tr><th scope=row>10814</th><td>SNP12432</td><td>ST4.03ch02</td><td>7161962</td><td>2.913776e-06</td><td>0.01333333</td><td>150</td><td>0.04885237</td><td> 1.452686</td></tr>\n",
       "\t<tr><th scope=row>10815</th><td>SNP12433</td><td>ST4.03ch02</td><td>7162010</td><td>2.913776e-06</td><td>0.01333333</td><td>150</td><td>0.04885237</td><td> 1.452686</td></tr>\n",
       "</tbody>\n",
       "</table>\n"
      ],
      "text/latex": [
       "A data.frame: 5 × 8\n",
       "\\begin{tabular}{r|llllllll}\n",
       "  & SNP & Chr & Pos & P.value & MAF & nobs & H.B.P.Value & Effect\\\\\n",
       "  & <chr> & <chr> & <int> & <dbl> & <dbl> & <int> & <dbl> & <dbl>\\\\\n",
       "\\hline\n",
       "\t10812 & SNP12430 & ST4.03ch02 & 7161938 & 2.913776e-06 & 0.01333333 & 150 & 0.04885237 & -1.452686\\\\\n",
       "\t10811 & SNP12429 & ST4.03ch02 & 7161936 & 2.913776e-06 & 0.01333333 & 150 & 0.04885237 &  1.452686\\\\\n",
       "\t10813 & SNP12431 & ST4.03ch02 & 7161942 & 2.913776e-06 & 0.01333333 & 150 & 0.04885237 &  1.452686\\\\\n",
       "\t10814 & SNP12432 & ST4.03ch02 & 7161962 & 2.913776e-06 & 0.01333333 & 150 & 0.04885237 &  1.452686\\\\\n",
       "\t10815 & SNP12433 & ST4.03ch02 & 7162010 & 2.913776e-06 & 0.01333333 & 150 & 0.04885237 &  1.452686\\\\\n",
       "\\end{tabular}\n"
      ],
      "text/markdown": [
       "\n",
       "A data.frame: 5 × 8\n",
       "\n",
       "| <!--/--> | SNP &lt;chr&gt; | Chr &lt;chr&gt; | Pos &lt;int&gt; | P.value &lt;dbl&gt; | MAF &lt;dbl&gt; | nobs &lt;int&gt; | H.B.P.Value &lt;dbl&gt; | Effect &lt;dbl&gt; |\n",
       "|---|---|---|---|---|---|---|---|---|\n",
       "| 10812 | SNP12430 | ST4.03ch02 | 7161938 | 2.913776e-06 | 0.01333333 | 150 | 0.04885237 | -1.452686 |\n",
       "| 10811 | SNP12429 | ST4.03ch02 | 7161936 | 2.913776e-06 | 0.01333333 | 150 | 0.04885237 |  1.452686 |\n",
       "| 10813 | SNP12431 | ST4.03ch02 | 7161942 | 2.913776e-06 | 0.01333333 | 150 | 0.04885237 |  1.452686 |\n",
       "| 10814 | SNP12432 | ST4.03ch02 | 7161962 | 2.913776e-06 | 0.01333333 | 150 | 0.04885237 |  1.452686 |\n",
       "| 10815 | SNP12433 | ST4.03ch02 | 7162010 | 2.913776e-06 | 0.01333333 | 150 | 0.04885237 |  1.452686 |\n",
       "\n"
      ],
      "text/plain": [
       "      SNP      Chr        Pos     P.value      MAF        nobs H.B.P.Value\n",
       "10812 SNP12430 ST4.03ch02 7161938 2.913776e-06 0.01333333 150  0.04885237 \n",
       "10811 SNP12429 ST4.03ch02 7161936 2.913776e-06 0.01333333 150  0.04885237 \n",
       "10813 SNP12431 ST4.03ch02 7161942 2.913776e-06 0.01333333 150  0.04885237 \n",
       "10814 SNP12432 ST4.03ch02 7161962 2.913776e-06 0.01333333 150  0.04885237 \n",
       "10815 SNP12433 ST4.03ch02 7162010 2.913776e-06 0.01333333 150  0.04885237 \n",
       "      Effect   \n",
       "10812 -1.452686\n",
       "10811  1.452686\n",
       "10813  1.452686\n",
       "10814  1.452686\n",
       "10815  1.452686"
      ]
     },
     "metadata": {},
     "output_type": "display_data"
    }
   ],
   "source": [
    "cat(\"Delphinidin filtered results:\")\n",
    "delphinidin_results <- read.table(\n",
    "  delphinidin_results_file,\n",
    "  sep = \",\", header = TRUE\n",
    ")\n",
    "delphinidin_significant <- delphinidin_results[\n",
    "  delphinidin_results[\"P.value\"] < 0.05 & delphinidin_results[, \"H.B.P.Value\"] < 0.05,\n",
    "]\n",
    "delphinidin_significant[order(significant$P.value), ]\n"
   ]
  },
  {
   "cell_type": "code",
   "execution_count": 54,
   "metadata": {
    "vscode": {
     "languageId": "r"
    }
   },
   "outputs": [
    {
     "name": "stdout",
     "output_type": "stream",
     "text": [
      "Cyanidin PVE"
     ]
    },
    {
     "data": {
      "text/html": [
       "<table class=\"dataframe\">\n",
       "<caption>A data.frame: 4 × 10</caption>\n",
       "<thead>\n",
       "\t<tr><th scope=col>SNP</th><th scope=col>Chromosome</th><th scope=col>Position</th><th scope=col>P.value</th><th scope=col>maf</th><th scope=col>nobs</th><th scope=col>Rsquare.of.Model.without.SNP</th><th scope=col>Rsquare.of.Model.with.SNP</th><th scope=col>effect</th><th scope=col>Phenotype_Variance_Explained...</th></tr>\n",
       "\t<tr><th scope=col>&lt;chr&gt;</th><th scope=col>&lt;int&gt;</th><th scope=col>&lt;int&gt;</th><th scope=col>&lt;dbl&gt;</th><th scope=col>&lt;dbl&gt;</th><th scope=col>&lt;int&gt;</th><th scope=col>&lt;dbl&gt;</th><th scope=col>&lt;dbl&gt;</th><th scope=col>&lt;dbl&gt;</th><th scope=col>&lt;dbl&gt;</th></tr>\n",
       "</thead>\n",
       "<tbody>\n",
       "\t<tr><td>SNP9317 </td><td> 1</td><td>76112400</td><td>3.858863e-07</td><td>0.066666667</td><td>150</td><td>0.016458</td><td>0.2070971</td><td> 0.7412239</td><td> 3.118818</td></tr>\n",
       "\t<tr><td>SNP9318 </td><td> 1</td><td>76112450</td><td>3.858863e-07</td><td>0.066666667</td><td>150</td><td>0.016458</td><td>0.2070971</td><td> 0.7412239</td><td> 2.323702</td></tr>\n",
       "\t<tr><td>SNP54914</td><td> 8</td><td>20571240</td><td>4.585521e-08</td><td>0.036666667</td><td>150</td><td>0.016458</td><td>0.2408659</td><td>-0.9671617</td><td>14.835198</td></tr>\n",
       "\t<tr><td>SNP83234</td><td>12</td><td>59154862</td><td>3.121273e-07</td><td>0.006666667</td><td>150</td><td>0.016458</td><td>0.2104100</td><td>-2.0286487</td><td>68.944051</td></tr>\n",
       "</tbody>\n",
       "</table>\n"
      ],
      "text/latex": [
       "A data.frame: 4 × 10\n",
       "\\begin{tabular}{llllllllll}\n",
       " SNP & Chromosome & Position & P.value & maf & nobs & Rsquare.of.Model.without.SNP & Rsquare.of.Model.with.SNP & effect & Phenotype\\_Variance\\_Explained...\\\\\n",
       " <chr> & <int> & <int> & <dbl> & <dbl> & <int> & <dbl> & <dbl> & <dbl> & <dbl>\\\\\n",
       "\\hline\n",
       "\t SNP9317  &  1 & 76112400 & 3.858863e-07 & 0.066666667 & 150 & 0.016458 & 0.2070971 &  0.7412239 &  3.118818\\\\\n",
       "\t SNP9318  &  1 & 76112450 & 3.858863e-07 & 0.066666667 & 150 & 0.016458 & 0.2070971 &  0.7412239 &  2.323702\\\\\n",
       "\t SNP54914 &  8 & 20571240 & 4.585521e-08 & 0.036666667 & 150 & 0.016458 & 0.2408659 & -0.9671617 & 14.835198\\\\\n",
       "\t SNP83234 & 12 & 59154862 & 3.121273e-07 & 0.006666667 & 150 & 0.016458 & 0.2104100 & -2.0286487 & 68.944051\\\\\n",
       "\\end{tabular}\n"
      ],
      "text/markdown": [
       "\n",
       "A data.frame: 4 × 10\n",
       "\n",
       "| SNP &lt;chr&gt; | Chromosome &lt;int&gt; | Position &lt;int&gt; | P.value &lt;dbl&gt; | maf &lt;dbl&gt; | nobs &lt;int&gt; | Rsquare.of.Model.without.SNP &lt;dbl&gt; | Rsquare.of.Model.with.SNP &lt;dbl&gt; | effect &lt;dbl&gt; | Phenotype_Variance_Explained... &lt;dbl&gt; |\n",
       "|---|---|---|---|---|---|---|---|---|---|\n",
       "| SNP9317  |  1 | 76112400 | 3.858863e-07 | 0.066666667 | 150 | 0.016458 | 0.2070971 |  0.7412239 |  3.118818 |\n",
       "| SNP9318  |  1 | 76112450 | 3.858863e-07 | 0.066666667 | 150 | 0.016458 | 0.2070971 |  0.7412239 |  2.323702 |\n",
       "| SNP54914 |  8 | 20571240 | 4.585521e-08 | 0.036666667 | 150 | 0.016458 | 0.2408659 | -0.9671617 | 14.835198 |\n",
       "| SNP83234 | 12 | 59154862 | 3.121273e-07 | 0.006666667 | 150 | 0.016458 | 0.2104100 | -2.0286487 | 68.944051 |\n",
       "\n"
      ],
      "text/plain": [
       "  SNP      Chromosome Position P.value      maf         nobs\n",
       "1 SNP9317   1         76112400 3.858863e-07 0.066666667 150 \n",
       "2 SNP9318   1         76112450 3.858863e-07 0.066666667 150 \n",
       "3 SNP54914  8         20571240 4.585521e-08 0.036666667 150 \n",
       "4 SNP83234 12         59154862 3.121273e-07 0.006666667 150 \n",
       "  Rsquare.of.Model.without.SNP Rsquare.of.Model.with.SNP effect    \n",
       "1 0.016458                     0.2070971                  0.7412239\n",
       "2 0.016458                     0.2070971                  0.7412239\n",
       "3 0.016458                     0.2408659                 -0.9671617\n",
       "4 0.016458                     0.2104100                 -2.0286487\n",
       "  Phenotype_Variance_Explained...\n",
       "1  3.118818                      \n",
       "2  2.323702                      \n",
       "3 14.835198                      \n",
       "4 68.944051                      "
      ]
     },
     "metadata": {},
     "output_type": "display_data"
    }
   ],
   "source": [
    "cat(\"Cyanidin PVE:\")\n",
    "pve_cyanidin_table <- read.table(cyanidin_file, sep = \",\", header = TRUE)\n",
    "pve_cyanidin_table\n"
   ]
  },
  {
   "cell_type": "code",
   "execution_count": 55,
   "metadata": {
    "vscode": {
     "languageId": "r"
    }
   },
   "outputs": [
    {
     "name": "stdout",
     "output_type": "stream",
     "text": [
      "Delphinidin possible loci:"
     ]
    },
    {
     "data": {
      "text/html": [
       "<table class=\"dataframe\">\n",
       "<caption>A data.frame: 5 × 161</caption>\n",
       "<thead>\n",
       "\t<tr><th></th><th scope=col>rs</th><th scope=col>alleles</th><th scope=col>chrom</th><th scope=col>pos</th><th scope=col>strand</th><th scope=col>assembly</th><th scope=col>center</th><th scope=col>protLSID</th><th scope=col>assayLSID</th><th scope=col>panelLSID</th><th scope=col>⋯</th><th scope=col>G141</th><th scope=col>G142</th><th scope=col>G143</th><th scope=col>G144</th><th scope=col>G145</th><th scope=col>G146</th><th scope=col>G147</th><th scope=col>G148</th><th scope=col>G149</th><th scope=col>G150</th></tr>\n",
       "\t<tr><th></th><th scope=col>&lt;chr&gt;</th><th scope=col>&lt;chr&gt;</th><th scope=col>&lt;chr&gt;</th><th scope=col>&lt;int&gt;</th><th scope=col>&lt;chr&gt;</th><th scope=col>&lt;lgl&gt;</th><th scope=col>&lt;lgl&gt;</th><th scope=col>&lt;lgl&gt;</th><th scope=col>&lt;lgl&gt;</th><th scope=col>&lt;lgl&gt;</th><th scope=col>⋯</th><th scope=col>&lt;chr&gt;</th><th scope=col>&lt;chr&gt;</th><th scope=col>&lt;chr&gt;</th><th scope=col>&lt;chr&gt;</th><th scope=col>&lt;chr&gt;</th><th scope=col>&lt;chr&gt;</th><th scope=col>&lt;chr&gt;</th><th scope=col>&lt;chr&gt;</th><th scope=col>&lt;chr&gt;</th><th scope=col>&lt;chr&gt;</th></tr>\n",
       "</thead>\n",
       "<tbody>\n",
       "\t<tr><th scope=row>12429</th><td>SNP12429</td><td>A/G</td><td>ST4.03ch02</td><td>7161936</td><td>+</td><td>NA</td><td>NA</td><td>NA</td><td>NA</td><td>NA</td><td>⋯</td><td>AA</td><td>AA</td><td>AA</td><td>AA</td><td>AA</td><td>AA</td><td>AA</td><td>AA</td><td>AA</td><td>AA</td></tr>\n",
       "\t<tr><th scope=row>12430</th><td>SNP12430</td><td>G/C</td><td>ST4.03ch02</td><td>7161938</td><td>+</td><td>NA</td><td>NA</td><td>NA</td><td>NA</td><td>NA</td><td>⋯</td><td>GG</td><td>GG</td><td>GG</td><td>GG</td><td>GG</td><td>GG</td><td>GG</td><td>GG</td><td>GG</td><td>GG</td></tr>\n",
       "\t<tr><th scope=row>12431</th><td>SNP12431</td><td>A/T</td><td>ST4.03ch02</td><td>7161942</td><td>+</td><td>NA</td><td>NA</td><td>NA</td><td>NA</td><td>NA</td><td>⋯</td><td>AA</td><td>AA</td><td>AA</td><td>AA</td><td>AA</td><td>AA</td><td>AA</td><td>AA</td><td>AA</td><td>AA</td></tr>\n",
       "\t<tr><th scope=row>12432</th><td>SNP12432</td><td>G/T</td><td>ST4.03ch02</td><td>7161962</td><td>+</td><td>NA</td><td>NA</td><td>NA</td><td>NA</td><td>NA</td><td>⋯</td><td>GG</td><td>GG</td><td>GG</td><td>GG</td><td>GG</td><td>GG</td><td>GG</td><td>GG</td><td>GG</td><td>GG</td></tr>\n",
       "\t<tr><th scope=row>12433</th><td>SNP12433</td><td>A/C</td><td>ST4.03ch02</td><td>7162010</td><td>+</td><td>NA</td><td>NA</td><td>NA</td><td>NA</td><td>NA</td><td>⋯</td><td>AA</td><td>AA</td><td>AA</td><td>AA</td><td>AA</td><td>AA</td><td>AA</td><td>AA</td><td>AA</td><td>AA</td></tr>\n",
       "</tbody>\n",
       "</table>\n"
      ],
      "text/latex": [
       "A data.frame: 5 × 161\n",
       "\\begin{tabular}{r|lllllllllllllllllllll}\n",
       "  & rs & alleles & chrom & pos & strand & assembly & center & protLSID & assayLSID & panelLSID & ⋯ & G141 & G142 & G143 & G144 & G145 & G146 & G147 & G148 & G149 & G150\\\\\n",
       "  & <chr> & <chr> & <chr> & <int> & <chr> & <lgl> & <lgl> & <lgl> & <lgl> & <lgl> & ⋯ & <chr> & <chr> & <chr> & <chr> & <chr> & <chr> & <chr> & <chr> & <chr> & <chr>\\\\\n",
       "\\hline\n",
       "\t12429 & SNP12429 & A/G & ST4.03ch02 & 7161936 & + & NA & NA & NA & NA & NA & ⋯ & AA & AA & AA & AA & AA & AA & AA & AA & AA & AA\\\\\n",
       "\t12430 & SNP12430 & G/C & ST4.03ch02 & 7161938 & + & NA & NA & NA & NA & NA & ⋯ & GG & GG & GG & GG & GG & GG & GG & GG & GG & GG\\\\\n",
       "\t12431 & SNP12431 & A/T & ST4.03ch02 & 7161942 & + & NA & NA & NA & NA & NA & ⋯ & AA & AA & AA & AA & AA & AA & AA & AA & AA & AA\\\\\n",
       "\t12432 & SNP12432 & G/T & ST4.03ch02 & 7161962 & + & NA & NA & NA & NA & NA & ⋯ & GG & GG & GG & GG & GG & GG & GG & GG & GG & GG\\\\\n",
       "\t12433 & SNP12433 & A/C & ST4.03ch02 & 7162010 & + & NA & NA & NA & NA & NA & ⋯ & AA & AA & AA & AA & AA & AA & AA & AA & AA & AA\\\\\n",
       "\\end{tabular}\n"
      ],
      "text/markdown": [
       "\n",
       "A data.frame: 5 × 161\n",
       "\n",
       "| <!--/--> | rs &lt;chr&gt; | alleles &lt;chr&gt; | chrom &lt;chr&gt; | pos &lt;int&gt; | strand &lt;chr&gt; | assembly &lt;lgl&gt; | center &lt;lgl&gt; | protLSID &lt;lgl&gt; | assayLSID &lt;lgl&gt; | panelLSID &lt;lgl&gt; | ⋯ ⋯ | G141 &lt;chr&gt; | G142 &lt;chr&gt; | G143 &lt;chr&gt; | G144 &lt;chr&gt; | G145 &lt;chr&gt; | G146 &lt;chr&gt; | G147 &lt;chr&gt; | G148 &lt;chr&gt; | G149 &lt;chr&gt; | G150 &lt;chr&gt; |\n",
       "|---|---|---|---|---|---|---|---|---|---|---|---|---|---|---|---|---|---|---|---|---|---|\n",
       "| 12429 | SNP12429 | A/G | ST4.03ch02 | 7161936 | + | NA | NA | NA | NA | NA | ⋯ | AA | AA | AA | AA | AA | AA | AA | AA | AA | AA |\n",
       "| 12430 | SNP12430 | G/C | ST4.03ch02 | 7161938 | + | NA | NA | NA | NA | NA | ⋯ | GG | GG | GG | GG | GG | GG | GG | GG | GG | GG |\n",
       "| 12431 | SNP12431 | A/T | ST4.03ch02 | 7161942 | + | NA | NA | NA | NA | NA | ⋯ | AA | AA | AA | AA | AA | AA | AA | AA | AA | AA |\n",
       "| 12432 | SNP12432 | G/T | ST4.03ch02 | 7161962 | + | NA | NA | NA | NA | NA | ⋯ | GG | GG | GG | GG | GG | GG | GG | GG | GG | GG |\n",
       "| 12433 | SNP12433 | A/C | ST4.03ch02 | 7162010 | + | NA | NA | NA | NA | NA | ⋯ | AA | AA | AA | AA | AA | AA | AA | AA | AA | AA |\n",
       "\n"
      ],
      "text/plain": [
       "      rs       alleles chrom      pos     strand assembly center protLSID\n",
       "12429 SNP12429 A/G     ST4.03ch02 7161936 +      NA       NA     NA      \n",
       "12430 SNP12430 G/C     ST4.03ch02 7161938 +      NA       NA     NA      \n",
       "12431 SNP12431 A/T     ST4.03ch02 7161942 +      NA       NA     NA      \n",
       "12432 SNP12432 G/T     ST4.03ch02 7161962 +      NA       NA     NA      \n",
       "12433 SNP12433 A/C     ST4.03ch02 7162010 +      NA       NA     NA      \n",
       "      assayLSID panelLSID ⋯ G141 G142 G143 G144 G145 G146 G147 G148 G149 G150\n",
       "12429 NA        NA        ⋯ AA   AA   AA   AA   AA   AA   AA   AA   AA   AA  \n",
       "12430 NA        NA        ⋯ GG   GG   GG   GG   GG   GG   GG   GG   GG   GG  \n",
       "12431 NA        NA        ⋯ AA   AA   AA   AA   AA   AA   AA   AA   AA   AA  \n",
       "12432 NA        NA        ⋯ GG   GG   GG   GG   GG   GG   GG   GG   GG   GG  \n",
       "12433 NA        NA        ⋯ AA   AA   AA   AA   AA   AA   AA   AA   AA   AA  "
      ]
     },
     "metadata": {},
     "output_type": "display_data"
    },
    {
     "name": "stdout",
     "output_type": "stream",
     "text": [
      "Cyanidin found loci:"
     ]
    },
    {
     "data": {
      "text/html": [
       "<table class=\"dataframe\">\n",
       "<caption>A data.frame: 4 × 161</caption>\n",
       "<thead>\n",
       "\t<tr><th></th><th scope=col>rs</th><th scope=col>alleles</th><th scope=col>chrom</th><th scope=col>pos</th><th scope=col>strand</th><th scope=col>assembly</th><th scope=col>center</th><th scope=col>protLSID</th><th scope=col>assayLSID</th><th scope=col>panelLSID</th><th scope=col>⋯</th><th scope=col>G141</th><th scope=col>G142</th><th scope=col>G143</th><th scope=col>G144</th><th scope=col>G145</th><th scope=col>G146</th><th scope=col>G147</th><th scope=col>G148</th><th scope=col>G149</th><th scope=col>G150</th></tr>\n",
       "\t<tr><th></th><th scope=col>&lt;chr&gt;</th><th scope=col>&lt;chr&gt;</th><th scope=col>&lt;chr&gt;</th><th scope=col>&lt;int&gt;</th><th scope=col>&lt;chr&gt;</th><th scope=col>&lt;lgl&gt;</th><th scope=col>&lt;lgl&gt;</th><th scope=col>&lt;lgl&gt;</th><th scope=col>&lt;lgl&gt;</th><th scope=col>&lt;lgl&gt;</th><th scope=col>⋯</th><th scope=col>&lt;chr&gt;</th><th scope=col>&lt;chr&gt;</th><th scope=col>&lt;chr&gt;</th><th scope=col>&lt;chr&gt;</th><th scope=col>&lt;chr&gt;</th><th scope=col>&lt;chr&gt;</th><th scope=col>&lt;chr&gt;</th><th scope=col>&lt;chr&gt;</th><th scope=col>&lt;chr&gt;</th><th scope=col>&lt;chr&gt;</th></tr>\n",
       "</thead>\n",
       "<tbody>\n",
       "\t<tr><th scope=row>9317</th><td>SNP9317 </td><td>A/G</td><td>ST4.03ch01</td><td>76112400</td><td>+</td><td>NA</td><td>NA</td><td>NA</td><td>NA</td><td>NA</td><td>⋯</td><td>AA</td><td>AA</td><td>AA</td><td>AA</td><td>AA</td><td>AA</td><td>AA</td><td>AA</td><td>AA</td><td>AA</td></tr>\n",
       "\t<tr><th scope=row>9318</th><td>SNP9318 </td><td>A/G</td><td>ST4.03ch01</td><td>76112450</td><td>+</td><td>NA</td><td>NA</td><td>NA</td><td>NA</td><td>NA</td><td>⋯</td><td>AA</td><td>AA</td><td>AA</td><td>AA</td><td>AA</td><td>AA</td><td>AA</td><td>AA</td><td>AA</td><td>AA</td></tr>\n",
       "\t<tr><th scope=row>54914</th><td>SNP54914</td><td>G/A</td><td>ST4.03ch08</td><td>20571240</td><td>+</td><td>NA</td><td>NA</td><td>NA</td><td>NA</td><td>NA</td><td>⋯</td><td>GG</td><td>GG</td><td>GG</td><td>GG</td><td>GG</td><td>GG</td><td>GG</td><td>GG</td><td>GG</td><td>GG</td></tr>\n",
       "\t<tr><th scope=row>83234</th><td>SNP83234</td><td>A/G</td><td>ST4.03ch12</td><td>59154862</td><td>+</td><td>NA</td><td>NA</td><td>NA</td><td>NA</td><td>NA</td><td>⋯</td><td>GG</td><td>GG</td><td>GG</td><td>GG</td><td>GG</td><td>GG</td><td>GG</td><td>GG</td><td>GG</td><td>GG</td></tr>\n",
       "</tbody>\n",
       "</table>\n"
      ],
      "text/latex": [
       "A data.frame: 4 × 161\n",
       "\\begin{tabular}{r|lllllllllllllllllllll}\n",
       "  & rs & alleles & chrom & pos & strand & assembly & center & protLSID & assayLSID & panelLSID & ⋯ & G141 & G142 & G143 & G144 & G145 & G146 & G147 & G148 & G149 & G150\\\\\n",
       "  & <chr> & <chr> & <chr> & <int> & <chr> & <lgl> & <lgl> & <lgl> & <lgl> & <lgl> & ⋯ & <chr> & <chr> & <chr> & <chr> & <chr> & <chr> & <chr> & <chr> & <chr> & <chr>\\\\\n",
       "\\hline\n",
       "\t9317 & SNP9317  & A/G & ST4.03ch01 & 76112400 & + & NA & NA & NA & NA & NA & ⋯ & AA & AA & AA & AA & AA & AA & AA & AA & AA & AA\\\\\n",
       "\t9318 & SNP9318  & A/G & ST4.03ch01 & 76112450 & + & NA & NA & NA & NA & NA & ⋯ & AA & AA & AA & AA & AA & AA & AA & AA & AA & AA\\\\\n",
       "\t54914 & SNP54914 & G/A & ST4.03ch08 & 20571240 & + & NA & NA & NA & NA & NA & ⋯ & GG & GG & GG & GG & GG & GG & GG & GG & GG & GG\\\\\n",
       "\t83234 & SNP83234 & A/G & ST4.03ch12 & 59154862 & + & NA & NA & NA & NA & NA & ⋯ & GG & GG & GG & GG & GG & GG & GG & GG & GG & GG\\\\\n",
       "\\end{tabular}\n"
      ],
      "text/markdown": [
       "\n",
       "A data.frame: 4 × 161\n",
       "\n",
       "| <!--/--> | rs &lt;chr&gt; | alleles &lt;chr&gt; | chrom &lt;chr&gt; | pos &lt;int&gt; | strand &lt;chr&gt; | assembly &lt;lgl&gt; | center &lt;lgl&gt; | protLSID &lt;lgl&gt; | assayLSID &lt;lgl&gt; | panelLSID &lt;lgl&gt; | ⋯ ⋯ | G141 &lt;chr&gt; | G142 &lt;chr&gt; | G143 &lt;chr&gt; | G144 &lt;chr&gt; | G145 &lt;chr&gt; | G146 &lt;chr&gt; | G147 &lt;chr&gt; | G148 &lt;chr&gt; | G149 &lt;chr&gt; | G150 &lt;chr&gt; |\n",
       "|---|---|---|---|---|---|---|---|---|---|---|---|---|---|---|---|---|---|---|---|---|---|\n",
       "| 9317 | SNP9317  | A/G | ST4.03ch01 | 76112400 | + | NA | NA | NA | NA | NA | ⋯ | AA | AA | AA | AA | AA | AA | AA | AA | AA | AA |\n",
       "| 9318 | SNP9318  | A/G | ST4.03ch01 | 76112450 | + | NA | NA | NA | NA | NA | ⋯ | AA | AA | AA | AA | AA | AA | AA | AA | AA | AA |\n",
       "| 54914 | SNP54914 | G/A | ST4.03ch08 | 20571240 | + | NA | NA | NA | NA | NA | ⋯ | GG | GG | GG | GG | GG | GG | GG | GG | GG | GG |\n",
       "| 83234 | SNP83234 | A/G | ST4.03ch12 | 59154862 | + | NA | NA | NA | NA | NA | ⋯ | GG | GG | GG | GG | GG | GG | GG | GG | GG | GG |\n",
       "\n"
      ],
      "text/plain": [
       "      rs       alleles chrom      pos      strand assembly center protLSID\n",
       "9317  SNP9317  A/G     ST4.03ch01 76112400 +      NA       NA     NA      \n",
       "9318  SNP9318  A/G     ST4.03ch01 76112450 +      NA       NA     NA      \n",
       "54914 SNP54914 G/A     ST4.03ch08 20571240 +      NA       NA     NA      \n",
       "83234 SNP83234 A/G     ST4.03ch12 59154862 +      NA       NA     NA      \n",
       "      assayLSID panelLSID ⋯ G141 G142 G143 G144 G145 G146 G147 G148 G149 G150\n",
       "9317  NA        NA        ⋯ AA   AA   AA   AA   AA   AA   AA   AA   AA   AA  \n",
       "9318  NA        NA        ⋯ AA   AA   AA   AA   AA   AA   AA   AA   AA   AA  \n",
       "54914 NA        NA        ⋯ GG   GG   GG   GG   GG   GG   GG   GG   GG   GG  \n",
       "83234 NA        NA        ⋯ GG   GG   GG   GG   GG   GG   GG   GG   GG   GG  "
      ]
     },
     "metadata": {},
     "output_type": "display_data"
    }
   ],
   "source": [
    "data <- read.table(data_file, sep = \"\\t\", header = TRUE)\n",
    "cat(\"Delphinidin possible loci:\")\n",
    "data[data$rs %in% delphinidin_significant$SNP, ]\n",
    "cat(\"Cyanidin found loci:\")\n",
    "data[data$rs %in% pve_cyanidin_table$SNP, ]\n"
   ]
  }
 ],
 "metadata": {
  "kernelspec": {
   "display_name": "R",
   "language": "R",
   "name": "ir"
  },
  "language_info": {
   "codemirror_mode": "r",
   "file_extension": ".r",
   "mimetype": "text/x-r-source",
   "name": "R",
   "pygments_lexer": "r",
   "version": "4.3.3"
  }
 },
 "nbformat": 4,
 "nbformat_minor": 2
}
