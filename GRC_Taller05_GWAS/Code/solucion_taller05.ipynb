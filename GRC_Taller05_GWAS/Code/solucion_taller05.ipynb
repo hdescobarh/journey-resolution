{
 "cells": [
  {
   "cell_type": "markdown",
   "metadata": {},
   "source": [
    "# Taller 5. GWAS-Mapeo por asociación para un rasgo complejo de interés\n",
    "Genética de rasgos complejos 2024-01 - Universidad Nacional de Colombia<br>\n",
    "Docente Johana Carolina Soto Sedano - jcsotos@unal.edu.co\n",
    " \n",
    "__Hans D. Escobar H.__ ([hdescobarh](https://github.com/hdescobarh))"
   ]
  },
  {
   "cell_type": "code",
   "execution_count": null,
   "metadata": {
    "tags": [
     "remove_cell"
    ],
    "vscode": {
     "languageId": "r"
    }
   },
   "outputs": [],
   "source": [
    "# Validaciones\n",
    "\n",
    "results_directory <- \"Results/ncomponents_3\"\n",
    "if (!dir.exists(results_directory)) {\n",
    "  stop(\"Results directory does not exist.\", call. = FALSE)\n",
    "}\n",
    "\n",
    "phenotypes <- c(\"Cyanidin\", \"Delphinidin\")\n",
    "missing <- character()\n",
    "results_paths <- character()\n",
    "for (p in phenotypes) {\n",
    "  current_file <- sprintf(\n",
    "    \"%s/GAPIT.Association.GWAS_Results.MLM.%s.csv\",\n",
    "    results_directory, p\n",
    "  )\n",
    "  if (file.exists(current_file)) {\n",
    "    results_paths <- append(results_paths, current_file)\n",
    "  } else {\n",
    "    missing <- append(missing, p)\n",
    "  }\n",
    "}\n",
    "\n",
    "if (length(missing) > 0) {\n",
    "  stop(\n",
    "    paste(\n",
    "      \"Did not found the following phenotypes: \",\n",
    "      paste(missing, collapse = \", \")\n",
    "    ),\n",
    "    call. = FALSE\n",
    "  )\n",
    "} else {\n",
    "  names(results_paths) <- phenotypes\n",
    "}\n"
   ]
  },
  {
   "cell_type": "markdown",
   "metadata": {},
   "source": [
    "## SNPs significativamente asociados\n"
   ]
  },
  {
   "cell_type": "code",
   "execution_count": null,
   "metadata": {
    "tags": [
     "remove_cell"
    ],
    "vscode": {
     "languageId": "r"
    }
   },
   "outputs": [],
   "source": [
    "obtener_significativos <- function(\n",
    "    results_file, p_value_threshold = 0.05, fdr_threshold = 0.05) {\n",
    "  df <- read.csv(\n",
    "    results_file,\n",
    "    row.names = 1\n",
    "  )\n",
    "  df <- df[\n",
    "    df$P.value < p_value_threshold & df$H.B.P.Value < fdr_threshold,\n",
    "  ]\n",
    "  df[order(df$P.value), ]\n",
    "  df <- subset(df, select = -c(4:5, 7))\n",
    "  df\n",
    "}\n",
    "significativos <- lapply(results_paths, obtener_significativos)\n"
   ]
  },
  {
   "cell_type": "code",
   "execution_count": null,
   "metadata": {
    "tags": [
     "remove_cell"
    ],
    "vscode": {
     "languageId": "r"
    }
   },
   "outputs": [],
   "source": [
    "pve_files <- list.files(results_directory, \"*PVE.MLM*\")\n",
    "pve_files\n"
   ]
  },
  {
   "cell_type": "code",
   "execution_count": null,
   "metadata": {
    "tags": [
     "remove_cell"
    ],
    "vscode": {
     "languageId": "r"
    }
   },
   "outputs": [],
   "source": [
    "significativos$Cyanidin$PVE <- read.csv(\n",
    "  paste(results_directory, \"/\", pve_files[[1]], sep = \"\"),\n",
    "  row.names = 1\n",
    ")$Phenotype_Variance_Explained\n"
   ]
  },
  {
   "cell_type": "markdown",
   "metadata": {},
   "source": [
    "### Cianidina"
   ]
  },
  {
   "cell_type": "code",
   "execution_count": null,
   "metadata": {
    "tags": [
     "remove_input"
    ],
    "vscode": {
     "languageId": "r"
    }
   },
   "outputs": [],
   "source": [
    "significativos$Cyanidin\n"
   ]
  },
  {
   "cell_type": "markdown",
   "metadata": {},
   "source": [
    "![GWAS_Manhattan_Cyanidin](../Results/ncomponents_3/GAPIT.Association.Manhattan_Geno.MLM.Cyanidin_1.png)"
   ]
  },
  {
   "cell_type": "markdown",
   "metadata": {},
   "source": [
    "### Delfinidina"
   ]
  },
  {
   "cell_type": "code",
   "execution_count": null,
   "metadata": {
    "tags": [
     "remove_input"
    ],
    "vscode": {
     "languageId": "r"
    }
   },
   "outputs": [],
   "source": [
    "significativos$Delphinidin\n"
   ]
  },
  {
   "cell_type": "markdown",
   "metadata": {},
   "source": [
    "![GWAS_Manhattan_Delphinidin](../Results/ncomponents_3/GAPIT.Association.Manhattan_Geno.MLM.Delphinidin_1.png)"
   ]
  },
  {
   "cell_type": "markdown",
   "metadata": {},
   "source": [
    "Me llama la atención que GAPIT consideró que los resultados para Delfinidina fueron no significativos. Sin embargo, el tipo _double_ tiene precisión entorno a 6-7 cifras significativas, y 0.0488524 < 0.05; por lo que, en el sentido estricto, es un positivo."
   ]
  },
  {
   "cell_type": "markdown",
   "metadata": {},
   "source": [
    "## Ajuste del modelo"
   ]
  },
  {
   "cell_type": "markdown",
   "metadata": {},
   "source": [
    "![QQ_plot_Cyanidin](../Results/ncomponents_3/GAPIT.Association.QQ.MLM.Cyanidin_1.png)"
   ]
  },
  {
   "cell_type": "markdown",
   "metadata": {},
   "source": [
    "![QQ_plot_Delphinidin](../Results/ncomponents_3/GAPIT.Association.QQ.MLM.Delphinidin_1.png)"
   ]
  },
  {
   "cell_type": "markdown",
   "metadata": {},
   "source": [
    "## Estructura poblacional"
   ]
  },
  {
   "cell_type": "markdown",
   "metadata": {},
   "source": [
    "![Kinship](../Results/ncomponents_3/GAPIT.Genotype.Kin_Zhang_1.png)"
   ]
  },
  {
   "cell_type": "markdown",
   "metadata": {},
   "source": [
    "## Bibliografía\n",
    "\n",
    "Wang, J., & Zhang, Z. (2021). GAPIT Version 3: Boosting Power and Accuracy for Genomic Association and Prediction. Genomics, Proteomics & Bioinformatics, 19(4), 629–640. https://doi.org/10.1016/j.gpb.2021.08.005\n"
   ]
  }
 ],
 "metadata": {
  "kernelspec": {
   "display_name": "R",
   "language": "R",
   "name": "ir"
  },
  "language_info": {
   "codemirror_mode": "r",
   "file_extension": ".r",
   "mimetype": "text/x-r-source",
   "name": "R",
   "pygments_lexer": "r",
   "version": "4.3.3"
  }
 },
 "nbformat": 4,
 "nbformat_minor": 2
}
