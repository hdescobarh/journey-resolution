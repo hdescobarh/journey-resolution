{
 "cells": [
  {
   "cell_type": "markdown",
   "metadata": {},
   "source": [
    "# Taller 5. GWAS-Mapeo por asociación para un rasgo complejo de interés\n",
    "Genética de rasgos complejos 2024-01 - Universidad Nacional de Colombia<br>\n",
    "Docente Johana Carolina Soto Sedano - jcsotos@unal.edu.co\n",
    " \n",
    "__Hans D. Escobar H.__ ([hdescobarh](https://github.com/hdescobarh))"
   ]
  },
  {
   "cell_type": "code",
   "execution_count": 16,
   "metadata": {
    "tags": [
     "remove_cell"
    ],
    "vscode": {
     "languageId": "r"
    }
   },
   "outputs": [],
   "source": [
    "# Configuración\n",
    "options(digits = 3)\n",
    "\n",
    "# Validaciones\n",
    "\n",
    "results_directory <- \"../Results/ncomponents_3\"\n",
    "if (!dir.exists(results_directory)) {\n",
    "  stop(\"Results directory does not exist.\", call. = FALSE)\n",
    "}\n",
    "\n",
    "phenotypes <- c(\"Cyanidin\", \"Delphinidin\")\n",
    "missing <- character()\n",
    "results_paths <- character()\n",
    "for (p in phenotypes) {\n",
    "  current_file <- sprintf(\n",
    "    \"%s/GAPIT.Association.GWAS_Results.MLM.%s.csv\",\n",
    "    results_directory, p\n",
    "  )\n",
    "  if (file.exists(current_file)) {\n",
    "    results_paths <- append(results_paths, current_file)\n",
    "  } else {\n",
    "    missing <- append(missing, p)\n",
    "  }\n",
    "}\n",
    "\n",
    "if (length(missing) > 0) {\n",
    "  stop(\n",
    "    paste(\n",
    "      \"Did not found the following phenotypes: \",\n",
    "      paste(missing, collapse = \", \")\n",
    "    ),\n",
    "    call. = FALSE\n",
    "  )\n",
    "} else {\n",
    "  names(results_paths) <- phenotypes\n",
    "}\n"
   ]
  },
  {
   "cell_type": "markdown",
   "metadata": {},
   "source": [
    "## SNPs significativamente asociados\n"
   ]
  },
  {
   "cell_type": "code",
   "execution_count": 17,
   "metadata": {
    "tags": [
     "remove_cell"
    ],
    "vscode": {
     "languageId": "r"
    }
   },
   "outputs": [],
   "source": [
    "obtener_significativos <- function(\n",
    "    results_file, p_value_threshold = 0.05, fdr_threshold = 0.05) {\n",
    "  df <- read.csv(\n",
    "    results_file,\n",
    "    row.names = 1\n",
    "  )\n",
    "  df <- df[\n",
    "    df$P.value < p_value_threshold & df$H.B.P.Value < fdr_threshold,\n",
    "  ]\n",
    "  df[order(df$P.value), ]\n",
    "  df <- subset(df, select = -c(4:5, 7))\n",
    "  df\n",
    "}\n",
    "significativos <- lapply(results_paths, obtener_significativos)\n"
   ]
  },
  {
   "cell_type": "code",
   "execution_count": 18,
   "metadata": {
    "tags": [
     "remove_cell"
    ],
    "vscode": {
     "languageId": "r"
    }
   },
   "outputs": [
    {
     "data": {
      "text/html": [
       "'GAPIT.Association.PVE.MLM.Cyanidin.csv'"
      ],
      "text/latex": [
       "'GAPIT.Association.PVE.MLM.Cyanidin.csv'"
      ],
      "text/markdown": [
       "'GAPIT.Association.PVE.MLM.Cyanidin.csv'"
      ],
      "text/plain": [
       "[1] \"GAPIT.Association.PVE.MLM.Cyanidin.csv\""
      ]
     },
     "metadata": {},
     "output_type": "display_data"
    }
   ],
   "source": [
    "# Encontrar tablas con información del la varianza fenotípica explicada\n",
    "pve_files <- list.files(results_directory, \"*PVE.MLM*\")\n",
    "pve_files\n"
   ]
  },
  {
   "cell_type": "code",
   "execution_count": 19,
   "metadata": {
    "tags": [
     "remove_cell"
    ],
    "vscode": {
     "languageId": "r"
    }
   },
   "outputs": [],
   "source": [
    "# Solo Cianidina tiene PVE, extraerlo y anexarlo\n",
    "significativos$Cyanidin <- merge(\n",
    "  significativos$Cyanidin,\n",
    "  subset(read.csv(\n",
    "    paste(results_directory, \"/\", pve_files[[1]], sep = \"\"),\n",
    "    row.names = 1\n",
    "  ), select = c(\"Phenotype_Variance_Explained...\")),\n",
    "  by = \"row.names\"\n",
    ")\n",
    "rownames(significativos$Cyanidin) <- significativos$Cyanidin$Row.names\n",
    "significativos$Cyanidin <- subset(significativos$Cyanidin, select = -c(1))\n",
    "colnames(significativos$Cyanidin)[\n",
    "  which(\n",
    "    names(significativos$Cyanidin) == \"Phenotype_Variance_Explained...\"\n",
    "  )\n",
    "] <- \"PVE\"\n"
   ]
  },
  {
   "cell_type": "markdown",
   "metadata": {},
   "source": [
    "### Cianidina"
   ]
  },
  {
   "cell_type": "code",
   "execution_count": 37,
   "metadata": {
    "tags": [
     "remove_input"
    ],
    "vscode": {
     "languageId": "r"
    }
   },
   "outputs": [
    {
     "name": "stdout",
     "output_type": "stream",
     "text": [
      "Tabla 1. SNPs con asociación significativa - Cianidina"
     ]
    },
    {
     "data": {
      "text/html": [
       "<table class=\"dataframe\">\n",
       "<caption>A data.frame: 4 × 5</caption>\n",
       "<thead>\n",
       "\t<tr><th></th><th scope=col>Chr</th><th scope=col>Pos</th><th scope=col>P.value</th><th scope=col>H.B.P.Value</th><th scope=col>PVE</th></tr>\n",
       "\t<tr><th></th><th scope=col>&lt;chr&gt;</th><th scope=col>&lt;int&gt;</th><th scope=col>&lt;dbl&gt;</th><th scope=col>&lt;dbl&gt;</th><th scope=col>&lt;dbl&gt;</th></tr>\n",
       "</thead>\n",
       "<tbody>\n",
       "\t<tr><th scope=row>SNP54914</th><td>ST4.03ch08</td><td>20571240</td><td>4.59e-08</td><td>0.00384</td><td>14.84</td></tr>\n",
       "\t<tr><th scope=row>SNP83234</th><td>ST4.03ch12</td><td>59154862</td><td>3.12e-07</td><td>0.00809</td><td>68.94</td></tr>\n",
       "\t<tr><th scope=row>SNP9317</th><td>ST4.03ch01</td><td>76112400</td><td>3.86e-07</td><td>0.00809</td><td> 3.12</td></tr>\n",
       "\t<tr><th scope=row>SNP9318</th><td>ST4.03ch01</td><td>76112450</td><td>3.86e-07</td><td>0.00809</td><td> 2.32</td></tr>\n",
       "</tbody>\n",
       "</table>\n"
      ],
      "text/latex": [
       "A data.frame: 4 × 5\n",
       "\\begin{tabular}{r|lllll}\n",
       "  & Chr & Pos & P.value & H.B.P.Value & PVE\\\\\n",
       "  & <chr> & <int> & <dbl> & <dbl> & <dbl>\\\\\n",
       "\\hline\n",
       "\tSNP54914 & ST4.03ch08 & 20571240 & 4.59e-08 & 0.00384 & 14.84\\\\\n",
       "\tSNP83234 & ST4.03ch12 & 59154862 & 3.12e-07 & 0.00809 & 68.94\\\\\n",
       "\tSNP9317 & ST4.03ch01 & 76112400 & 3.86e-07 & 0.00809 &  3.12\\\\\n",
       "\tSNP9318 & ST4.03ch01 & 76112450 & 3.86e-07 & 0.00809 &  2.32\\\\\n",
       "\\end{tabular}\n"
      ],
      "text/markdown": [
       "\n",
       "A data.frame: 4 × 5\n",
       "\n",
       "| <!--/--> | Chr &lt;chr&gt; | Pos &lt;int&gt; | P.value &lt;dbl&gt; | H.B.P.Value &lt;dbl&gt; | PVE &lt;dbl&gt; |\n",
       "|---|---|---|---|---|---|\n",
       "| SNP54914 | ST4.03ch08 | 20571240 | 4.59e-08 | 0.00384 | 14.84 |\n",
       "| SNP83234 | ST4.03ch12 | 59154862 | 3.12e-07 | 0.00809 | 68.94 |\n",
       "| SNP9317 | ST4.03ch01 | 76112400 | 3.86e-07 | 0.00809 |  3.12 |\n",
       "| SNP9318 | ST4.03ch01 | 76112450 | 3.86e-07 | 0.00809 |  2.32 |\n",
       "\n"
      ],
      "text/plain": [
       "         Chr        Pos      P.value  H.B.P.Value PVE  \n",
       "SNP54914 ST4.03ch08 20571240 4.59e-08 0.00384     14.84\n",
       "SNP83234 ST4.03ch12 59154862 3.12e-07 0.00809     68.94\n",
       "SNP9317  ST4.03ch01 76112400 3.86e-07 0.00809      3.12\n",
       "SNP9318  ST4.03ch01 76112450 3.86e-07 0.00809      2.32"
      ]
     },
     "metadata": {},
     "output_type": "display_data"
    }
   ],
   "source": [
    "cat(\"Tabla 1. SNPs con asociación significativa - Cianidina\")\n",
    "significativos$Cyanidin\n"
   ]
  },
  {
   "cell_type": "markdown",
   "metadata": {},
   "source": [
    "Para Cianidina se encontraron cuatro SNPs con asociación significativa: dos de ellos en el cromosoma 1 a 50pb de distancia, uno en cromosoma 8, y otro en el 12 (Fig. 1 y Tabla 1). Notablemente, el marcador 83234 por sí solo explica cerca del 70% de la varianza fenotípica (Tabla 1). </br>\n",
    "\n",
    "![GWAS_Manhattan_Cyanidin](../Results/ncomponents_3/GAPIT.Association.Manhattan_Geno.MLM.Cyanidin_1.png)</br>\n",
    "__Figura 1. Manhattan Plot Cianidina__"
   ]
  },
  {
   "cell_type": "markdown",
   "metadata": {},
   "source": [
    "### Delfinidina"
   ]
  },
  {
   "cell_type": "code",
   "execution_count": 36,
   "metadata": {
    "tags": [
     "remove_input"
    ],
    "vscode": {
     "languageId": "r"
    }
   },
   "outputs": [
    {
     "name": "stdout",
     "output_type": "stream",
     "text": [
      "Tabla 2. SNPs con asociación significativa - Delfinidina"
     ]
    },
    {
     "data": {
      "text/html": [
       "<table class=\"dataframe\">\n",
       "<caption>A data.frame: 5 × 4</caption>\n",
       "<thead>\n",
       "\t<tr><th></th><th scope=col>Chr</th><th scope=col>Pos</th><th scope=col>P.value</th><th scope=col>H.B.P.Value</th></tr>\n",
       "\t<tr><th></th><th scope=col>&lt;chr&gt;</th><th scope=col>&lt;int&gt;</th><th scope=col>&lt;dbl&gt;</th><th scope=col>&lt;dbl&gt;</th></tr>\n",
       "</thead>\n",
       "<tbody>\n",
       "\t<tr><th scope=row>SNP12429</th><td>ST4.03ch02</td><td>7161936</td><td>2.91e-06</td><td>0.0489</td></tr>\n",
       "\t<tr><th scope=row>SNP12430</th><td>ST4.03ch02</td><td>7161938</td><td>2.91e-06</td><td>0.0489</td></tr>\n",
       "\t<tr><th scope=row>SNP12431</th><td>ST4.03ch02</td><td>7161942</td><td>2.91e-06</td><td>0.0489</td></tr>\n",
       "\t<tr><th scope=row>SNP12432</th><td>ST4.03ch02</td><td>7161962</td><td>2.91e-06</td><td>0.0489</td></tr>\n",
       "\t<tr><th scope=row>SNP12433</th><td>ST4.03ch02</td><td>7162010</td><td>2.91e-06</td><td>0.0489</td></tr>\n",
       "</tbody>\n",
       "</table>\n"
      ],
      "text/latex": [
       "A data.frame: 5 × 4\n",
       "\\begin{tabular}{r|llll}\n",
       "  & Chr & Pos & P.value & H.B.P.Value\\\\\n",
       "  & <chr> & <int> & <dbl> & <dbl>\\\\\n",
       "\\hline\n",
       "\tSNP12429 & ST4.03ch02 & 7161936 & 2.91e-06 & 0.0489\\\\\n",
       "\tSNP12430 & ST4.03ch02 & 7161938 & 2.91e-06 & 0.0489\\\\\n",
       "\tSNP12431 & ST4.03ch02 & 7161942 & 2.91e-06 & 0.0489\\\\\n",
       "\tSNP12432 & ST4.03ch02 & 7161962 & 2.91e-06 & 0.0489\\\\\n",
       "\tSNP12433 & ST4.03ch02 & 7162010 & 2.91e-06 & 0.0489\\\\\n",
       "\\end{tabular}\n"
      ],
      "text/markdown": [
       "\n",
       "A data.frame: 5 × 4\n",
       "\n",
       "| <!--/--> | Chr &lt;chr&gt; | Pos &lt;int&gt; | P.value &lt;dbl&gt; | H.B.P.Value &lt;dbl&gt; |\n",
       "|---|---|---|---|---|\n",
       "| SNP12429 | ST4.03ch02 | 7161936 | 2.91e-06 | 0.0489 |\n",
       "| SNP12430 | ST4.03ch02 | 7161938 | 2.91e-06 | 0.0489 |\n",
       "| SNP12431 | ST4.03ch02 | 7161942 | 2.91e-06 | 0.0489 |\n",
       "| SNP12432 | ST4.03ch02 | 7161962 | 2.91e-06 | 0.0489 |\n",
       "| SNP12433 | ST4.03ch02 | 7162010 | 2.91e-06 | 0.0489 |\n",
       "\n"
      ],
      "text/plain": [
       "         Chr        Pos     P.value  H.B.P.Value\n",
       "SNP12429 ST4.03ch02 7161936 2.91e-06 0.0489     \n",
       "SNP12430 ST4.03ch02 7161938 2.91e-06 0.0489     \n",
       "SNP12431 ST4.03ch02 7161942 2.91e-06 0.0489     \n",
       "SNP12432 ST4.03ch02 7161962 2.91e-06 0.0489     \n",
       "SNP12433 ST4.03ch02 7162010 2.91e-06 0.0489     "
      ]
     },
     "metadata": {},
     "output_type": "display_data"
    }
   ],
   "source": [
    "cat(\"Tabla 2. SNPs con asociación significativa - Delfinidina\")\n",
    "significativos$Delphinidin\n"
   ]
  },
  {
   "cell_type": "code",
   "execution_count": 34,
   "metadata": {
    "tags": [
     "remove_cell"
    ],
    "vscode": {
     "languageId": "r"
    }
   },
   "outputs": [
    {
     "name": "stdout",
     "output_type": "stream",
     "text": [
      "Ancho bloque: 74pb\n",
      "Distancia Euclidea media al vecino mas cercano: 15.2pb"
     ]
    }
   ],
   "source": [
    "distances <- numeric()\n",
    "for (marker in rownames(significativos$Delphinidin)) {\n",
    "  min_distance <- min(\n",
    "    abs(\n",
    "      significativos$Delphinidin[\n",
    "        which(rownames(significativos$Delphinidin) != marker), \"Pos\"\n",
    "      ] - significativos$Delphinidin[marker, \"Pos\"]\n",
    "    )\n",
    "  )\n",
    "  distances <- append(distances, min_distance)\n",
    "}\n",
    "\n",
    "cat(\n",
    "  \"Ancho bloque: \",\n",
    "  max(significativos$Delphinidin$Pos) - min(significativos$Delphinidin$Pos),\n",
    "  \"pb\",\n",
    "  \"\\nDistancia Euclidea media al vecino mas cercano: \",\n",
    "  mean(distances), \"pb\",\n",
    "  sep = \"\"\n",
    ")\n"
   ]
  },
  {
   "cell_type": "markdown",
   "metadata": {},
   "source": [
    "Según el criterio empleado por GAPIT, para Delfinidina no hubo marcadores con asociaciones significativas (Fig. 2); en contraste, considerando un FDR < 0.05 (Benjamini & Hochberg, 1995), sí hay 5 SNPs significativos (Tabla 2).\n",
    "\n",
    "Es importante notar que el FDR está cerca al umbral. Los 5 marcadores identificados están en el mismo cromosoma y __contiguos__, formando un bloque de 74pb con distancia euclídea media entre marcadores de 15pb. Si bien, el decaimiento de DL es entorno a 1pb y el DL promedio es bajo (Fig. 5), el QQ plot sugiere algo de estratificación en los datos (Fig. 4), lo cual aumenta la aparición de asociaciones espurias (Price et al., 2010). Por lo tanto, estos marcadores deben tomarse con bastante prudencia.\n",
    "\n",
    "![GWAS_Manhattan_Delphinidin](../Results/ncomponents_3/GAPIT.Association.Manhattan_Geno.MLM.Delphinidin_1.png)</br>\n",
    "__Figura 2. Manhattan Plot Delfinidina__"
   ]
  },
  {
   "cell_type": "markdown",
   "metadata": {},
   "source": [
    "## Ajuste del modelo"
   ]
  },
  {
   "cell_type": "markdown",
   "metadata": {},
   "source": [
    "![QQ_plot_Cyanidin](../Results/ncomponents_3/GAPIT.Association.QQ.MLM.Cyanidin_1.png)</br>\n",
    "__Figura 3. QQ Plot Cianidina__\n",
    "\n",
    "![QQ_plot_Delphinidin](../Results/ncomponents_3/GAPIT.Association.QQ.MLM.Delphinidin_1.png)</br>\n",
    "__Figura 4. QQ Plot Delfinidina__"
   ]
  },
  {
   "cell_type": "markdown",
   "metadata": {},
   "source": [
    "## Desequilibrio de ligamiento y estructura poblacional "
   ]
  },
  {
   "cell_type": "markdown",
   "metadata": {},
   "source": [
    "![DL](../Results/ncomponents_3/GAPIT.Genotype.Distance_R_Chro_1.png)</br>\n",
    "__Figura 5__\n",
    "\n",
    "![Kinship](../Results/ncomponents_3/GAPIT.Genotype.Kin_Zhang_1.png)</br>\n",
    "__Figura 6. Mapa de calor Kinship__\n"
   ]
  },
  {
   "cell_type": "markdown",
   "metadata": {},
   "source": [
    "## Bibliografía\n",
    "\n",
    "Benjamini, Y., & Hochberg, Y. (1995). Controlling the False Discovery Rate: A Practical and Powerful Approach to Multiple Testing. Journal of the Royal Statistical Society Series B: Statistical Methodology, 57(1), 289–300. https://doi.org/10.1111/j.2517-6161.1995.tb02031.x\n",
    "\n",
    "Price, A. L., Zaitlen, N. A., Reich, D., & Patterson, N. (2010). New approaches to population stratification in genome-wide association studies. Nature Reviews Genetics, 11(7), 459–463. https://doi.org/10.1038/nrg2813\n",
    "\n",
    "Wang, J., & Zhang, Z. (2021). GAPIT Version 3: Boosting Power and Accuracy for Genomic Association and Prediction. Genomics, Proteomics & Bioinformatics, 19(4), 629–640. https://doi.org/10.1016/j.gpb.2021.08.005\n"
   ]
  }
 ],
 "metadata": {
  "kernelspec": {
   "display_name": "R",
   "language": "R",
   "name": "ir"
  },
  "language_info": {
   "codemirror_mode": "r",
   "file_extension": ".r",
   "mimetype": "text/x-r-source",
   "name": "R",
   "pygments_lexer": "r",
   "version": "4.3.3"
  }
 },
 "nbformat": 4,
 "nbformat_minor": 2
}
