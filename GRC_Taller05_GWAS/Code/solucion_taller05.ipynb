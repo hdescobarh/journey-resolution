{
 "cells": [
  {
   "cell_type": "markdown",
   "metadata": {},
   "source": [
    "# Taller 5. GWAS-Mapeo por asociación para un rasgo complejo de interés\n",
    "Genética de rasgos complejos 2024-01 - Universidad Nacional de Colombia<br>\n",
    "Docente Johana Carolina Soto Sedano - jcsotos@unal.edu.co\n",
    " \n",
    "__Hans D. Escobar H.__ ([hdescobarh](https://github.com/hdescobarh))"
   ]
  },
  {
   "cell_type": "code",
   "execution_count": 8,
   "metadata": {
    "tags": [
     "remove_cell"
    ],
    "vscode": {
     "languageId": "r"
    }
   },
   "outputs": [],
   "source": [
    "# Configuración\n",
    "options(digits = 3)\n",
    "\n",
    "# Validaciones\n",
    "\n",
    "results_directory <- \"../Results/ncomponents_3\"\n",
    "if (!dir.exists(results_directory)) {\n",
    "  stop(\"Results directory does not exist.\", call. = FALSE)\n",
    "}\n",
    "\n",
    "phenotypes <- c(\"Cyanidin\", \"Delphinidin\")\n",
    "missing <- character()\n",
    "results_paths <- character()\n",
    "for (p in phenotypes) {\n",
    "  current_file <- sprintf(\n",
    "    \"%s/GAPIT.Association.GWAS_Results.MLM.%s.csv\",\n",
    "    results_directory, p\n",
    "  )\n",
    "  if (file.exists(current_file)) {\n",
    "    results_paths <- append(results_paths, current_file)\n",
    "  } else {\n",
    "    missing <- append(missing, p)\n",
    "  }\n",
    "}\n",
    "\n",
    "if (length(missing) > 0) {\n",
    "  stop(\n",
    "    paste(\n",
    "      \"Did not found the following phenotypes: \",\n",
    "      paste(missing, collapse = \", \")\n",
    "    ),\n",
    "    call. = FALSE\n",
    "  )\n",
    "} else {\n",
    "  names(results_paths) <- phenotypes\n",
    "}\n"
   ]
  },
  {
   "cell_type": "markdown",
   "metadata": {},
   "source": [
    "## SNPs significativamente asociados\n"
   ]
  },
  {
   "cell_type": "code",
   "execution_count": 9,
   "metadata": {
    "tags": [
     "remove_cell"
    ],
    "vscode": {
     "languageId": "r"
    }
   },
   "outputs": [],
   "source": [
    "obtener_significativos <- function(\n",
    "    results_file, p_value_threshold = 0.05, fdr_threshold = 0.05) {\n",
    "  df <- read.csv(\n",
    "    results_file,\n",
    "    row.names = 1\n",
    "  )\n",
    "  df <- df[\n",
    "    df$P.value < p_value_threshold & df$H.B.P.Value < fdr_threshold,\n",
    "  ]\n",
    "  df[order(df$P.value), ]\n",
    "  df <- subset(df, select = -c(4:5, 7))\n",
    "  df\n",
    "}\n",
    "significativos <- lapply(results_paths, obtener_significativos)\n"
   ]
  },
  {
   "cell_type": "code",
   "execution_count": 10,
   "metadata": {
    "tags": [
     "remove_cell"
    ],
    "vscode": {
     "languageId": "r"
    }
   },
   "outputs": [
    {
     "data": {
      "text/html": [
       "'GAPIT.Association.PVE.MLM.Cyanidin.csv'"
      ],
      "text/latex": [
       "'GAPIT.Association.PVE.MLM.Cyanidin.csv'"
      ],
      "text/markdown": [
       "'GAPIT.Association.PVE.MLM.Cyanidin.csv'"
      ],
      "text/plain": [
       "[1] \"GAPIT.Association.PVE.MLM.Cyanidin.csv\""
      ]
     },
     "metadata": {},
     "output_type": "display_data"
    }
   ],
   "source": [
    "# Encontrar tablas con información del la varianza fenotípica explicada\n",
    "pve_files <- list.files(results_directory, \"*PVE.MLM*\")\n",
    "pve_files\n"
   ]
  },
  {
   "cell_type": "code",
   "execution_count": 11,
   "metadata": {
    "vscode": {
     "languageId": "r"
    }
   },
   "outputs": [],
   "source": [
    "# Solo Cianidina tiene PVE, extraerlo y anexarlo\n",
    "significativos$Cyanidin <- merge(\n",
    "  significativos$Cyanidin,\n",
    "  subset(read.csv(\n",
    "    paste(results_directory, \"/\", pve_files[[1]], sep = \"\"),\n",
    "    row.names = 1\n",
    "  ), select = c(\"Phenotype_Variance_Explained...\")),\n",
    "  by = \"row.names\"\n",
    ")\n",
    "rownames(significativos$Cyanidin) <- significativos$Cyanidin$Row.names\n",
    "significativos$Cyanidin <- subset(significativos$Cyanidin, select = -c(1))\n",
    "colnames(significativos$Cyanidin)[\n",
    "  which(\n",
    "    names(significativos$Cyanidin) == \"Phenotype_Variance_Explained...\"\n",
    "  )\n",
    "] <- \"PVE\"\n"
   ]
  },
  {
   "cell_type": "markdown",
   "metadata": {},
   "source": [
    "### Cianidina"
   ]
  },
  {
   "cell_type": "code",
   "execution_count": 12,
   "metadata": {
    "tags": [
     "remove_input"
    ],
    "vscode": {
     "languageId": "r"
    }
   },
   "outputs": [
    {
     "data": {
      "text/html": [
       "<table class=\"dataframe\">\n",
       "<caption>A data.frame: 4 × 5</caption>\n",
       "<thead>\n",
       "\t<tr><th></th><th scope=col>Chr</th><th scope=col>Pos</th><th scope=col>P.value</th><th scope=col>H.B.P.Value</th><th scope=col>PVE</th></tr>\n",
       "\t<tr><th></th><th scope=col>&lt;chr&gt;</th><th scope=col>&lt;int&gt;</th><th scope=col>&lt;dbl&gt;</th><th scope=col>&lt;dbl&gt;</th><th scope=col>&lt;dbl&gt;</th></tr>\n",
       "</thead>\n",
       "<tbody>\n",
       "\t<tr><th scope=row>SNP54914</th><td>ST4.03ch08</td><td>20571240</td><td>4.59e-08</td><td>0.00384</td><td>14.84</td></tr>\n",
       "\t<tr><th scope=row>SNP83234</th><td>ST4.03ch12</td><td>59154862</td><td>3.12e-07</td><td>0.00809</td><td>68.94</td></tr>\n",
       "\t<tr><th scope=row>SNP9317</th><td>ST4.03ch01</td><td>76112400</td><td>3.86e-07</td><td>0.00809</td><td> 3.12</td></tr>\n",
       "\t<tr><th scope=row>SNP9318</th><td>ST4.03ch01</td><td>76112450</td><td>3.86e-07</td><td>0.00809</td><td> 2.32</td></tr>\n",
       "</tbody>\n",
       "</table>\n"
      ],
      "text/latex": [
       "A data.frame: 4 × 5\n",
       "\\begin{tabular}{r|lllll}\n",
       "  & Chr & Pos & P.value & H.B.P.Value & PVE\\\\\n",
       "  & <chr> & <int> & <dbl> & <dbl> & <dbl>\\\\\n",
       "\\hline\n",
       "\tSNP54914 & ST4.03ch08 & 20571240 & 4.59e-08 & 0.00384 & 14.84\\\\\n",
       "\tSNP83234 & ST4.03ch12 & 59154862 & 3.12e-07 & 0.00809 & 68.94\\\\\n",
       "\tSNP9317 & ST4.03ch01 & 76112400 & 3.86e-07 & 0.00809 &  3.12\\\\\n",
       "\tSNP9318 & ST4.03ch01 & 76112450 & 3.86e-07 & 0.00809 &  2.32\\\\\n",
       "\\end{tabular}\n"
      ],
      "text/markdown": [
       "\n",
       "A data.frame: 4 × 5\n",
       "\n",
       "| <!--/--> | Chr &lt;chr&gt; | Pos &lt;int&gt; | P.value &lt;dbl&gt; | H.B.P.Value &lt;dbl&gt; | PVE &lt;dbl&gt; |\n",
       "|---|---|---|---|---|---|\n",
       "| SNP54914 | ST4.03ch08 | 20571240 | 4.59e-08 | 0.00384 | 14.84 |\n",
       "| SNP83234 | ST4.03ch12 | 59154862 | 3.12e-07 | 0.00809 | 68.94 |\n",
       "| SNP9317 | ST4.03ch01 | 76112400 | 3.86e-07 | 0.00809 |  3.12 |\n",
       "| SNP9318 | ST4.03ch01 | 76112450 | 3.86e-07 | 0.00809 |  2.32 |\n",
       "\n"
      ],
      "text/plain": [
       "         Chr        Pos      P.value  H.B.P.Value PVE  \n",
       "SNP54914 ST4.03ch08 20571240 4.59e-08 0.00384     14.84\n",
       "SNP83234 ST4.03ch12 59154862 3.12e-07 0.00809     68.94\n",
       "SNP9317  ST4.03ch01 76112400 3.86e-07 0.00809      3.12\n",
       "SNP9318  ST4.03ch01 76112450 3.86e-07 0.00809      2.32"
      ]
     },
     "metadata": {},
     "output_type": "display_data"
    }
   ],
   "source": [
    "significativos$Cyanidin\n"
   ]
  },
  {
   "cell_type": "code",
   "execution_count": 13,
   "metadata": {
    "vscode": {
     "languageId": "r"
    }
   },
   "outputs": [
    {
     "data": {
      "text/html": [
       "<table class=\"dataframe\">\n",
       "<caption>A data.frame: 4 × 5</caption>\n",
       "<thead>\n",
       "\t<tr><th></th><th scope=col>Chr</th><th scope=col>Pos</th><th scope=col>P.value</th><th scope=col>H.B.P.Value</th><th scope=col>PVE</th></tr>\n",
       "\t<tr><th></th><th scope=col>&lt;chr&gt;</th><th scope=col>&lt;int&gt;</th><th scope=col>&lt;dbl&gt;</th><th scope=col>&lt;dbl&gt;</th><th scope=col>&lt;dbl&gt;</th></tr>\n",
       "</thead>\n",
       "<tbody>\n",
       "\t<tr><th scope=row>SNP54914</th><td>ST4.03ch08</td><td>20571240</td><td>4.59e-08</td><td>0.00384</td><td>14.84</td></tr>\n",
       "\t<tr><th scope=row>SNP83234</th><td>ST4.03ch12</td><td>59154862</td><td>3.12e-07</td><td>0.00809</td><td>68.94</td></tr>\n",
       "\t<tr><th scope=row>SNP9317</th><td>ST4.03ch01</td><td>76112400</td><td>3.86e-07</td><td>0.00809</td><td> 3.12</td></tr>\n",
       "\t<tr><th scope=row>SNP9318</th><td>ST4.03ch01</td><td>76112450</td><td>3.86e-07</td><td>0.00809</td><td> 2.32</td></tr>\n",
       "</tbody>\n",
       "</table>\n"
      ],
      "text/latex": [
       "A data.frame: 4 × 5\n",
       "\\begin{tabular}{r|lllll}\n",
       "  & Chr & Pos & P.value & H.B.P.Value & PVE\\\\\n",
       "  & <chr> & <int> & <dbl> & <dbl> & <dbl>\\\\\n",
       "\\hline\n",
       "\tSNP54914 & ST4.03ch08 & 20571240 & 4.59e-08 & 0.00384 & 14.84\\\\\n",
       "\tSNP83234 & ST4.03ch12 & 59154862 & 3.12e-07 & 0.00809 & 68.94\\\\\n",
       "\tSNP9317 & ST4.03ch01 & 76112400 & 3.86e-07 & 0.00809 &  3.12\\\\\n",
       "\tSNP9318 & ST4.03ch01 & 76112450 & 3.86e-07 & 0.00809 &  2.32\\\\\n",
       "\\end{tabular}\n"
      ],
      "text/markdown": [
       "\n",
       "A data.frame: 4 × 5\n",
       "\n",
       "| <!--/--> | Chr &lt;chr&gt; | Pos &lt;int&gt; | P.value &lt;dbl&gt; | H.B.P.Value &lt;dbl&gt; | PVE &lt;dbl&gt; |\n",
       "|---|---|---|---|---|---|\n",
       "| SNP54914 | ST4.03ch08 | 20571240 | 4.59e-08 | 0.00384 | 14.84 |\n",
       "| SNP83234 | ST4.03ch12 | 59154862 | 3.12e-07 | 0.00809 | 68.94 |\n",
       "| SNP9317 | ST4.03ch01 | 76112400 | 3.86e-07 | 0.00809 |  3.12 |\n",
       "| SNP9318 | ST4.03ch01 | 76112450 | 3.86e-07 | 0.00809 |  2.32 |\n",
       "\n"
      ],
      "text/plain": [
       "         Chr        Pos      P.value  H.B.P.Value PVE  \n",
       "SNP54914 ST4.03ch08 20571240 4.59e-08 0.00384     14.84\n",
       "SNP83234 ST4.03ch12 59154862 3.12e-07 0.00809     68.94\n",
       "SNP9317  ST4.03ch01 76112400 3.86e-07 0.00809      3.12\n",
       "SNP9318  ST4.03ch01 76112450 3.86e-07 0.00809      2.32"
      ]
     },
     "metadata": {},
     "output_type": "display_data"
    }
   ],
   "source": [
    "significativos$Cyanidin\n"
   ]
  },
  {
   "cell_type": "markdown",
   "metadata": {},
   "source": [
    "![GWAS_Manhattan_Cyanidin](../Results/ncomponents_3/GAPIT.Association.Manhattan_Geno.MLM.Cyanidin_1.png)"
   ]
  },
  {
   "cell_type": "markdown",
   "metadata": {},
   "source": [
    "### Delfinidina"
   ]
  },
  {
   "cell_type": "code",
   "execution_count": 14,
   "metadata": {
    "tags": [
     "remove_input"
    ],
    "vscode": {
     "languageId": "r"
    }
   },
   "outputs": [
    {
     "data": {
      "text/html": [
       "<table class=\"dataframe\">\n",
       "<caption>A data.frame: 5 × 4</caption>\n",
       "<thead>\n",
       "\t<tr><th></th><th scope=col>Chr</th><th scope=col>Pos</th><th scope=col>P.value</th><th scope=col>H.B.P.Value</th></tr>\n",
       "\t<tr><th></th><th scope=col>&lt;chr&gt;</th><th scope=col>&lt;int&gt;</th><th scope=col>&lt;dbl&gt;</th><th scope=col>&lt;dbl&gt;</th></tr>\n",
       "</thead>\n",
       "<tbody>\n",
       "\t<tr><th scope=row>SNP12429</th><td>ST4.03ch02</td><td>7161936</td><td>2.91e-06</td><td>0.0489</td></tr>\n",
       "\t<tr><th scope=row>SNP12430</th><td>ST4.03ch02</td><td>7161938</td><td>2.91e-06</td><td>0.0489</td></tr>\n",
       "\t<tr><th scope=row>SNP12431</th><td>ST4.03ch02</td><td>7161942</td><td>2.91e-06</td><td>0.0489</td></tr>\n",
       "\t<tr><th scope=row>SNP12432</th><td>ST4.03ch02</td><td>7161962</td><td>2.91e-06</td><td>0.0489</td></tr>\n",
       "\t<tr><th scope=row>SNP12433</th><td>ST4.03ch02</td><td>7162010</td><td>2.91e-06</td><td>0.0489</td></tr>\n",
       "</tbody>\n",
       "</table>\n"
      ],
      "text/latex": [
       "A data.frame: 5 × 4\n",
       "\\begin{tabular}{r|llll}\n",
       "  & Chr & Pos & P.value & H.B.P.Value\\\\\n",
       "  & <chr> & <int> & <dbl> & <dbl>\\\\\n",
       "\\hline\n",
       "\tSNP12429 & ST4.03ch02 & 7161936 & 2.91e-06 & 0.0489\\\\\n",
       "\tSNP12430 & ST4.03ch02 & 7161938 & 2.91e-06 & 0.0489\\\\\n",
       "\tSNP12431 & ST4.03ch02 & 7161942 & 2.91e-06 & 0.0489\\\\\n",
       "\tSNP12432 & ST4.03ch02 & 7161962 & 2.91e-06 & 0.0489\\\\\n",
       "\tSNP12433 & ST4.03ch02 & 7162010 & 2.91e-06 & 0.0489\\\\\n",
       "\\end{tabular}\n"
      ],
      "text/markdown": [
       "\n",
       "A data.frame: 5 × 4\n",
       "\n",
       "| <!--/--> | Chr &lt;chr&gt; | Pos &lt;int&gt; | P.value &lt;dbl&gt; | H.B.P.Value &lt;dbl&gt; |\n",
       "|---|---|---|---|---|\n",
       "| SNP12429 | ST4.03ch02 | 7161936 | 2.91e-06 | 0.0489 |\n",
       "| SNP12430 | ST4.03ch02 | 7161938 | 2.91e-06 | 0.0489 |\n",
       "| SNP12431 | ST4.03ch02 | 7161942 | 2.91e-06 | 0.0489 |\n",
       "| SNP12432 | ST4.03ch02 | 7161962 | 2.91e-06 | 0.0489 |\n",
       "| SNP12433 | ST4.03ch02 | 7162010 | 2.91e-06 | 0.0489 |\n",
       "\n"
      ],
      "text/plain": [
       "         Chr        Pos     P.value  H.B.P.Value\n",
       "SNP12429 ST4.03ch02 7161936 2.91e-06 0.0489     \n",
       "SNP12430 ST4.03ch02 7161938 2.91e-06 0.0489     \n",
       "SNP12431 ST4.03ch02 7161942 2.91e-06 0.0489     \n",
       "SNP12432 ST4.03ch02 7161962 2.91e-06 0.0489     \n",
       "SNP12433 ST4.03ch02 7162010 2.91e-06 0.0489     "
      ]
     },
     "metadata": {},
     "output_type": "display_data"
    }
   ],
   "source": [
    "significativos$Delphinidin\n"
   ]
  },
  {
   "cell_type": "markdown",
   "metadata": {},
   "source": [
    "![GWAS_Manhattan_Delphinidin](../Results/ncomponents_3/GAPIT.Association.Manhattan_Geno.MLM.Delphinidin_1.png)"
   ]
  },
  {
   "cell_type": "markdown",
   "metadata": {},
   "source": [
    "Me llama la atención que GAPIT consideró que los resultados para Delfinidina fueron no significativos. Sin embargo, el tipo _double_ tiene precisión entorno a 6-7 cifras significativas, y 0.0488524 < 0.05; por lo que, en el sentido estricto, es un positivo."
   ]
  },
  {
   "cell_type": "markdown",
   "metadata": {},
   "source": [
    "## Ajuste del modelo"
   ]
  },
  {
   "cell_type": "markdown",
   "metadata": {},
   "source": [
    "![QQ_plot_Cyanidin](../Results/ncomponents_3/GAPIT.Association.QQ.MLM.Cyanidin_1.png)"
   ]
  },
  {
   "cell_type": "markdown",
   "metadata": {},
   "source": [
    "![QQ_plot_Delphinidin](../Results/ncomponents_3/GAPIT.Association.QQ.MLM.Delphinidin_1.png)"
   ]
  },
  {
   "cell_type": "markdown",
   "metadata": {},
   "source": [
    "## Estructura poblacional"
   ]
  },
  {
   "cell_type": "markdown",
   "metadata": {},
   "source": [
    "![Kinship](../Results/ncomponents_3/GAPIT.Genotype.Kin_Zhang_1.png)"
   ]
  },
  {
   "cell_type": "markdown",
   "metadata": {},
   "source": [
    "## Bibliografía\n",
    "\n",
    "Wang, J., & Zhang, Z. (2021). GAPIT Version 3: Boosting Power and Accuracy for Genomic Association and Prediction. Genomics, Proteomics & Bioinformatics, 19(4), 629–640. https://doi.org/10.1016/j.gpb.2021.08.005\n"
   ]
  }
 ],
 "metadata": {
  "kernelspec": {
   "display_name": "R",
   "language": "R",
   "name": "ir"
  },
  "language_info": {
   "codemirror_mode": "r",
   "file_extension": ".r",
   "mimetype": "text/x-r-source",
   "name": "R",
   "pygments_lexer": "r",
   "version": "4.3.3"
  }
 },
 "nbformat": 4,
 "nbformat_minor": 2
}
