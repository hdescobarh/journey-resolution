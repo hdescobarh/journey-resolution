{
 "cells": [
  {
   "cell_type": "markdown",
   "metadata": {},
   "source": [
    "# Taller 5. GWAS-Mapeo por asociación para un rasgo complejo de interés\n",
    "Genética de rasgos complejos 2024-01 - Universidad Nacional de Colombia<br>\n",
    "Docente Johana Carolina Soto Sedano - jcsotos@unal.edu.co\n",
    " \n",
    "__Hans D. Escobar H.__ ([hdescobarh](https://github.com/hdescobarh))"
   ]
  },
  {
   "cell_type": "code",
   "execution_count": null,
   "metadata": {
    "tags": [
     "remove_cell"
    ],
    "vscode": {
     "languageId": "r"
    }
   },
   "outputs": [],
   "source": [
    "# Validaciones\n",
    "\n",
    "results_directory <- \"Results/ncomponents_3\"\n",
    "if (!dir.exists(results_directory)) {\n",
    "  stop(\"Results directory does not exist.\", call. = FALSE)\n",
    "}\n",
    "\n",
    "phenotypes <- c(\"Cyanidin\", \"Delphinidin\")\n",
    "missing <- character()\n",
    "results_paths <- character()\n",
    "for (p in phenotypes) {\n",
    "  current_file <- sprintf(\n",
    "    \"%s/GAPIT.Association.GWAS_Results.MLM.%s.csv\",\n",
    "    results_directory, p\n",
    "  )\n",
    "  if (file.exists(current_file)) {\n",
    "    results_paths <- append(results_paths, current_file)\n",
    "  } else {\n",
    "    missing <- append(missing, p)\n",
    "  }\n",
    "}\n",
    "\n",
    "if (length(missing) > 0) {\n",
    "  stop(\n",
    "    paste(\n",
    "      \"Did not found the following phenotypes: \",\n",
    "      paste(missing, collapse = \", \")\n",
    "    ),\n",
    "    call. = FALSE\n",
    "  )\n",
    "} else {\n",
    "  names(results_paths) <- phenotypes\n",
    "}\n"
   ]
  }
 ],
 "metadata": {
  "kernelspec": {
   "display_name": "R",
   "language": "R",
   "name": "ir"
  },
  "language_info": {
   "codemirror_mode": "r",
   "file_extension": ".r",
   "mimetype": "text/x-r-source",
   "name": "R",
   "pygments_lexer": "r",
   "version": "4.3.3"
  }
 },
 "nbformat": 4,
 "nbformat_minor": 2
}
