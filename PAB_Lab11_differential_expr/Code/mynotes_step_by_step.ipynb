{
 "cells": [
  {
   "cell_type": "markdown",
   "metadata": {},
   "source": [
    "# Análisis expresión diferencial - datos sin replicas biológicas\n",
    "\n",
    "Replico algunos pasos del taller, agregando apuntes y modificaciones que considere apropiadas de acuerdo a la documentación de edgeR."
   ]
  },
  {
   "cell_type": "code",
   "execution_count": 1,
   "metadata": {
    "vscode": {
     "languageId": "r"
    }
   },
   "outputs": [],
   "source": [
    "# Required libraries validation\n",
    "missing_packages <- character()\n",
    "for (package in c(\n",
    "  \"edgeR\"\n",
    ")) {\n",
    "  if (!require(package, quietly = TRUE, character.only = TRUE)) {\n",
    "    missing_packages <- append(missing_packages, package)\n",
    "  }\n",
    "}\n",
    "\n",
    "if (length(missing_packages) > 0) {\n",
    "  stop(\n",
    "    sprintf(\n",
    "      \"Missing the following packages: %s\",\n",
    "      paste(missing_packages, collapse = \", \")\n",
    "    ),\n",
    "    call. = FALSE\n",
    "  )\n",
    "}\n"
   ]
  },
  {
   "cell_type": "markdown",
   "metadata": {},
   "source": [
    "## 1. Load Data"
   ]
  },
  {
   "cell_type": "code",
   "execution_count": 2,
   "metadata": {
    "vscode": {
     "languageId": "r"
    }
   },
   "outputs": [
    {
     "data": {
      "text/html": [
       "<dl>\n",
       "\t<dt>$counts</dt>\n",
       "\t\t<dd><table class=\"dataframe\">\n",
       "<caption>A matrix: 6 × 4 of type int</caption>\n",
       "<thead>\n",
       "\t<tr><th></th><th scope=col>K562Cell</th><th scope=col>K562Cytosol</th><th scope=col>K562Nucleolus</th><th scope=col>K562Nucleus</th></tr>\n",
       "</thead>\n",
       "<tbody>\n",
       "\t<tr><th scope=row>chr10_AsnGTT_22518418_22518448_5tRNAr</th><td>273</td><td>604</td><td>29</td><td>13</td></tr>\n",
       "\t<tr><th scope=row>chr10_AsnGTT_22518438_22518511_total</th><td>278</td><td>802</td><td>70</td><td>67</td></tr>\n",
       "\t<tr><th scope=row>chr10_AsnGTT_22518501_22518531_3tRNAr</th><td>270</td><td>157</td><td>40</td><td>46</td></tr>\n",
       "\t<tr><th scope=row>chr10_PseudoCAA_34591396_34591426_5tRNAr</th><td>  0</td><td>  0</td><td> 0</td><td> 0</td></tr>\n",
       "\t<tr><th scope=row>chr10_PseudoCAA_34591416_34591483_total</th><td>  0</td><td>  1</td><td> 0</td><td> 0</td></tr>\n",
       "\t<tr><th scope=row>chr10_PseudoCAA_34591473_34591503_3tRNAr</th><td>  0</td><td>  1</td><td> 0</td><td> 0</td></tr>\n",
       "</tbody>\n",
       "</table>\n",
       "</dd>\n",
       "\t<dt>$samples</dt>\n",
       "\t\t<dd><table class=\"dataframe\">\n",
       "<caption>A data.frame: 4 × 3</caption>\n",
       "<thead>\n",
       "\t<tr><th></th><th scope=col>group</th><th scope=col>lib.size</th><th scope=col>norm.factors</th></tr>\n",
       "\t<tr><th></th><th scope=col>&lt;fct&gt;</th><th scope=col>&lt;dbl&gt;</th><th scope=col>&lt;dbl&gt;</th></tr>\n",
       "</thead>\n",
       "<tbody>\n",
       "\t<tr><th scope=row>K562Cell</th><td>Ce</td><td> 2882866</td><td>1</td></tr>\n",
       "\t<tr><th scope=row>K562Cytosol</th><td>Cy</td><td>15265956</td><td>1</td></tr>\n",
       "\t<tr><th scope=row>K562Nucleolus</th><td>Nl</td><td>  478030</td><td>1</td></tr>\n",
       "\t<tr><th scope=row>K562Nucleus</th><td>Nu</td><td>  393603</td><td>1</td></tr>\n",
       "</tbody>\n",
       "</table>\n",
       "</dd>\n",
       "</dl>\n"
      ],
      "text/latex": [
       "\\begin{description}\n",
       "\\item[\\$counts] A matrix: 6 × 4 of type int\n",
       "\\begin{tabular}{r|llll}\n",
       "  & K562Cell & K562Cytosol & K562Nucleolus & K562Nucleus\\\\\n",
       "\\hline\n",
       "\tchr10\\_AsnGTT\\_22518418\\_22518448\\_5tRNAr & 273 & 604 & 29 & 13\\\\\n",
       "\tchr10\\_AsnGTT\\_22518438\\_22518511\\_total & 278 & 802 & 70 & 67\\\\\n",
       "\tchr10\\_AsnGTT\\_22518501\\_22518531\\_3tRNAr & 270 & 157 & 40 & 46\\\\\n",
       "\tchr10\\_PseudoCAA\\_34591396\\_34591426\\_5tRNAr &   0 &   0 &  0 &  0\\\\\n",
       "\tchr10\\_PseudoCAA\\_34591416\\_34591483\\_total &   0 &   1 &  0 &  0\\\\\n",
       "\tchr10\\_PseudoCAA\\_34591473\\_34591503\\_3tRNAr &   0 &   1 &  0 &  0\\\\\n",
       "\\end{tabular}\n",
       "\n",
       "\\item[\\$samples] A data.frame: 4 × 3\n",
       "\\begin{tabular}{r|lll}\n",
       "  & group & lib.size & norm.factors\\\\\n",
       "  & <fct> & <dbl> & <dbl>\\\\\n",
       "\\hline\n",
       "\tK562Cell & Ce &  2882866 & 1\\\\\n",
       "\tK562Cytosol & Cy & 15265956 & 1\\\\\n",
       "\tK562Nucleolus & Nl &   478030 & 1\\\\\n",
       "\tK562Nucleus & Nu &   393603 & 1\\\\\n",
       "\\end{tabular}\n",
       "\n",
       "\\end{description}\n"
      ],
      "text/markdown": [
       "$counts\n",
       ":   \n",
       "A matrix: 6 × 4 of type int\n",
       "\n",
       "| <!--/--> | K562Cell | K562Cytosol | K562Nucleolus | K562Nucleus |\n",
       "|---|---|---|---|---|\n",
       "| chr10_AsnGTT_22518418_22518448_5tRNAr | 273 | 604 | 29 | 13 |\n",
       "| chr10_AsnGTT_22518438_22518511_total | 278 | 802 | 70 | 67 |\n",
       "| chr10_AsnGTT_22518501_22518531_3tRNAr | 270 | 157 | 40 | 46 |\n",
       "| chr10_PseudoCAA_34591396_34591426_5tRNAr |   0 |   0 |  0 |  0 |\n",
       "| chr10_PseudoCAA_34591416_34591483_total |   0 |   1 |  0 |  0 |\n",
       "| chr10_PseudoCAA_34591473_34591503_3tRNAr |   0 |   1 |  0 |  0 |\n",
       "\n",
       "\n",
       "$samples\n",
       ":   \n",
       "A data.frame: 4 × 3\n",
       "\n",
       "| <!--/--> | group &lt;fct&gt; | lib.size &lt;dbl&gt; | norm.factors &lt;dbl&gt; |\n",
       "|---|---|---|---|\n",
       "| K562Cell | Ce |  2882866 | 1 |\n",
       "| K562Cytosol | Cy | 15265956 | 1 |\n",
       "| K562Nucleolus | Nl |   478030 | 1 |\n",
       "| K562Nucleus | Nu |   393603 | 1 |\n",
       "\n",
       "\n",
       "\n",
       "\n"
      ],
      "text/plain": [
       "An object of class \"DGEList\"\n",
       "$counts\n",
       "                                         K562Cell K562Cytosol K562Nucleolus\n",
       "chr10_AsnGTT_22518418_22518448_5tRNAr         273         604            29\n",
       "chr10_AsnGTT_22518438_22518511_total          278         802            70\n",
       "chr10_AsnGTT_22518501_22518531_3tRNAr         270         157            40\n",
       "chr10_PseudoCAA_34591396_34591426_5tRNAr        0           0             0\n",
       "chr10_PseudoCAA_34591416_34591483_total         0           1             0\n",
       "chr10_PseudoCAA_34591473_34591503_3tRNAr        0           1             0\n",
       "                                         K562Nucleus\n",
       "chr10_AsnGTT_22518418_22518448_5tRNAr             13\n",
       "chr10_AsnGTT_22518438_22518511_total              67\n",
       "chr10_AsnGTT_22518501_22518531_3tRNAr             46\n",
       "chr10_PseudoCAA_34591396_34591426_5tRNAr           0\n",
       "chr10_PseudoCAA_34591416_34591483_total            0\n",
       "chr10_PseudoCAA_34591473_34591503_3tRNAr           0\n",
       "\n",
       "$samples\n",
       "              group lib.size norm.factors\n",
       "K562Cell         Ce  2882866            1\n",
       "K562Cytosol      Cy 15265956            1\n",
       "K562Nucleolus    Nl   478030            1\n",
       "K562Nucleus      Nu   393603            1\n"
      ]
     },
     "metadata": {},
     "output_type": "display_data"
    }
   ],
   "source": [
    "data <- read.table(\n",
    "  file = \"Private_Data/K562/K562.total.merged.txt\", header = TRUE, row.names = 1\n",
    ")\n",
    "# 4 grupos SIN REPLICAS\n",
    "group <- factor(c(\"Ce\", \"Cy\", \"Nl\", \"Nu\"))\n",
    "data <- DGEList(counts = data, group = group)\n",
    "head(data)\n"
   ]
  },
  {
   "cell_type": "markdown",
   "metadata": {},
   "source": [
    "## 2. Filtering\n",
    "\n",
    "Nótese el cambio en los tamaños de las bibliotecas:"
   ]
  },
  {
   "cell_type": "code",
   "execution_count": 3,
   "metadata": {
    "vscode": {
     "languageId": "r"
    }
   },
   "outputs": [
    {
     "data": {
      "text/html": [
       "<table class=\"dataframe\">\n",
       "<caption>A data.frame: 4 × 3</caption>\n",
       "<thead>\n",
       "\t<tr><th></th><th scope=col>group</th><th scope=col>lib.size</th><th scope=col>norm.factors</th></tr>\n",
       "\t<tr><th></th><th scope=col>&lt;fct&gt;</th><th scope=col>&lt;dbl&gt;</th><th scope=col>&lt;dbl&gt;</th></tr>\n",
       "</thead>\n",
       "<tbody>\n",
       "\t<tr><th scope=row>K562Cell</th><td>Ce</td><td> 2882162</td><td>1</td></tr>\n",
       "\t<tr><th scope=row>K562Cytosol</th><td>Cy</td><td>15262880</td><td>1</td></tr>\n",
       "\t<tr><th scope=row>K562Nucleolus</th><td>Nl</td><td>  477845</td><td>1</td></tr>\n",
       "\t<tr><th scope=row>K562Nucleus</th><td>Nu</td><td>  393438</td><td>1</td></tr>\n",
       "</tbody>\n",
       "</table>\n"
      ],
      "text/latex": [
       "A data.frame: 4 × 3\n",
       "\\begin{tabular}{r|lll}\n",
       "  & group & lib.size & norm.factors\\\\\n",
       "  & <fct> & <dbl> & <dbl>\\\\\n",
       "\\hline\n",
       "\tK562Cell & Ce &  2882162 & 1\\\\\n",
       "\tK562Cytosol & Cy & 15262880 & 1\\\\\n",
       "\tK562Nucleolus & Nl &   477845 & 1\\\\\n",
       "\tK562Nucleus & Nu &   393438 & 1\\\\\n",
       "\\end{tabular}\n"
      ],
      "text/markdown": [
       "\n",
       "A data.frame: 4 × 3\n",
       "\n",
       "| <!--/--> | group &lt;fct&gt; | lib.size &lt;dbl&gt; | norm.factors &lt;dbl&gt; |\n",
       "|---|---|---|---|\n",
       "| K562Cell | Ce |  2882162 | 1 |\n",
       "| K562Cytosol | Cy | 15262880 | 1 |\n",
       "| K562Nucleolus | Nl |   477845 | 1 |\n",
       "| K562Nucleus | Nu |   393438 | 1 |\n",
       "\n"
      ],
      "text/plain": [
       "              group lib.size norm.factors\n",
       "K562Cell      Ce     2882162 1           \n",
       "K562Cytosol   Cy    15262880 1           \n",
       "K562Nucleolus Nl      477845 1           \n",
       "K562Nucleus   Nu      393438 1           "
      ]
     },
     "metadata": {},
     "output_type": "display_data"
    }
   ],
   "source": [
    "# filtering keeps genes that have CPM >= CPM.cutoff in MinSampleSize samples,\n",
    "#   where CPM.cutoff = min.count/median(lib.size)*1e6 and MinSampleSize is the\n",
    "#   smallest group sample size or, more generally, the minimum inverse leverage\n",
    "#   computed from the design matrix.\n",
    "\n",
    "keep <- filterByExpr(data, group = group, min.count = 10)\n",
    "data <- data[keep, , keep.lib.sizes = FALSE]\n",
    "data$samples\n"
   ]
  },
  {
   "cell_type": "markdown",
   "metadata": {},
   "source": [
    "## 3. Normalization\n",
    "\n",
    "edgeR realiza la normalización mediante factores de corrección en el modelo. NO TRANSFORMA los datos. NO se debe ingresar datos transformados tampoco (e.g. RPKM o FPKM)\n",
    "\n",
    "- En general, solo se necesita normalizar __efectos específicos de muestra__. Por ejemplo, el tamaño del gen influencia el conteo de reads, pero al comparar entre muestras cada gen, estos al tener la misma longitud, en principio, tiene un efecto pequeño e históricamente no se suele tener en cuenta.\n",
    "- La profundidad de secuenciación afecta el conteo de lecturas. edgeR ajusta este efecto automáticamente.\n",
    "- Históricamente el contenido GC cambia poco entre muestras, pero algunos estudios han mostrado efectos __específicos de muestra__.\n",
    "- Genes muy expresados pueden causar que otros sean sub-muestreados. "
   ]
  },
  {
   "cell_type": "code",
   "execution_count": 4,
   "metadata": {
    "vscode": {
     "languageId": "r"
    }
   },
   "outputs": [],
   "source": [
    "# Calculate scaling factors to convert the raw library sizes for a\n",
    "#   set of sequenced samples into normalized effective library sizes.\n",
    "\n",
    "# normLibSizes is the new name for calcNormFactors. The two functions\n",
    "#   are equivalent but calcNormFactors will eventually be retired.\n",
    "data_normalized <- normLibSizes(data)\n"
   ]
  },
  {
   "cell_type": "markdown",
   "metadata": {},
   "source": [
    "> \"The effective library sizes for use in downstream analysis\n",
    "are lib.size \\* norm.factors where lib.size contains the original library sizes and norm.factors\n",
    "is the vector of scaling factors computed by this function.\"\n",
    "\n",
    "Nótese como ha cambiado el data frame samples. lib.size se mantiene, lo que cambia es norm.factors:"
   ]
  },
  {
   "cell_type": "code",
   "execution_count": 5,
   "metadata": {
    "vscode": {
     "languageId": "r"
    }
   },
   "outputs": [
    {
     "name": "stdout",
     "output_type": "stream",
     "text": [
      "Samples data after normalization:"
     ]
    },
    {
     "data": {
      "text/html": [
       "<table class=\"dataframe\">\n",
       "<caption>A data.frame: 4 × 3</caption>\n",
       "<thead>\n",
       "\t<tr><th></th><th scope=col>group</th><th scope=col>lib.size</th><th scope=col>norm.factors</th></tr>\n",
       "\t<tr><th></th><th scope=col>&lt;fct&gt;</th><th scope=col>&lt;dbl&gt;</th><th scope=col>&lt;dbl&gt;</th></tr>\n",
       "</thead>\n",
       "<tbody>\n",
       "\t<tr><th scope=row>K562Cell</th><td>Ce</td><td> 2882162</td><td>0.3924466</td></tr>\n",
       "\t<tr><th scope=row>K562Cytosol</th><td>Cy</td><td>15262880</td><td>0.8628079</td></tr>\n",
       "\t<tr><th scope=row>K562Nucleolus</th><td>Nl</td><td>  477845</td><td>1.6481022</td></tr>\n",
       "\t<tr><th scope=row>K562Nucleus</th><td>Nu</td><td>  393438</td><td>1.7919306</td></tr>\n",
       "</tbody>\n",
       "</table>\n"
      ],
      "text/latex": [
       "A data.frame: 4 × 3\n",
       "\\begin{tabular}{r|lll}\n",
       "  & group & lib.size & norm.factors\\\\\n",
       "  & <fct> & <dbl> & <dbl>\\\\\n",
       "\\hline\n",
       "\tK562Cell & Ce &  2882162 & 0.3924466\\\\\n",
       "\tK562Cytosol & Cy & 15262880 & 0.8628079\\\\\n",
       "\tK562Nucleolus & Nl &   477845 & 1.6481022\\\\\n",
       "\tK562Nucleus & Nu &   393438 & 1.7919306\\\\\n",
       "\\end{tabular}\n"
      ],
      "text/markdown": [
       "\n",
       "A data.frame: 4 × 3\n",
       "\n",
       "| <!--/--> | group &lt;fct&gt; | lib.size &lt;dbl&gt; | norm.factors &lt;dbl&gt; |\n",
       "|---|---|---|---|\n",
       "| K562Cell | Ce |  2882162 | 0.3924466 |\n",
       "| K562Cytosol | Cy | 15262880 | 0.8628079 |\n",
       "| K562Nucleolus | Nl |   477845 | 1.6481022 |\n",
       "| K562Nucleus | Nu |   393438 | 1.7919306 |\n",
       "\n"
      ],
      "text/plain": [
       "              group lib.size norm.factors\n",
       "K562Cell      Ce     2882162 0.3924466   \n",
       "K562Cytosol   Cy    15262880 0.8628079   \n",
       "K562Nucleolus Nl      477845 1.6481022   \n",
       "K562Nucleus   Nu      393438 1.7919306   "
      ]
     },
     "metadata": {},
     "output_type": "display_data"
    }
   ],
   "source": [
    "cat(\"Samples data after normalization:\")\n",
    "data_normalized$samples\n"
   ]
  },
  {
   "cell_type": "markdown",
   "metadata": {},
   "source": [
    "## 4. Dispersion estimation and model fit\n",
    "\n",
    "Normalmente, para estimar la dispersión común y por el tag:\n",
    "\n",
    "```R\n",
    "data <-estimateDisp(data)\n",
    "```\n",
    "\n",
    "En __ESTE__, los datos del ejercicio NO poseen replicas biológicas. Entre las alternativas que la documentación de edgeR sugiere esta tomar un valor de dispersión con base a la experiencia en datos similares. Recordar que la dispersión es el cuadrado del coeficiente de variación biológico (BCV).\n",
    "\n",
    "__NOTA 1__: esta forma de estimar dispersión y el test exacto son adecuados solo cuando se tiene UN SOLO factor. Modelos mas complejos requieren otras formas de abordarlo. "
   ]
  },
  {
   "cell_type": "code",
   "execution_count": 6,
   "metadata": {
    "vscode": {
     "languageId": "r"
    }
   },
   "outputs": [],
   "source": [
    "design <- model.matrix(~group)\n",
    "common_bcv <- 0.2\n"
   ]
  },
  {
   "cell_type": "markdown",
   "metadata": {},
   "source": [
    "En el taller se usa:\n",
    "\n",
    "```R\n",
    "d <- estimateGLMCommonDisp(d, design, method=\"deviance\", robust=\"TRUE\", subset=NULL)\n",
    "```\n",
    "\n",
    "Pero de acuerdo a la documentación esto se recomienda aplicarlo en __CONJUNTO__ con una \"_design matrix_\" reducida, lo que equivale a remover factores explicativos con el fin de generar grados de libertad residuales. Eso NO se hizo (ademas de que solo se tiene un factor de 4 niveles). Ademas, intentarlo aplicar lanza un Warning y deja d$common.dispersion con valor NA. Remarcando de nuevo que es un bug."
   ]
  },
  {
   "cell_type": "code",
   "execution_count": 7,
   "metadata": {
    "vscode": {
     "languageId": "r"
    }
   },
   "outputs": [
    {
     "name": "stdout",
     "output_type": "stream",
     "text": [
      "- - - - - - - - - - - - - - - - - - - - - - - - - - - - - - - - - - - - - - - - \n",
      "Exact Tests for Differences between Two Groups of Negative-Binomial Counts:"
     ]
    },
    {
     "data": {
      "text/html": [
       "<dl>\n",
       "\t<dt>$table</dt>\n",
       "\t\t<dd><table class=\"dataframe\">\n",
       "<caption>A data.frame: 6 × 3</caption>\n",
       "<thead>\n",
       "\t<tr><th></th><th scope=col>logFC</th><th scope=col>logCPM</th><th scope=col>PValue</th></tr>\n",
       "\t<tr><th></th><th scope=col>&lt;dbl&gt;</th><th scope=col>&lt;dbl&gt;</th><th scope=col>&lt;dbl&gt;</th></tr>\n",
       "</thead>\n",
       "<tbody>\n",
       "\t<tr><th scope=row>chr10_AsnGTT_22518418_22518448_5tRNAr</th><td>-3.700521</td><td>6.438019</td><td>2.901010e-11</td></tr>\n",
       "\t<tr><th scope=row>chr10_AsnGTT_22518438_22518511_total</th><td>-1.369589</td><td>6.931579</td><td>3.047170e-03</td></tr>\n",
       "\t<tr><th scope=row>chr10_AsnGTT_22518501_22518531_3tRNAr</th><td>-1.869072</td><td>6.490906</td><td>9.749165e-05</td></tr>\n",
       "\t<tr><th scope=row>chr10_PseudoCTG_20036672_20036702_3tRNAr</th><td> 7.465119</td><td>7.784449</td><td>1.119430e-18</td></tr>\n",
       "\t<tr><th scope=row>chr10_SerTGA_69524241_69524271_5tRNAr</th><td> 1.542978</td><td>2.115655</td><td>1.000000e+00</td></tr>\n",
       "\t<tr><th scope=row>chr10_SerTGA_69524261_69524342_total</th><td> 2.824708</td><td>3.532727</td><td>1.506912e-01</td></tr>\n",
       "</tbody>\n",
       "</table>\n",
       "</dd>\n",
       "\t<dt>$comparison</dt>\n",
       "\t\t<dd><style>\n",
       ".list-inline {list-style: none; margin:0; padding: 0}\n",
       ".list-inline>li {display: inline-block}\n",
       ".list-inline>li:not(:last-child)::after {content: \"\\00b7\"; padding: 0 .5ex}\n",
       "</style>\n",
       "<ol class=list-inline><li>'Ce'</li><li>'Nu'</li></ol>\n",
       "</dd>\n",
       "</dl>\n"
      ],
      "text/latex": [
       "\\begin{description}\n",
       "\\item[\\$table] A data.frame: 6 × 3\n",
       "\\begin{tabular}{r|lll}\n",
       "  & logFC & logCPM & PValue\\\\\n",
       "  & <dbl> & <dbl> & <dbl>\\\\\n",
       "\\hline\n",
       "\tchr10\\_AsnGTT\\_22518418\\_22518448\\_5tRNAr & -3.700521 & 6.438019 & 2.901010e-11\\\\\n",
       "\tchr10\\_AsnGTT\\_22518438\\_22518511\\_total & -1.369589 & 6.931579 & 3.047170e-03\\\\\n",
       "\tchr10\\_AsnGTT\\_22518501\\_22518531\\_3tRNAr & -1.869072 & 6.490906 & 9.749165e-05\\\\\n",
       "\tchr10\\_PseudoCTG\\_20036672\\_20036702\\_3tRNAr &  7.465119 & 7.784449 & 1.119430e-18\\\\\n",
       "\tchr10\\_SerTGA\\_69524241\\_69524271\\_5tRNAr &  1.542978 & 2.115655 & 1.000000e+00\\\\\n",
       "\tchr10\\_SerTGA\\_69524261\\_69524342\\_total &  2.824708 & 3.532727 & 1.506912e-01\\\\\n",
       "\\end{tabular}\n",
       "\n",
       "\\item[\\$comparison] \\begin{enumerate*}\n",
       "\\item 'Ce'\n",
       "\\item 'Nu'\n",
       "\\end{enumerate*}\n",
       "\n",
       "\\end{description}\n"
      ],
      "text/markdown": [
       "$table\n",
       ":   \n",
       "A data.frame: 6 × 3\n",
       "\n",
       "| <!--/--> | logFC &lt;dbl&gt; | logCPM &lt;dbl&gt; | PValue &lt;dbl&gt; |\n",
       "|---|---|---|---|\n",
       "| chr10_AsnGTT_22518418_22518448_5tRNAr | -3.700521 | 6.438019 | 2.901010e-11 |\n",
       "| chr10_AsnGTT_22518438_22518511_total | -1.369589 | 6.931579 | 3.047170e-03 |\n",
       "| chr10_AsnGTT_22518501_22518531_3tRNAr | -1.869072 | 6.490906 | 9.749165e-05 |\n",
       "| chr10_PseudoCTG_20036672_20036702_3tRNAr |  7.465119 | 7.784449 | 1.119430e-18 |\n",
       "| chr10_SerTGA_69524241_69524271_5tRNAr |  1.542978 | 2.115655 | 1.000000e+00 |\n",
       "| chr10_SerTGA_69524261_69524342_total |  2.824708 | 3.532727 | 1.506912e-01 |\n",
       "\n",
       "\n",
       "$comparison\n",
       ":   1. 'Ce'\n",
       "2. 'Nu'\n",
       "\n",
       "\n",
       "\n",
       "\n",
       "\n"
      ],
      "text/plain": [
       "An object of class \"DGEExact\"\n",
       "$table\n",
       "                                             logFC   logCPM       PValue\n",
       "chr10_AsnGTT_22518418_22518448_5tRNAr    -3.700521 6.438019 2.901010e-11\n",
       "chr10_AsnGTT_22518438_22518511_total     -1.369589 6.931579 3.047170e-03\n",
       "chr10_AsnGTT_22518501_22518531_3tRNAr    -1.869072 6.490906 9.749165e-05\n",
       "chr10_PseudoCTG_20036672_20036702_3tRNAr  7.465119 7.784449 1.119430e-18\n",
       "chr10_SerTGA_69524241_69524271_5tRNAr     1.542978 2.115655 1.000000e+00\n",
       "chr10_SerTGA_69524261_69524342_total      2.824708 3.532727 1.506912e-01\n",
       "\n",
       "$comparison\n",
       "[1] \"Ce\" \"Nu\"\n"
      ]
     },
     "metadata": {},
     "output_type": "display_data"
    },
    {
     "name": "stdout",
     "output_type": "stream",
     "text": [
      "- - - - - - - - - - - - - - - - - - - - - - - - - - - - - - - - - - - - - - - - \n",
      "Table of the Top Differentially Expressed Genes/Tags:"
     ]
    },
    {
     "data": {
      "text/html": [
       "<dl>\n",
       "\t<dt>$table</dt>\n",
       "\t\t<dd><table class=\"dataframe\">\n",
       "<caption>A data.frame: 10 × 4</caption>\n",
       "<thead>\n",
       "\t<tr><th></th><th scope=col>logFC</th><th scope=col>logCPM</th><th scope=col>PValue</th><th scope=col>FDR</th></tr>\n",
       "\t<tr><th></th><th scope=col>&lt;dbl&gt;</th><th scope=col>&lt;dbl&gt;</th><th scope=col>&lt;dbl&gt;</th><th scope=col>&lt;dbl&gt;</th></tr>\n",
       "</thead>\n",
       "<tbody>\n",
       "\t<tr><th scope=row>chr8_AlaAGC_67026486_67026516_3tRNAr</th><td>-12.80242</td><td> 7.936923</td><td>6.908632e-33</td><td>4.193540e-31</td></tr>\n",
       "\t<tr><th scope=row>chr17_PseudoTTG_19506648_19506678_3tRNAr</th><td> 12.71732</td><td>14.144401</td><td>7.038331e-69</td><td>8.544534e-66</td></tr>\n",
       "\t<tr><th scope=row>chr6_AlaTGC_28784992_28785022_5tRNAr</th><td>-12.26908</td><td> 7.406905</td><td>4.145290e-29</td><td>1.735304e-27</td></tr>\n",
       "\t<tr><th scope=row>chr1_GlnCTG_145379300_145379330_5tRNAr</th><td>-11.76544</td><td> 6.896280</td><td>1.054274e-26</td><td>3.368129e-25</td></tr>\n",
       "\t<tr><th scope=row>chr1_GlnCTG_144839416_144839446_5tRNAr</th><td>-11.76274</td><td> 6.893586</td><td>1.112582e-26</td><td>3.463268e-25</td></tr>\n",
       "\t<tr><th scope=row>chr1_AsnGTT_149326252_149326282_5tRNAr</th><td>-11.53862</td><td> 6.664030</td><td>3.775189e-25</td><td>9.548083e-24</td></tr>\n",
       "\t<tr><th scope=row>chr16_ArgCCT_3202963_3202993_3tRNAr</th><td>-11.26176</td><td> 7.052479</td><td>2.648392e-23</td><td>4.946381e-22</td></tr>\n",
       "\t<tr><th scope=row>chr1_AsnGTT_149711778_149711808_5tRNAr</th><td>-11.06593</td><td> 6.187187</td><td>5.129616e-22</td><td>8.649102e-21</td></tr>\n",
       "\t<tr><th scope=row>chr12_AspGTC_96429860_96429890_3tRNAr</th><td>-10.76641</td><td>16.263127</td><td>9.626153e-67</td><td>5.843075e-64</td></tr>\n",
       "\t<tr><th scope=row>chr1_PseudoTGG_238105842_238105872_5tRNAr</th><td> 10.75680</td><td> 7.427511</td><td>4.540010e-21</td><td>7.157885e-20</td></tr>\n",
       "</tbody>\n",
       "</table>\n",
       "</dd>\n",
       "\t<dt>$adjust.method</dt>\n",
       "\t\t<dd>'BH'</dd>\n",
       "\t<dt>$comparison</dt>\n",
       "\t\t<dd><style>\n",
       ".list-inline {list-style: none; margin:0; padding: 0}\n",
       ".list-inline>li {display: inline-block}\n",
       ".list-inline>li:not(:last-child)::after {content: \"\\00b7\"; padding: 0 .5ex}\n",
       "</style>\n",
       "<ol class=list-inline><li>'Ce'</li><li>'Nu'</li></ol>\n",
       "</dd>\n",
       "\t<dt>$test</dt>\n",
       "\t\t<dd>'exact'</dd>\n",
       "</dl>\n"
      ],
      "text/latex": [
       "\\begin{description}\n",
       "\\item[\\$table] A data.frame: 10 × 4\n",
       "\\begin{tabular}{r|llll}\n",
       "  & logFC & logCPM & PValue & FDR\\\\\n",
       "  & <dbl> & <dbl> & <dbl> & <dbl>\\\\\n",
       "\\hline\n",
       "\tchr8\\_AlaAGC\\_67026486\\_67026516\\_3tRNAr & -12.80242 &  7.936923 & 6.908632e-33 & 4.193540e-31\\\\\n",
       "\tchr17\\_PseudoTTG\\_19506648\\_19506678\\_3tRNAr &  12.71732 & 14.144401 & 7.038331e-69 & 8.544534e-66\\\\\n",
       "\tchr6\\_AlaTGC\\_28784992\\_28785022\\_5tRNAr & -12.26908 &  7.406905 & 4.145290e-29 & 1.735304e-27\\\\\n",
       "\tchr1\\_GlnCTG\\_145379300\\_145379330\\_5tRNAr & -11.76544 &  6.896280 & 1.054274e-26 & 3.368129e-25\\\\\n",
       "\tchr1\\_GlnCTG\\_144839416\\_144839446\\_5tRNAr & -11.76274 &  6.893586 & 1.112582e-26 & 3.463268e-25\\\\\n",
       "\tchr1\\_AsnGTT\\_149326252\\_149326282\\_5tRNAr & -11.53862 &  6.664030 & 3.775189e-25 & 9.548083e-24\\\\\n",
       "\tchr16\\_ArgCCT\\_3202963\\_3202993\\_3tRNAr & -11.26176 &  7.052479 & 2.648392e-23 & 4.946381e-22\\\\\n",
       "\tchr1\\_AsnGTT\\_149711778\\_149711808\\_5tRNAr & -11.06593 &  6.187187 & 5.129616e-22 & 8.649102e-21\\\\\n",
       "\tchr12\\_AspGTC\\_96429860\\_96429890\\_3tRNAr & -10.76641 & 16.263127 & 9.626153e-67 & 5.843075e-64\\\\\n",
       "\tchr1\\_PseudoTGG\\_238105842\\_238105872\\_5tRNAr &  10.75680 &  7.427511 & 4.540010e-21 & 7.157885e-20\\\\\n",
       "\\end{tabular}\n",
       "\n",
       "\\item[\\$adjust.method] 'BH'\n",
       "\\item[\\$comparison] \\begin{enumerate*}\n",
       "\\item 'Ce'\n",
       "\\item 'Nu'\n",
       "\\end{enumerate*}\n",
       "\n",
       "\\item[\\$test] 'exact'\n",
       "\\end{description}\n"
      ],
      "text/markdown": [
       "$table\n",
       ":   \n",
       "A data.frame: 10 × 4\n",
       "\n",
       "| <!--/--> | logFC &lt;dbl&gt; | logCPM &lt;dbl&gt; | PValue &lt;dbl&gt; | FDR &lt;dbl&gt; |\n",
       "|---|---|---|---|---|\n",
       "| chr8_AlaAGC_67026486_67026516_3tRNAr | -12.80242 |  7.936923 | 6.908632e-33 | 4.193540e-31 |\n",
       "| chr17_PseudoTTG_19506648_19506678_3tRNAr |  12.71732 | 14.144401 | 7.038331e-69 | 8.544534e-66 |\n",
       "| chr6_AlaTGC_28784992_28785022_5tRNAr | -12.26908 |  7.406905 | 4.145290e-29 | 1.735304e-27 |\n",
       "| chr1_GlnCTG_145379300_145379330_5tRNAr | -11.76544 |  6.896280 | 1.054274e-26 | 3.368129e-25 |\n",
       "| chr1_GlnCTG_144839416_144839446_5tRNAr | -11.76274 |  6.893586 | 1.112582e-26 | 3.463268e-25 |\n",
       "| chr1_AsnGTT_149326252_149326282_5tRNAr | -11.53862 |  6.664030 | 3.775189e-25 | 9.548083e-24 |\n",
       "| chr16_ArgCCT_3202963_3202993_3tRNAr | -11.26176 |  7.052479 | 2.648392e-23 | 4.946381e-22 |\n",
       "| chr1_AsnGTT_149711778_149711808_5tRNAr | -11.06593 |  6.187187 | 5.129616e-22 | 8.649102e-21 |\n",
       "| chr12_AspGTC_96429860_96429890_3tRNAr | -10.76641 | 16.263127 | 9.626153e-67 | 5.843075e-64 |\n",
       "| chr1_PseudoTGG_238105842_238105872_5tRNAr |  10.75680 |  7.427511 | 4.540010e-21 | 7.157885e-20 |\n",
       "\n",
       "\n",
       "$adjust.method\n",
       ":   'BH'\n",
       "$comparison\n",
       ":   1. 'Ce'\n",
       "2. 'Nu'\n",
       "\n",
       "\n",
       "\n",
       "$test\n",
       ":   'exact'\n",
       "\n",
       "\n"
      ],
      "text/plain": [
       "Comparison of groups:  Nu-Ce \n",
       "                                              logFC    logCPM       PValue\n",
       "chr8_AlaAGC_67026486_67026516_3tRNAr      -12.80242  7.936923 6.908632e-33\n",
       "chr17_PseudoTTG_19506648_19506678_3tRNAr   12.71732 14.144401 7.038331e-69\n",
       "chr6_AlaTGC_28784992_28785022_5tRNAr      -12.26908  7.406905 4.145290e-29\n",
       "chr1_GlnCTG_145379300_145379330_5tRNAr    -11.76544  6.896280 1.054274e-26\n",
       "chr1_GlnCTG_144839416_144839446_5tRNAr    -11.76274  6.893586 1.112582e-26\n",
       "chr1_AsnGTT_149326252_149326282_5tRNAr    -11.53862  6.664030 3.775189e-25\n",
       "chr16_ArgCCT_3202963_3202993_3tRNAr       -11.26176  7.052479 2.648392e-23\n",
       "chr1_AsnGTT_149711778_149711808_5tRNAr    -11.06593  6.187187 5.129616e-22\n",
       "chr12_AspGTC_96429860_96429890_3tRNAr     -10.76641 16.263127 9.626153e-67\n",
       "chr1_PseudoTGG_238105842_238105872_5tRNAr  10.75680  7.427511 4.540010e-21\n",
       "                                                   FDR\n",
       "chr8_AlaAGC_67026486_67026516_3tRNAr      4.193540e-31\n",
       "chr17_PseudoTTG_19506648_19506678_3tRNAr  8.544534e-66\n",
       "chr6_AlaTGC_28784992_28785022_5tRNAr      1.735304e-27\n",
       "chr1_GlnCTG_145379300_145379330_5tRNAr    3.368129e-25\n",
       "chr1_GlnCTG_144839416_144839446_5tRNAr    3.463268e-25\n",
       "chr1_AsnGTT_149326252_149326282_5tRNAr    9.548083e-24\n",
       "chr16_ArgCCT_3202963_3202993_3tRNAr       4.946381e-22\n",
       "chr1_AsnGTT_149711778_149711808_5tRNAr    8.649102e-21\n",
       "chr12_AspGTC_96429860_96429890_3tRNAr     5.843075e-64\n",
       "chr1_PseudoTGG_238105842_238105872_5tRNAr 7.157885e-20"
      ]
     },
     "metadata": {},
     "output_type": "display_data"
    },
    {
     "name": "stdout",
     "output_type": "stream",
     "text": [
      "- - - - - - - - - - - - - - - - - - - - - - - - - - - - - - - - - - - - - - - - \n",
      "Identify significantly differentially expressed genes:"
     ]
    },
    {
     "data": {
      "text/html": [
       "<table class=\"dataframe\">\n",
       "<caption>A TestResults: 6 × 1 of type int</caption>\n",
       "<thead>\n",
       "\t<tr><th></th><th scope=col>Nu-Ce</th></tr>\n",
       "</thead>\n",
       "<tbody>\n",
       "\t<tr><th scope=row>chr10_AsnGTT_22518418_22518448_5tRNAr</th><td>-1</td></tr>\n",
       "\t<tr><th scope=row>chr10_AsnGTT_22518438_22518511_total</th><td>-1</td></tr>\n",
       "\t<tr><th scope=row>chr10_AsnGTT_22518501_22518531_3tRNAr</th><td>-1</td></tr>\n",
       "\t<tr><th scope=row>chr10_PseudoCTG_20036672_20036702_3tRNAr</th><td> 1</td></tr>\n",
       "\t<tr><th scope=row>chr10_SerTGA_69524241_69524271_5tRNAr</th><td> 0</td></tr>\n",
       "\t<tr><th scope=row>chr10_SerTGA_69524261_69524342_total</th><td> 0</td></tr>\n",
       "</tbody>\n",
       "</table>\n"
      ],
      "text/latex": [
       "A TestResults: 6 × 1 of type int\n",
       "\\begin{tabular}{r|l}\n",
       "  & Nu-Ce\\\\\n",
       "\\hline\n",
       "\tchr10\\_AsnGTT\\_22518418\\_22518448\\_5tRNAr & -1\\\\\n",
       "\tchr10\\_AsnGTT\\_22518438\\_22518511\\_total & -1\\\\\n",
       "\tchr10\\_AsnGTT\\_22518501\\_22518531\\_3tRNAr & -1\\\\\n",
       "\tchr10\\_PseudoCTG\\_20036672\\_20036702\\_3tRNAr &  1\\\\\n",
       "\tchr10\\_SerTGA\\_69524241\\_69524271\\_5tRNAr &  0\\\\\n",
       "\tchr10\\_SerTGA\\_69524261\\_69524342\\_total &  0\\\\\n",
       "\\end{tabular}\n"
      ],
      "text/markdown": [
       "\n",
       "A TestResults: 6 × 1 of type int\n",
       "\n",
       "| <!--/--> | Nu-Ce |\n",
       "|---|---|\n",
       "| chr10_AsnGTT_22518418_22518448_5tRNAr | -1 |\n",
       "| chr10_AsnGTT_22518438_22518511_total | -1 |\n",
       "| chr10_AsnGTT_22518501_22518531_3tRNAr | -1 |\n",
       "| chr10_PseudoCTG_20036672_20036702_3tRNAr |  1 |\n",
       "| chr10_SerTGA_69524241_69524271_5tRNAr |  0 |\n",
       "| chr10_SerTGA_69524261_69524342_total |  0 |\n",
       "\n"
      ],
      "text/plain": [
       "                                         Nu-Ce\n",
       "chr10_AsnGTT_22518418_22518448_5tRNAr    -1   \n",
       "chr10_AsnGTT_22518438_22518511_total     -1   \n",
       "chr10_AsnGTT_22518501_22518531_3tRNAr    -1   \n",
       "chr10_PseudoCTG_20036672_20036702_3tRNAr  1   \n",
       "chr10_SerTGA_69524241_69524271_5tRNAr     0   \n",
       "chr10_SerTGA_69524261_69524342_total      0   "
      ]
     },
     "metadata": {},
     "output_type": "display_data"
    },
    {
     "data": {
      "text/plain": [
       "       Nu-Ce\n",
       "Down     295\n",
       "NotSig   422\n",
       "Up       497"
      ]
     },
     "metadata": {},
     "output_type": "display_data"
    }
   ],
   "source": [
    "cat(\n",
    "  rep(\"-\", 40),\n",
    "  \"\\nExact Tests for Differences between Two Groups of Negative-Binomial Counts:\"\n",
    ")\n",
    "et <- exactTest(\n",
    "  data_normalized,\n",
    "  dispersion = common_bcv^2, pair = c(\"Ce\", \"Nu\")\n",
    ")\n",
    "head(et)\n",
    "cat(rep(\"-\", 40), \"\\nTable of the Top Differentially Expressed Genes/Tags:\")\n",
    "top <- topTags(et, n = 10, sort.by = \"logFC\")\n",
    "top\n",
    "cat(rep(\"-\", 40), \"\\nIdentify significantly differentially expressed genes:\")\n",
    "res <- decideTests(et, p.value = 0.1)\n",
    "head(res)\n",
    "summary(res)\n"
   ]
  },
  {
   "cell_type": "code",
   "execution_count": 8,
   "metadata": {
    "vscode": {
     "languageId": "r"
    }
   },
   "outputs": [
    {
     "data": {
      "image/png": "[encoded data removed]",
      "text/plain": [
       "plot without title"
      ]
     },
     "metadata": {
      "image/png": {
       "height": 420,
       "width": 420
      }
     },
     "output_type": "display_data"
    }
   ],
   "source": [
    "# Plot samples on a two-dimensional scatterplot so that distances\n",
    "#   on the plot approximate the expression differences between the samples.\n",
    "\n",
    "plotMDS(data_normalized, top = 700)\n"
   ]
  },
  {
   "cell_type": "markdown",
   "metadata": {},
   "source": [
    "# Bibliography\n",
    "\n",
    "[1] Y. Chen, L. Chen, A. T. L. Lun, P. L. Baldoni, and G. K. Smyth, “edgeR 4.0: powerful differential analysis of sequencing data with expanded functionality and improved support for small counts and larger datasets.” Jan. 24, 2024. doi: 10.1101/2024.01.21.576131.\n",
    "\n",
    "[2] Y. Chen et al., “edgeR.” 2017. doi: 10.18129/B9.BIOC.EDGER.\n",
    "\n",
    "[3] Y. Chen, D. McCarthy, P. Baldoni, M. Robinson, and G. Smyth, “edgeR: differential analysis of sequence read count data User’s Guide.” [Online]. Available: https://bioconductor.org/packages/release/bioc/html/edgeR.html\n"
   ]
  }
 ],
 "metadata": {
  "kernelspec": {
   "display_name": "R",
   "language": "R",
   "name": "ir"
  },
  "language_info": {
   "codemirror_mode": "r",
   "file_extension": ".r",
   "mimetype": "text/x-r-source",
   "name": "R",
   "pygments_lexer": "r",
   "version": "4.3.3"
  }
 },
 "nbformat": 4,
 "nbformat_minor": 2
}
