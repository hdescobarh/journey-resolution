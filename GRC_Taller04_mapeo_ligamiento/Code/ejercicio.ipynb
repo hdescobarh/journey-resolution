{
 "cells": [
  {
   "cell_type": "markdown",
   "metadata": {},
   "source": [
    "# Taller 4. Mapeo de QTL por ligamiento\n",
    "Genética de rasgos complejos 2024-01 - Universidad Nacional de Colombia<br>\n",
    "Docente Johana Carolina Soto Sedano - jcsotos@unal.edu.co  \n",
    " \n",
    " \n",
    "__Hans D. Escobar H.__"
   ]
  },
  {
   "cell_type": "code",
   "execution_count": 1,
   "metadata": {
    "vscode": {
     "languageId": "r"
    }
   },
   "outputs": [],
   "source": [
    "# Environment setup\n",
    "\n",
    "# libraries validation\n",
    "if (!require(\"qtl\", quietly = TRUE)) {\n",
    "  stop(\"Error: missing Rqtl package\")\n",
    "}\n",
    "\n",
    "# paths validation\n",
    "data_file_path <- \"../Private_Data/data.csv\"\n",
    "if (!file.exists(data_file_path)) {\n",
    "  stop(\"Error: file doesn't exist, check the path.\")\n",
    "}\n"
   ]
  },
  {
   "cell_type": "markdown",
   "metadata": {},
   "source": [
    "## 1. Explore data\n",
    "\n",
    "La estructura esperada para importar mapas desde CSV puede ser consultada con:\n",
    "\n",
    "```R\n",
    "help(read.cross)\n",
    "```"
   ]
  },
  {
   "cell_type": "markdown",
   "metadata": {},
   "source": [
    "Explorando la tabla estructura de la tabla:"
   ]
  },
  {
   "cell_type": "code",
   "execution_count": 2,
   "metadata": {
    "vscode": {
     "languageId": "r"
    }
   },
   "outputs": [
    {
     "data": {
      "text/html": [
       "<table class=\"dataframe\">\n",
       "<caption>A data.frame: 5 × 1001</caption>\n",
       "<thead>\n",
       "\t<tr><th scope=col>Pheno</th><th scope=col>Mark1</th><th scope=col>Mark2</th><th scope=col>Mark3</th><th scope=col>Mark4</th><th scope=col>Mark5</th><th scope=col>Mark6</th><th scope=col>Mark7</th><th scope=col>Mark8</th><th scope=col>Mark9</th><th scope=col>⋯</th><th scope=col>Mark991</th><th scope=col>Mark992</th><th scope=col>Mark993</th><th scope=col>Mark994</th><th scope=col>Mark995</th><th scope=col>Mark996</th><th scope=col>Mark997</th><th scope=col>Mark998</th><th scope=col>Mark999</th><th scope=col>Mark1000</th></tr>\n",
       "\t<tr><th scope=col>&lt;dbl&gt;</th><th scope=col>&lt;int&gt;</th><th scope=col>&lt;int&gt;</th><th scope=col>&lt;int&gt;</th><th scope=col>&lt;int&gt;</th><th scope=col>&lt;int&gt;</th><th scope=col>&lt;int&gt;</th><th scope=col>&lt;int&gt;</th><th scope=col>&lt;int&gt;</th><th scope=col>&lt;int&gt;</th><th scope=col>⋯</th><th scope=col>&lt;int&gt;</th><th scope=col>&lt;int&gt;</th><th scope=col>&lt;int&gt;</th><th scope=col>&lt;int&gt;</th><th scope=col>&lt;int&gt;</th><th scope=col>&lt;int&gt;</th><th scope=col>&lt;int&gt;</th><th scope=col>&lt;int&gt;</th><th scope=col>&lt;int&gt;</th><th scope=col>&lt;int&gt;</th></tr>\n",
       "</thead>\n",
       "<tbody>\n",
       "\t<tr><td>      NA</td><td>1</td><td>1</td><td>1</td><td>1</td><td>1</td><td>1</td><td>1</td><td>1</td><td>1</td><td>⋯</td><td>10</td><td>10</td><td>10</td><td>10</td><td>10</td><td>10</td><td>10</td><td>10</td><td>10</td><td> 10</td></tr>\n",
       "\t<tr><td>      NA</td><td>1</td><td>2</td><td>3</td><td>4</td><td>5</td><td>6</td><td>7</td><td>8</td><td>9</td><td>⋯</td><td>91</td><td>92</td><td>93</td><td>94</td><td>95</td><td>96</td><td>97</td><td>98</td><td>99</td><td>100</td></tr>\n",
       "\t<tr><td>41.04670</td><td>0</td><td>0</td><td>0</td><td>1</td><td>1</td><td>1</td><td>0</td><td>1</td><td>0</td><td>⋯</td><td> 0</td><td> 0</td><td> 0</td><td> 1</td><td> 0</td><td> 0</td><td> 0</td><td> 1</td><td> 0</td><td>  0</td></tr>\n",
       "\t<tr><td>-7.06822</td><td>1</td><td>0</td><td>1</td><td>1</td><td>1</td><td>1</td><td>1</td><td>0</td><td>1</td><td>⋯</td><td> 0</td><td> 1</td><td> 1</td><td> 1</td><td> 0</td><td> 0</td><td> 0</td><td> 1</td><td> 1</td><td>  0</td></tr>\n",
       "\t<tr><td>32.00474</td><td>1</td><td>1</td><td>0</td><td>1</td><td>1</td><td>1</td><td>1</td><td>1</td><td>1</td><td>⋯</td><td> 0</td><td> 1</td><td> 1</td><td> 0</td><td> 1</td><td> 0</td><td> 0</td><td> 1</td><td> 0</td><td>  1</td></tr>\n",
       "</tbody>\n",
       "</table>\n"
      ],
      "text/latex": [
       "A data.frame: 5 × 1001\n",
       "\\begin{tabular}{lllllllllllllllllllll}\n",
       " Pheno & Mark1 & Mark2 & Mark3 & Mark4 & Mark5 & Mark6 & Mark7 & Mark8 & Mark9 & ⋯ & Mark991 & Mark992 & Mark993 & Mark994 & Mark995 & Mark996 & Mark997 & Mark998 & Mark999 & Mark1000\\\\\n",
       " <dbl> & <int> & <int> & <int> & <int> & <int> & <int> & <int> & <int> & <int> & ⋯ & <int> & <int> & <int> & <int> & <int> & <int> & <int> & <int> & <int> & <int>\\\\\n",
       "\\hline\n",
       "\t       NA & 1 & 1 & 1 & 1 & 1 & 1 & 1 & 1 & 1 & ⋯ & 10 & 10 & 10 & 10 & 10 & 10 & 10 & 10 & 10 &  10\\\\\n",
       "\t       NA & 1 & 2 & 3 & 4 & 5 & 6 & 7 & 8 & 9 & ⋯ & 91 & 92 & 93 & 94 & 95 & 96 & 97 & 98 & 99 & 100\\\\\n",
       "\t 41.04670 & 0 & 0 & 0 & 1 & 1 & 1 & 0 & 1 & 0 & ⋯ &  0 &  0 &  0 &  1 &  0 &  0 &  0 &  1 &  0 &   0\\\\\n",
       "\t -7.06822 & 1 & 0 & 1 & 1 & 1 & 1 & 1 & 0 & 1 & ⋯ &  0 &  1 &  1 &  1 &  0 &  0 &  0 &  1 &  1 &   0\\\\\n",
       "\t 32.00474 & 1 & 1 & 0 & 1 & 1 & 1 & 1 & 1 & 1 & ⋯ &  0 &  1 &  1 &  0 &  1 &  0 &  0 &  1 &  0 &   1\\\\\n",
       "\\end{tabular}\n"
      ],
      "text/markdown": [
       "\n",
       "A data.frame: 5 × 1001\n",
       "\n",
       "| Pheno &lt;dbl&gt; | Mark1 &lt;int&gt; | Mark2 &lt;int&gt; | Mark3 &lt;int&gt; | Mark4 &lt;int&gt; | Mark5 &lt;int&gt; | Mark6 &lt;int&gt; | Mark7 &lt;int&gt; | Mark8 &lt;int&gt; | Mark9 &lt;int&gt; | ⋯ ⋯ | Mark991 &lt;int&gt; | Mark992 &lt;int&gt; | Mark993 &lt;int&gt; | Mark994 &lt;int&gt; | Mark995 &lt;int&gt; | Mark996 &lt;int&gt; | Mark997 &lt;int&gt; | Mark998 &lt;int&gt; | Mark999 &lt;int&gt; | Mark1000 &lt;int&gt; |\n",
       "|---|---|---|---|---|---|---|---|---|---|---|---|---|---|---|---|---|---|---|---|---|\n",
       "|       NA | 1 | 1 | 1 | 1 | 1 | 1 | 1 | 1 | 1 | ⋯ | 10 | 10 | 10 | 10 | 10 | 10 | 10 | 10 | 10 |  10 |\n",
       "|       NA | 1 | 2 | 3 | 4 | 5 | 6 | 7 | 8 | 9 | ⋯ | 91 | 92 | 93 | 94 | 95 | 96 | 97 | 98 | 99 | 100 |\n",
       "| 41.04670 | 0 | 0 | 0 | 1 | 1 | 1 | 0 | 1 | 0 | ⋯ |  0 |  0 |  0 |  1 |  0 |  0 |  0 |  1 |  0 |   0 |\n",
       "| -7.06822 | 1 | 0 | 1 | 1 | 1 | 1 | 1 | 0 | 1 | ⋯ |  0 |  1 |  1 |  1 |  0 |  0 |  0 |  1 |  1 |   0 |\n",
       "| 32.00474 | 1 | 1 | 0 | 1 | 1 | 1 | 1 | 1 | 1 | ⋯ |  0 |  1 |  1 |  0 |  1 |  0 |  0 |  1 |  0 |   1 |\n",
       "\n"
      ],
      "text/plain": [
       "  Pheno    Mark1 Mark2 Mark3 Mark4 Mark5 Mark6 Mark7 Mark8 Mark9 ⋯ Mark991\n",
       "1       NA 1     1     1     1     1     1     1     1     1     ⋯ 10     \n",
       "2       NA 1     2     3     4     5     6     7     8     9     ⋯ 91     \n",
       "3 41.04670 0     0     0     1     1     1     0     1     0     ⋯  0     \n",
       "4 -7.06822 1     0     1     1     1     1     1     0     1     ⋯  0     \n",
       "5 32.00474 1     1     0     1     1     1     1     1     1     ⋯  0     \n",
       "  Mark992 Mark993 Mark994 Mark995 Mark996 Mark997 Mark998 Mark999 Mark1000\n",
       "1 10      10      10      10      10      10      10      10       10     \n",
       "2 92      93      94      95      96      97      98      99      100     \n",
       "3  0       0       1       0       0       0       1       0        0     \n",
       "4  1       1       1       0       0       0       1       1        0     \n",
       "5  1       1       0       1       0       0       1       0        1     "
      ]
     },
     "metadata": {},
     "output_type": "display_data"
    }
   ],
   "source": [
    "read.table(data_file_path, header = TRUE, nrows = 5, sep = \",\")\n"
   ]
  },
  {
   "cell_type": "markdown",
   "metadata": {},
   "source": [
    "Es importante que los marcadores usen los mismos códigos para genotipos. Recordemos que en caso de un cruce _backcross_ se tiene dos genotipos, por lo que requiere dos códigos. En el caso de un _intercross_ y en condiciones que se puede diferenciar homocigotos de diferentes alelos, se requieren 3, en caso contrario 5.\n",
    "\n",
    "Miremos cuantos códigos de genotipo hay en la tabla:"
   ]
  },
  {
   "cell_type": "code",
   "execution_count": 3,
   "metadata": {
    "vscode": {
     "languageId": "r"
    }
   },
   "outputs": [
    {
     "name": "stdout",
     "output_type": "stream",
     "text": [
      "Genotype codes: 0 1"
     ]
    }
   ],
   "source": [
    "raw_table <- read.table(data_file_path, header = TRUE, sep = \",\")\n",
    "cat(\"Genotype codes:\", unique(as.numeric(raw_table[3, 2:ncol(raw_table)])))\n"
   ]
  },
  {
   "cell_type": "markdown",
   "metadata": {},
   "source": [
    "Miremos cuantos datos perdidos hay:"
   ]
  },
  {
   "cell_type": "code",
   "execution_count": 4,
   "metadata": {
    "vscode": {
     "languageId": "r"
    }
   },
   "outputs": [
    {
     "name": "stdout",
     "output_type": "stream",
     "text": [
      "Number of missing values: 0"
     ]
    }
   ],
   "source": [
    "cat(\"Number of missing values:\", sum(is.na(raw_table[3, ])))\n"
   ]
  },
  {
   "cell_type": "markdown",
   "metadata": {},
   "source": [
    "Conociendo esta información podemos cargar nuestros datos para Rqtl:"
   ]
  },
  {
   "cell_type": "code",
   "execution_count": 5,
   "metadata": {
    "vscode": {
     "languageId": "r"
    }
   },
   "outputs": [
    {
     "name": "stdout",
     "output_type": "stream",
     "text": [
      " --Read the following data:\n",
      "\t 500  individuals\n",
      "\t 1000  markers\n",
      "\t 1  phenotypes\n",
      " --Cross type: bc \n"
     ]
    }
   ],
   "source": [
    "raw_data <- read.cross(\n",
    "  format = \"csv\", file = data_file_path,\n",
    "  na.strings = \"NA\", genotype = c(\"0\", \"1\")\n",
    ")\n"
   ]
  },
  {
   "cell_type": "markdown",
   "metadata": {},
   "source": [
    "1. En tipo de cruce dice: bc (backcross). ¿Cuál será la relación genotípica? ¿Con SNPs \n",
    "como serían los genotipos de los padres?\n",
    "\n",
    "- La relación es 1:1. $A_1/A_1 : A_1/A_2\\space \\text{s.t. } A_1 \\neq A_2;\\space A_1, A_2 \\in \\{A,G,C,T\\}$\n",
    "- Homocigotos para nucleótidos diferentes. $A_1/A_1,\\space A_2/A_2,\\space \\text{s.t. } A_1 \\neq A_2;\\space A_1, A_2 \\in \\{A,G,C,T\\}$"
   ]
  },
  {
   "cell_type": "code",
   "execution_count": 6,
   "metadata": {
    "vscode": {
     "languageId": "r"
    }
   },
   "outputs": [
    {
     "data": {
      "text/plain": [
       "    Backcross\n",
       "\n",
       "    No. individuals:    500 \n",
       "\n",
       "    No. phenotypes:     1 \n",
       "    Percent phenotyped: 100 \n",
       "\n",
       "    No. chromosomes:    10 \n",
       "        Autosomes:      1 2 3 4 5 6 7 8 9 10 \n",
       "\n",
       "    Total markers:      1000 \n",
       "    No. markers:        100 100 100 100 100 100 100 100 100 100 \n",
       "    Percent genotyped:  100 \n",
       "    Genotypes (%):      AA:50.0  AB:50.0 "
      ]
     },
     "metadata": {},
     "output_type": "display_data"
    }
   ],
   "source": [
    "summary(raw_data)\n"
   ]
  },
  {
   "cell_type": "code",
   "execution_count": 7,
   "metadata": {
    "vscode": {
     "languageId": "r"
    }
   },
   "outputs": [
    {
     "data": {
      "image/png": "[encoded data removed]",
      "text/plain": [
       "Plot with title “Pheno”"
      ]
     },
     "metadata": {
      "image/png": {
       "height": 420,
       "width": 420
      }
     },
     "output_type": "display_data"
    }
   ],
   "source": [
    "plot(raw_data) # plot.missing plot.map plot.pheno\n"
   ]
  },
  {
   "cell_type": "code",
   "execution_count": 17,
   "metadata": {
    "vscode": {
     "languageId": "r"
    }
   },
   "outputs": [
    {
     "name": "stdout",
     "output_type": "stream",
     "text": [
      "Markers by chromosome:\n",
      "  1   2   3   4   5   6   7   8   9  10 \n",
      "100 100 100 100 100 100 100 100 100 100 \n"
     ]
    }
   ],
   "source": [
    "cat(\"Markers by chromosome:\\n\")\n",
    "print(nmar(raw_data))\n"
   ]
  },
  {
   "cell_type": "markdown",
   "metadata": {},
   "source": [
    "2. ¿Observando las gráficas que puede deducir de los datos? "
   ]
  }
 ],
 "metadata": {
  "kernelspec": {
   "display_name": "R",
   "language": "R",
   "name": "ir"
  },
  "language_info": {
   "codemirror_mode": "r",
   "file_extension": ".r",
   "mimetype": "text/x-r-source",
   "name": "R",
   "pygments_lexer": "r",
   "version": "4.1.2"
  }
 },
 "nbformat": 4,
 "nbformat_minor": 2
}
