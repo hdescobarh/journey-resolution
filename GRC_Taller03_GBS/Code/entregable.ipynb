{
 "cells": [
  {
   "cell_type": "markdown",
   "metadata": {},
   "source": [
    "# Taller 3. Filtrado de marcadores moleculares tipo SNP\n",
    "Genética de rasgos complejos 2024-01 - Docente Johana Carolina Soto Sedano\n",
    "\n",
    "__Hans D. Escobar H.__ ([hdescobarh](https://github.com/hdescobarh))\n",
    "\n",
    "Como en la guía, para familiarizarme los datos aplicare los pasos de forma interactiva, pero con R + Jupyter Notebook en lugar de Excel.\n",
    "\n",
    "Filtros a aplicar:\n",
    "1. Marcadores monomórficos y multialélicos\n",
    "2. Marcadores con segregación idéntica\n",
    "3. Marcadores con MAF < 5%"
   ]
  },
  {
   "cell_type": "markdown",
   "metadata": {},
   "source": [
    "## Conociendo los datos\n"
   ]
  },
  {
   "cell_type": "code",
   "execution_count": 1,
   "metadata": {
    "vscode": {
     "languageId": "r"
    }
   },
   "outputs": [
    {
     "name": "stdout",
     "output_type": "stream",
     "text": [
      "Número marcadores: 83830 \n",
      "Número de genotipos: 150"
     ]
    },
    {
     "data": {
      "text/html": [
       "<table class=\"dataframe\">\n",
       "<caption>A data.frame: 6 × 152</caption>\n",
       "<thead>\n",
       "\t<tr><th></th><th scope=col>alleles</th><th scope=col>chrom</th><th scope=col>G1</th><th scope=col>G2</th><th scope=col>G3</th><th scope=col>G4</th><th scope=col>G5</th><th scope=col>G6</th><th scope=col>G7</th><th scope=col>G8</th><th scope=col>⋯</th><th scope=col>G141</th><th scope=col>G142</th><th scope=col>G143</th><th scope=col>G144</th><th scope=col>G145</th><th scope=col>G146</th><th scope=col>G147</th><th scope=col>G148</th><th scope=col>G149</th><th scope=col>G150</th></tr>\n",
       "\t<tr><th></th><th scope=col>&lt;chr&gt;</th><th scope=col>&lt;chr&gt;</th><th scope=col>&lt;chr&gt;</th><th scope=col>&lt;chr&gt;</th><th scope=col>&lt;chr&gt;</th><th scope=col>&lt;chr&gt;</th><th scope=col>&lt;chr&gt;</th><th scope=col>&lt;chr&gt;</th><th scope=col>&lt;chr&gt;</th><th scope=col>&lt;chr&gt;</th><th scope=col>⋯</th><th scope=col>&lt;chr&gt;</th><th scope=col>&lt;chr&gt;</th><th scope=col>&lt;chr&gt;</th><th scope=col>&lt;chr&gt;</th><th scope=col>&lt;chr&gt;</th><th scope=col>&lt;chr&gt;</th><th scope=col>&lt;chr&gt;</th><th scope=col>&lt;chr&gt;</th><th scope=col>&lt;chr&gt;</th><th scope=col>&lt;chr&gt;</th></tr>\n",
       "</thead>\n",
       "<tbody>\n",
       "\t<tr><th scope=row>SNP1</th><td>C/T</td><td>ST4.03ch01</td><td>CC</td><td>CC</td><td>CC</td><td>CC</td><td>CC</td><td>CC</td><td>CC</td><td>CC</td><td>⋯</td><td>CC</td><td>CC</td><td>CC</td><td>CC</td><td>CC</td><td>CC</td><td>CC</td><td>CC</td><td>CC</td><td>CC</td></tr>\n",
       "\t<tr><th scope=row>SNP2</th><td>A/G</td><td>ST4.03ch01</td><td>AG</td><td>AG</td><td>AA</td><td>AA</td><td>AG</td><td>AA</td><td>AA</td><td>AA</td><td>⋯</td><td>AG</td><td>AA</td><td>AA</td><td>AA</td><td>AA</td><td>AA</td><td>AA</td><td>AA</td><td>AA</td><td>AA</td></tr>\n",
       "\t<tr><th scope=row>SNP3</th><td>C/A</td><td>ST4.03ch01</td><td>CC</td><td>CC</td><td>CC</td><td>CC</td><td>CC</td><td>CC</td><td>CC</td><td>CC</td><td>⋯</td><td>CC</td><td>CC</td><td>CC</td><td>CC</td><td>CC</td><td>CC</td><td>CC</td><td>CC</td><td>CC</td><td>CC</td></tr>\n",
       "\t<tr><th scope=row>SNP4</th><td>G/A</td><td>ST4.03ch01</td><td>GA</td><td>GA</td><td>GG</td><td>GG</td><td>GA</td><td>GG</td><td>GG</td><td>GG</td><td>⋯</td><td>GA</td><td>GG</td><td>GG</td><td>GG</td><td>GG</td><td>GG</td><td>GG</td><td>GG</td><td>GG</td><td>GG</td></tr>\n",
       "\t<tr><th scope=row>SNP5</th><td>C/T</td><td>ST4.03ch01</td><td>CT</td><td>CT</td><td>TT</td><td>CT</td><td>CT</td><td>TT</td><td>TT</td><td>TT</td><td>⋯</td><td>CT</td><td>TT</td><td>TT</td><td>TT</td><td>TT</td><td>TT</td><td>TT</td><td>TT</td><td>CT</td><td>TT</td></tr>\n",
       "\t<tr><th scope=row>SNP6</th><td>G/A</td><td>ST4.03ch01</td><td>GG</td><td>GG</td><td>GG</td><td>GG</td><td>GG</td><td>GG</td><td>GG</td><td>GG</td><td>⋯</td><td>GG</td><td>GG</td><td>GG</td><td>GG</td><td>GG</td><td>GG</td><td>GG</td><td>GG</td><td>GA</td><td>GG</td></tr>\n",
       "</tbody>\n",
       "</table>\n"
      ],
      "text/latex": [
       "A data.frame: 6 × 152\n",
       "\\begin{tabular}{r|lllllllllllllllllllll}\n",
       "  & alleles & chrom & G1 & G2 & G3 & G4 & G5 & G6 & G7 & G8 & ⋯ & G141 & G142 & G143 & G144 & G145 & G146 & G147 & G148 & G149 & G150\\\\\n",
       "  & <chr> & <chr> & <chr> & <chr> & <chr> & <chr> & <chr> & <chr> & <chr> & <chr> & ⋯ & <chr> & <chr> & <chr> & <chr> & <chr> & <chr> & <chr> & <chr> & <chr> & <chr>\\\\\n",
       "\\hline\n",
       "\tSNP1 & C/T & ST4.03ch01 & CC & CC & CC & CC & CC & CC & CC & CC & ⋯ & CC & CC & CC & CC & CC & CC & CC & CC & CC & CC\\\\\n",
       "\tSNP2 & A/G & ST4.03ch01 & AG & AG & AA & AA & AG & AA & AA & AA & ⋯ & AG & AA & AA & AA & AA & AA & AA & AA & AA & AA\\\\\n",
       "\tSNP3 & C/A & ST4.03ch01 & CC & CC & CC & CC & CC & CC & CC & CC & ⋯ & CC & CC & CC & CC & CC & CC & CC & CC & CC & CC\\\\\n",
       "\tSNP4 & G/A & ST4.03ch01 & GA & GA & GG & GG & GA & GG & GG & GG & ⋯ & GA & GG & GG & GG & GG & GG & GG & GG & GG & GG\\\\\n",
       "\tSNP5 & C/T & ST4.03ch01 & CT & CT & TT & CT & CT & TT & TT & TT & ⋯ & CT & TT & TT & TT & TT & TT & TT & TT & CT & TT\\\\\n",
       "\tSNP6 & G/A & ST4.03ch01 & GG & GG & GG & GG & GG & GG & GG & GG & ⋯ & GG & GG & GG & GG & GG & GG & GG & GG & GA & GG\\\\\n",
       "\\end{tabular}\n"
      ],
      "text/markdown": [
       "\n",
       "A data.frame: 6 × 152\n",
       "\n",
       "| <!--/--> | alleles &lt;chr&gt; | chrom &lt;chr&gt; | G1 &lt;chr&gt; | G2 &lt;chr&gt; | G3 &lt;chr&gt; | G4 &lt;chr&gt; | G5 &lt;chr&gt; | G6 &lt;chr&gt; | G7 &lt;chr&gt; | G8 &lt;chr&gt; | ⋯ ⋯ | G141 &lt;chr&gt; | G142 &lt;chr&gt; | G143 &lt;chr&gt; | G144 &lt;chr&gt; | G145 &lt;chr&gt; | G146 &lt;chr&gt; | G147 &lt;chr&gt; | G148 &lt;chr&gt; | G149 &lt;chr&gt; | G150 &lt;chr&gt; |\n",
       "|---|---|---|---|---|---|---|---|---|---|---|---|---|---|---|---|---|---|---|---|---|---|\n",
       "| SNP1 | C/T | ST4.03ch01 | CC | CC | CC | CC | CC | CC | CC | CC | ⋯ | CC | CC | CC | CC | CC | CC | CC | CC | CC | CC |\n",
       "| SNP2 | A/G | ST4.03ch01 | AG | AG | AA | AA | AG | AA | AA | AA | ⋯ | AG | AA | AA | AA | AA | AA | AA | AA | AA | AA |\n",
       "| SNP3 | C/A | ST4.03ch01 | CC | CC | CC | CC | CC | CC | CC | CC | ⋯ | CC | CC | CC | CC | CC | CC | CC | CC | CC | CC |\n",
       "| SNP4 | G/A | ST4.03ch01 | GA | GA | GG | GG | GA | GG | GG | GG | ⋯ | GA | GG | GG | GG | GG | GG | GG | GG | GG | GG |\n",
       "| SNP5 | C/T | ST4.03ch01 | CT | CT | TT | CT | CT | TT | TT | TT | ⋯ | CT | TT | TT | TT | TT | TT | TT | TT | CT | TT |\n",
       "| SNP6 | G/A | ST4.03ch01 | GG | GG | GG | GG | GG | GG | GG | GG | ⋯ | GG | GG | GG | GG | GG | GG | GG | GG | GA | GG |\n",
       "\n"
      ],
      "text/plain": [
       "     alleles chrom      G1 G2 G3 G4 G5 G6 G7 G8 ⋯ G141 G142 G143 G144 G145 G146\n",
       "SNP1 C/T     ST4.03ch01 CC CC CC CC CC CC CC CC ⋯ CC   CC   CC   CC   CC   CC  \n",
       "SNP2 A/G     ST4.03ch01 AG AG AA AA AG AA AA AA ⋯ AG   AA   AA   AA   AA   AA  \n",
       "SNP3 C/A     ST4.03ch01 CC CC CC CC CC CC CC CC ⋯ CC   CC   CC   CC   CC   CC  \n",
       "SNP4 G/A     ST4.03ch01 GA GA GG GG GA GG GG GG ⋯ GA   GG   GG   GG   GG   GG  \n",
       "SNP5 C/T     ST4.03ch01 CT CT TT CT CT TT TT TT ⋯ CT   TT   TT   TT   TT   TT  \n",
       "SNP6 G/A     ST4.03ch01 GG GG GG GG GG GG GG GG ⋯ GG   GG   GG   GG   GG   GG  \n",
       "     G147 G148 G149 G150\n",
       "SNP1 CC   CC   CC   CC  \n",
       "SNP2 AA   AA   AA   AA  \n",
       "SNP3 CC   CC   CC   CC  \n",
       "SNP4 GG   GG   GG   GG  \n",
       "SNP5 TT   TT   CT   TT  \n",
       "SNP6 GG   GG   GA   GG  "
      ]
     },
     "metadata": {},
     "output_type": "display_data"
    }
   ],
   "source": [
    "data_file <- \"Private_Data/GBS.txt\"\n",
    "data <- read.delim(data_file, row.names = 1, colClasses = \"character\")\n",
    "data <- subset(data, select = -c(3:10))\n",
    "n_marcadores_iniciales <- nrow(data)\n",
    "n_genotipos_iniciales <- ncol(data) - 2\n",
    "cat(\n",
    "  \"Número marcadores:\", n_marcadores_iniciales,\n",
    "  \"\\nNúmero de genotipos:\", n_genotipos_iniciales\n",
    ")\n",
    "head(data)\n"
   ]
  },
  {
   "cell_type": "code",
   "execution_count": 2,
   "metadata": {
    "vscode": {
     "languageId": "r"
    }
   },
   "outputs": [],
   "source": [
    "imprimir_estado <- function(\n",
    "    data, n_marcadores_iniciales, n_genotipos_iniciales) {\n",
    "  cat(sprintf(\n",
    "    \"Número marcadores: %i/%i\\nNúmero de genotipos: %i/%i\",\n",
    "    nrow(data), n_marcadores_iniciales, ncol(data) - 2, n_genotipos_iniciales\n",
    "  ))\n",
    "}\n"
   ]
  },
  {
   "cell_type": "markdown",
   "metadata": {},
   "source": [
    "## Filtro Marcadores monomórficos y multialélicos"
   ]
  },
  {
   "cell_type": "code",
   "execution_count": 3,
   "metadata": {
    "vscode": {
     "languageId": "r"
    }
   },
   "outputs": [
    {
     "name": "stdout",
     "output_type": "stream",
     "text": [
      "Número marcadores: 83830/83830\n",
      "Número de genotipos: 150/150"
     ]
    }
   ],
   "source": [
    "data <- subset(\n",
    "  data, grepl(\"^[AGCT]/[AGCT]$\", data[, \"alleles\"], ignore.case = TRUE),\n",
    ")\n",
    "imprimir_estado(data, n_marcadores_iniciales, n_genotipos_iniciales)\n"
   ]
  },
  {
   "cell_type": "markdown",
   "metadata": {},
   "source": [
    "## Filtro marcadores con segregación idéntica"
   ]
  },
  {
   "cell_type": "code",
   "execution_count": 4,
   "metadata": {
    "vscode": {
     "languageId": "r"
    }
   },
   "outputs": [
    {
     "name": "stdout",
     "output_type": "stream",
     "text": [
      "Número marcadores: 68189/83830\n",
      "Número de genotipos: 150/150"
     ]
    },
    {
     "data": {
      "text/html": [
       "<table class=\"dataframe\">\n",
       "<caption>A data.frame: 6 × 152</caption>\n",
       "<thead>\n",
       "\t<tr><th></th><th scope=col>alleles</th><th scope=col>chrom</th><th scope=col>G1</th><th scope=col>G2</th><th scope=col>G3</th><th scope=col>G4</th><th scope=col>G5</th><th scope=col>G6</th><th scope=col>G7</th><th scope=col>G8</th><th scope=col>⋯</th><th scope=col>G141</th><th scope=col>G142</th><th scope=col>G143</th><th scope=col>G144</th><th scope=col>G145</th><th scope=col>G146</th><th scope=col>G147</th><th scope=col>G148</th><th scope=col>G149</th><th scope=col>G150</th></tr>\n",
       "\t<tr><th></th><th scope=col>&lt;chr&gt;</th><th scope=col>&lt;chr&gt;</th><th scope=col>&lt;chr&gt;</th><th scope=col>&lt;chr&gt;</th><th scope=col>&lt;chr&gt;</th><th scope=col>&lt;chr&gt;</th><th scope=col>&lt;chr&gt;</th><th scope=col>&lt;chr&gt;</th><th scope=col>&lt;chr&gt;</th><th scope=col>&lt;chr&gt;</th><th scope=col>⋯</th><th scope=col>&lt;chr&gt;</th><th scope=col>&lt;chr&gt;</th><th scope=col>&lt;chr&gt;</th><th scope=col>&lt;chr&gt;</th><th scope=col>&lt;chr&gt;</th><th scope=col>&lt;chr&gt;</th><th scope=col>&lt;chr&gt;</th><th scope=col>&lt;chr&gt;</th><th scope=col>&lt;chr&gt;</th><th scope=col>&lt;chr&gt;</th></tr>\n",
       "</thead>\n",
       "<tbody>\n",
       "\t<tr><th scope=row>SNP1</th><td>C/T</td><td>ST4.03ch01</td><td>CC</td><td>CC</td><td>CC</td><td>CC</td><td>CC</td><td>CC</td><td>CC</td><td>CC</td><td>⋯</td><td>CC</td><td>CC</td><td>CC</td><td>CC</td><td>CC</td><td>CC</td><td>CC</td><td>CC</td><td>CC</td><td>CC</td></tr>\n",
       "\t<tr><th scope=row>SNP2</th><td>A/G</td><td>ST4.03ch01</td><td>AG</td><td>AG</td><td>AA</td><td>AA</td><td>AG</td><td>AA</td><td>AA</td><td>AA</td><td>⋯</td><td>AG</td><td>AA</td><td>AA</td><td>AA</td><td>AA</td><td>AA</td><td>AA</td><td>AA</td><td>AA</td><td>AA</td></tr>\n",
       "\t<tr><th scope=row>SNP3</th><td>C/A</td><td>ST4.03ch01</td><td>CC</td><td>CC</td><td>CC</td><td>CC</td><td>CC</td><td>CC</td><td>CC</td><td>CC</td><td>⋯</td><td>CC</td><td>CC</td><td>CC</td><td>CC</td><td>CC</td><td>CC</td><td>CC</td><td>CC</td><td>CC</td><td>CC</td></tr>\n",
       "\t<tr><th scope=row>SNP4</th><td>G/A</td><td>ST4.03ch01</td><td>GA</td><td>GA</td><td>GG</td><td>GG</td><td>GA</td><td>GG</td><td>GG</td><td>GG</td><td>⋯</td><td>GA</td><td>GG</td><td>GG</td><td>GG</td><td>GG</td><td>GG</td><td>GG</td><td>GG</td><td>GG</td><td>GG</td></tr>\n",
       "\t<tr><th scope=row>SNP5</th><td>C/T</td><td>ST4.03ch01</td><td>CT</td><td>CT</td><td>TT</td><td>CT</td><td>CT</td><td>TT</td><td>TT</td><td>TT</td><td>⋯</td><td>CT</td><td>TT</td><td>TT</td><td>TT</td><td>TT</td><td>TT</td><td>TT</td><td>TT</td><td>CT</td><td>TT</td></tr>\n",
       "\t<tr><th scope=row>SNP6</th><td>G/A</td><td>ST4.03ch01</td><td>GG</td><td>GG</td><td>GG</td><td>GG</td><td>GG</td><td>GG</td><td>GG</td><td>GG</td><td>⋯</td><td>GG</td><td>GG</td><td>GG</td><td>GG</td><td>GG</td><td>GG</td><td>GG</td><td>GG</td><td>GA</td><td>GG</td></tr>\n",
       "</tbody>\n",
       "</table>\n"
      ],
      "text/latex": [
       "A data.frame: 6 × 152\n",
       "\\begin{tabular}{r|lllllllllllllllllllll}\n",
       "  & alleles & chrom & G1 & G2 & G3 & G4 & G5 & G6 & G7 & G8 & ⋯ & G141 & G142 & G143 & G144 & G145 & G146 & G147 & G148 & G149 & G150\\\\\n",
       "  & <chr> & <chr> & <chr> & <chr> & <chr> & <chr> & <chr> & <chr> & <chr> & <chr> & ⋯ & <chr> & <chr> & <chr> & <chr> & <chr> & <chr> & <chr> & <chr> & <chr> & <chr>\\\\\n",
       "\\hline\n",
       "\tSNP1 & C/T & ST4.03ch01 & CC & CC & CC & CC & CC & CC & CC & CC & ⋯ & CC & CC & CC & CC & CC & CC & CC & CC & CC & CC\\\\\n",
       "\tSNP2 & A/G & ST4.03ch01 & AG & AG & AA & AA & AG & AA & AA & AA & ⋯ & AG & AA & AA & AA & AA & AA & AA & AA & AA & AA\\\\\n",
       "\tSNP3 & C/A & ST4.03ch01 & CC & CC & CC & CC & CC & CC & CC & CC & ⋯ & CC & CC & CC & CC & CC & CC & CC & CC & CC & CC\\\\\n",
       "\tSNP4 & G/A & ST4.03ch01 & GA & GA & GG & GG & GA & GG & GG & GG & ⋯ & GA & GG & GG & GG & GG & GG & GG & GG & GG & GG\\\\\n",
       "\tSNP5 & C/T & ST4.03ch01 & CT & CT & TT & CT & CT & TT & TT & TT & ⋯ & CT & TT & TT & TT & TT & TT & TT & TT & CT & TT\\\\\n",
       "\tSNP6 & G/A & ST4.03ch01 & GG & GG & GG & GG & GG & GG & GG & GG & ⋯ & GG & GG & GG & GG & GG & GG & GG & GG & GA & GG\\\\\n",
       "\\end{tabular}\n"
      ],
      "text/markdown": [
       "\n",
       "A data.frame: 6 × 152\n",
       "\n",
       "| <!--/--> | alleles &lt;chr&gt; | chrom &lt;chr&gt; | G1 &lt;chr&gt; | G2 &lt;chr&gt; | G3 &lt;chr&gt; | G4 &lt;chr&gt; | G5 &lt;chr&gt; | G6 &lt;chr&gt; | G7 &lt;chr&gt; | G8 &lt;chr&gt; | ⋯ ⋯ | G141 &lt;chr&gt; | G142 &lt;chr&gt; | G143 &lt;chr&gt; | G144 &lt;chr&gt; | G145 &lt;chr&gt; | G146 &lt;chr&gt; | G147 &lt;chr&gt; | G148 &lt;chr&gt; | G149 &lt;chr&gt; | G150 &lt;chr&gt; |\n",
       "|---|---|---|---|---|---|---|---|---|---|---|---|---|---|---|---|---|---|---|---|---|---|\n",
       "| SNP1 | C/T | ST4.03ch01 | CC | CC | CC | CC | CC | CC | CC | CC | ⋯ | CC | CC | CC | CC | CC | CC | CC | CC | CC | CC |\n",
       "| SNP2 | A/G | ST4.03ch01 | AG | AG | AA | AA | AG | AA | AA | AA | ⋯ | AG | AA | AA | AA | AA | AA | AA | AA | AA | AA |\n",
       "| SNP3 | C/A | ST4.03ch01 | CC | CC | CC | CC | CC | CC | CC | CC | ⋯ | CC | CC | CC | CC | CC | CC | CC | CC | CC | CC |\n",
       "| SNP4 | G/A | ST4.03ch01 | GA | GA | GG | GG | GA | GG | GG | GG | ⋯ | GA | GG | GG | GG | GG | GG | GG | GG | GG | GG |\n",
       "| SNP5 | C/T | ST4.03ch01 | CT | CT | TT | CT | CT | TT | TT | TT | ⋯ | CT | TT | TT | TT | TT | TT | TT | TT | CT | TT |\n",
       "| SNP6 | G/A | ST4.03ch01 | GG | GG | GG | GG | GG | GG | GG | GG | ⋯ | GG | GG | GG | GG | GG | GG | GG | GG | GA | GG |\n",
       "\n"
      ],
      "text/plain": [
       "     alleles chrom      G1 G2 G3 G4 G5 G6 G7 G8 ⋯ G141 G142 G143 G144 G145 G146\n",
       "SNP1 C/T     ST4.03ch01 CC CC CC CC CC CC CC CC ⋯ CC   CC   CC   CC   CC   CC  \n",
       "SNP2 A/G     ST4.03ch01 AG AG AA AA AG AA AA AA ⋯ AG   AA   AA   AA   AA   AA  \n",
       "SNP3 C/A     ST4.03ch01 CC CC CC CC CC CC CC CC ⋯ CC   CC   CC   CC   CC   CC  \n",
       "SNP4 G/A     ST4.03ch01 GA GA GG GG GA GG GG GG ⋯ GA   GG   GG   GG   GG   GG  \n",
       "SNP5 C/T     ST4.03ch01 CT CT TT CT CT TT TT TT ⋯ CT   TT   TT   TT   TT   TT  \n",
       "SNP6 G/A     ST4.03ch01 GG GG GG GG GG GG GG GG ⋯ GG   GG   GG   GG   GG   GG  \n",
       "     G147 G148 G149 G150\n",
       "SNP1 CC   CC   CC   CC  \n",
       "SNP2 AA   AA   AA   AA  \n",
       "SNP3 CC   CC   CC   CC  \n",
       "SNP4 GG   GG   GG   GG  \n",
       "SNP5 TT   TT   CT   TT  \n",
       "SNP6 GG   GG   GA   GG  "
      ]
     },
     "metadata": {},
     "output_type": "display_data"
    }
   ],
   "source": [
    "# Se puede guardar los duplicados en caso de que se quieran explorar en detalle\n",
    "marcadores_duplicados <- duplicated(data[, 3:ncol(data)])\n",
    "data <- data[!marcadores_duplicados, ]\n",
    "imprimir_estado(data, n_marcadores_iniciales, n_genotipos_iniciales)\n",
    "head(data)\n"
   ]
  },
  {
   "cell_type": "markdown",
   "metadata": {},
   "source": [
    "## Filtro marcadores con MAF < 5%"
   ]
  },
  {
   "cell_type": "code",
   "execution_count": 5,
   "metadata": {
    "vscode": {
     "languageId": "r"
    }
   },
   "outputs": [],
   "source": [
    "# Calcula el alelo menos frecuente a partir de los genotipos llamados y\n",
    "# retorna TRUE sí pasa el filtro\n",
    "filtro_maf <- function(fila, umbral = 0.05) {\n",
    "  conteo_alelos <- c(0, 0)\n",
    "  names(conteo_alelos) <- unlist(strsplit(fila[\"alleles\"], split = \"/\"))\n",
    "  total <- 0\n",
    "  for (genotipo in fila[3:length(fila)]) {\n",
    "    if (grepl(\"NN\", genotipo, ignore.case = TRUE)) {\n",
    "      next\n",
    "    }\n",
    "    total <- total + 2\n",
    "    for (alelo in unlist(strsplit(genotipo, split = \"\"))) {\n",
    "      conteo_alelos[alelo] <- conteo_alelos[alelo] + 1\n",
    "    }\n",
    "  }\n",
    "  (min(conteo_alelos) / total) >= umbral\n",
    "}\n"
   ]
  },
  {
   "cell_type": "code",
   "execution_count": 6,
   "metadata": {
    "vscode": {
     "languageId": "r"
    }
   },
   "outputs": [
    {
     "name": "stdout",
     "output_type": "stream",
     "text": [
      "Número marcadores: 45849/83830\n",
      "Número de genotipos: 150/150"
     ]
    },
    {
     "data": {
      "text/html": [
       "<table class=\"dataframe\">\n",
       "<caption>A data.frame: 45849 × 152</caption>\n",
       "<thead>\n",
       "\t<tr><th></th><th scope=col>alleles</th><th scope=col>chrom</th><th scope=col>G1</th><th scope=col>G2</th><th scope=col>G3</th><th scope=col>G4</th><th scope=col>G5</th><th scope=col>G6</th><th scope=col>G7</th><th scope=col>G8</th><th scope=col>⋯</th><th scope=col>G141</th><th scope=col>G142</th><th scope=col>G143</th><th scope=col>G144</th><th scope=col>G145</th><th scope=col>G146</th><th scope=col>G147</th><th scope=col>G148</th><th scope=col>G149</th><th scope=col>G150</th></tr>\n",
       "\t<tr><th></th><th scope=col>&lt;chr&gt;</th><th scope=col>&lt;chr&gt;</th><th scope=col>&lt;chr&gt;</th><th scope=col>&lt;chr&gt;</th><th scope=col>&lt;chr&gt;</th><th scope=col>&lt;chr&gt;</th><th scope=col>&lt;chr&gt;</th><th scope=col>&lt;chr&gt;</th><th scope=col>&lt;chr&gt;</th><th scope=col>&lt;chr&gt;</th><th scope=col>⋯</th><th scope=col>&lt;chr&gt;</th><th scope=col>&lt;chr&gt;</th><th scope=col>&lt;chr&gt;</th><th scope=col>&lt;chr&gt;</th><th scope=col>&lt;chr&gt;</th><th scope=col>&lt;chr&gt;</th><th scope=col>&lt;chr&gt;</th><th scope=col>&lt;chr&gt;</th><th scope=col>&lt;chr&gt;</th><th scope=col>&lt;chr&gt;</th></tr>\n",
       "</thead>\n",
       "<tbody>\n",
       "\t<tr><th scope=row>SNP2</th><td>A/G</td><td>ST4.03ch01</td><td>AG</td><td>AG</td><td>AA</td><td>AA</td><td>AG</td><td>AA</td><td>AA</td><td>AA</td><td>⋯</td><td>AG</td><td>AA</td><td>AA</td><td>AA</td><td>AA</td><td>AA</td><td>AA</td><td>AA</td><td>AA</td><td>AA</td></tr>\n",
       "\t<tr><th scope=row>SNP4</th><td>G/A</td><td>ST4.03ch01</td><td>GA</td><td>GA</td><td>GG</td><td>GG</td><td>GA</td><td>GG</td><td>GG</td><td>GG</td><td>⋯</td><td>GA</td><td>GG</td><td>GG</td><td>GG</td><td>GG</td><td>GG</td><td>GG</td><td>GG</td><td>GG</td><td>GG</td></tr>\n",
       "\t<tr><th scope=row>SNP5</th><td>C/T</td><td>ST4.03ch01</td><td>CT</td><td>CT</td><td>TT</td><td>CT</td><td>CT</td><td>TT</td><td>TT</td><td>TT</td><td>⋯</td><td>CT</td><td>TT</td><td>TT</td><td>TT</td><td>TT</td><td>TT</td><td>TT</td><td>TT</td><td>CT</td><td>TT</td></tr>\n",
       "\t<tr><th scope=row>SNP6</th><td>G/A</td><td>ST4.03ch01</td><td>GG</td><td>GG</td><td>GG</td><td>GG</td><td>GG</td><td>GG</td><td>GG</td><td>GG</td><td>⋯</td><td>GG</td><td>GG</td><td>GG</td><td>GG</td><td>GG</td><td>GG</td><td>GG</td><td>GG</td><td>GA</td><td>GG</td></tr>\n",
       "\t<tr><th scope=row>SNP7</th><td>A/G</td><td>ST4.03ch01</td><td>AA</td><td>NN</td><td>AG</td><td>AA</td><td>AG</td><td>AA</td><td>AA</td><td>AA</td><td>⋯</td><td>AA</td><td>AA</td><td>AA</td><td>AA</td><td>AA</td><td>AA</td><td>AA</td><td>AA</td><td>AA</td><td>AA</td></tr>\n",
       "\t<tr><th scope=row>SNP17</th><td>G/A</td><td>ST4.03ch01</td><td>GA</td><td>GA</td><td>AA</td><td>GA</td><td>GA</td><td>AA</td><td>AA</td><td>AA</td><td>⋯</td><td>AA</td><td>GA</td><td>NN</td><td>AA</td><td>AA</td><td>AA</td><td>AA</td><td>AA</td><td>GA</td><td>GA</td></tr>\n",
       "\t<tr><th scope=row>SNP22</th><td>G/A</td><td>ST4.03ch01</td><td>GA</td><td>GA</td><td>GA</td><td>GA</td><td>GA</td><td>GG</td><td>GA</td><td>GG</td><td>⋯</td><td>GA</td><td>GA</td><td>GG</td><td>GA</td><td>NN</td><td>GA</td><td>GA</td><td>GA</td><td>GA</td><td>GA</td></tr>\n",
       "\t<tr><th scope=row>SNP25</th><td>C/T</td><td>ST4.03ch01</td><td>CC</td><td>CC</td><td>CT</td><td>CT</td><td>CC</td><td>CC</td><td>CC</td><td>CC</td><td>⋯</td><td>CT</td><td>CC</td><td>CC</td><td>CC</td><td>CC</td><td>CC</td><td>CC</td><td>CC</td><td>CC</td><td>CC</td></tr>\n",
       "\t<tr><th scope=row>SNP28</th><td>G/A</td><td>ST4.03ch01</td><td>NN</td><td>NN</td><td>GG</td><td>GG</td><td>NN</td><td>GA</td><td>GA</td><td>GA</td><td>⋯</td><td>GG</td><td>GG</td><td>GA</td><td>GA</td><td>GG</td><td>GA</td><td>GA</td><td>GA</td><td>GG</td><td>GA</td></tr>\n",
       "\t<tr><th scope=row>SNP29</th><td>C/T</td><td>ST4.03ch01</td><td>CT</td><td>CT</td><td>CC</td><td>CC</td><td>CT</td><td>CT</td><td>CT</td><td>CT</td><td>⋯</td><td>CT</td><td>CT</td><td>CT</td><td>CC</td><td>CT</td><td>CC</td><td>CC</td><td>CC</td><td>CC</td><td>CT</td></tr>\n",
       "\t<tr><th scope=row>SNP30</th><td>G/A</td><td>ST4.03ch01</td><td>GA</td><td>GA</td><td>GG</td><td>GA</td><td>GA</td><td>GA</td><td>GA</td><td>GA</td><td>⋯</td><td>GA</td><td>GA</td><td>GA</td><td>GG</td><td>GA</td><td>GG</td><td>GG</td><td>GG</td><td>GG</td><td>GG</td></tr>\n",
       "\t<tr><th scope=row>SNP38</th><td>C/T</td><td>ST4.03ch01</td><td>CT</td><td>CT</td><td>CC</td><td>CC</td><td>CT</td><td>CT</td><td>CT</td><td>CT</td><td>⋯</td><td>CT</td><td>CT</td><td>NN</td><td>CT</td><td>CC</td><td>CT</td><td>CT</td><td>CC</td><td>CT</td><td>CC</td></tr>\n",
       "\t<tr><th scope=row>SNP39</th><td>G/A</td><td>ST4.03ch01</td><td>GA</td><td>GA</td><td>GG</td><td>GG</td><td>GA</td><td>GA</td><td>GA</td><td>GA</td><td>⋯</td><td>GA</td><td>GA</td><td>GA</td><td>GG</td><td>GA</td><td>GG</td><td>GG</td><td>GG</td><td>GG</td><td>GG</td></tr>\n",
       "\t<tr><th scope=row>SNP44</th><td>A/T</td><td>ST4.03ch01</td><td>AT</td><td>AT</td><td>TT</td><td>AT</td><td>AT</td><td>AT</td><td>AT</td><td>AT</td><td>⋯</td><td>AT</td><td>AT</td><td>AT</td><td>AT</td><td>AT</td><td>AT</td><td>AT</td><td>AT</td><td>AT</td><td>AT</td></tr>\n",
       "\t<tr><th scope=row>SNP45</th><td>T/C</td><td>ST4.03ch01</td><td>TT</td><td>TT</td><td>NN</td><td>TT</td><td>TT</td><td>TT</td><td>TT</td><td>TT</td><td>⋯</td><td>TT</td><td>TC</td><td>TT</td><td>TT</td><td>TT</td><td>TT</td><td>TT</td><td>TT</td><td>TC</td><td>TT</td></tr>\n",
       "\t<tr><th scope=row>SNP46</th><td>T/C</td><td>ST4.03ch01</td><td>TT</td><td>TT</td><td>NN</td><td>TT</td><td>TT</td><td>TT</td><td>TT</td><td>TT</td><td>⋯</td><td>TT</td><td>TC</td><td>TT</td><td>TT</td><td>TT</td><td>TT</td><td>TT</td><td>TT</td><td>TC</td><td>TT</td></tr>\n",
       "\t<tr><th scope=row>SNP47</th><td>C/T</td><td>ST4.03ch01</td><td>CC</td><td>CC</td><td>NN</td><td>CC</td><td>CC</td><td>CC</td><td>CC</td><td>CC</td><td>⋯</td><td>CC</td><td>CT</td><td>CC</td><td>CC</td><td>CC</td><td>CC</td><td>CC</td><td>CC</td><td>CT</td><td>CC</td></tr>\n",
       "\t<tr><th scope=row>SNP51</th><td>A/G</td><td>ST4.03ch01</td><td>AG</td><td>AG</td><td>AG</td><td>AG</td><td>AG</td><td>AA</td><td>AA</td><td>AA</td><td>⋯</td><td>AA</td><td>AG</td><td>AG</td><td>AG</td><td>AG</td><td>AG</td><td>AG</td><td>AG</td><td>AA</td><td>AA</td></tr>\n",
       "\t<tr><th scope=row>SNP52</th><td>G/C</td><td>ST4.03ch01</td><td>GC</td><td>GC</td><td>GG</td><td>GC</td><td>GC</td><td>GC</td><td>GC</td><td>GC</td><td>⋯</td><td>GG</td><td>GG</td><td>GC</td><td>GG</td><td>GC</td><td>GG</td><td>GG</td><td>GG</td><td>GC</td><td>GC</td></tr>\n",
       "\t<tr><th scope=row>SNP54</th><td>C/A</td><td>ST4.03ch01</td><td>CC</td><td>CC</td><td>CC</td><td>CC</td><td>CC</td><td>CC</td><td>CC</td><td>CC</td><td>⋯</td><td>CC</td><td>NN</td><td>CC</td><td>CC</td><td>CC</td><td>CC</td><td>CC</td><td>CC</td><td>CC</td><td>CC</td></tr>\n",
       "\t<tr><th scope=row>SNP58</th><td>C/T</td><td>ST4.03ch01</td><td>CC</td><td>NN</td><td>CT</td><td>CT</td><td>CC</td><td>CC</td><td>CC</td><td>CC</td><td>⋯</td><td>CC</td><td>CC</td><td>CT</td><td>CT</td><td>CT</td><td>CT</td><td>CT</td><td>CT</td><td>CC</td><td>CC</td></tr>\n",
       "\t<tr><th scope=row>SNP59</th><td>C/T</td><td>ST4.03ch01</td><td>CC</td><td>CC</td><td>CC</td><td>CC</td><td>CC</td><td>CC</td><td>CC</td><td>CC</td><td>⋯</td><td>CC</td><td>CT</td><td>CC</td><td>CC</td><td>CC</td><td>CC</td><td>CC</td><td>CC</td><td>CC</td><td>CC</td></tr>\n",
       "\t<tr><th scope=row>SNP61</th><td>T/C</td><td>ST4.03ch01</td><td>TC</td><td>TC</td><td>CC</td><td>TC</td><td>TC</td><td>CC</td><td>CC</td><td>CC</td><td>⋯</td><td>TC</td><td>CC</td><td>CC</td><td>CC</td><td>CC</td><td>CC</td><td>CC</td><td>CC</td><td>TT</td><td>CC</td></tr>\n",
       "\t<tr><th scope=row>SNP62</th><td>T/C</td><td>ST4.03ch01</td><td>TT</td><td>TT</td><td>TT</td><td>TT</td><td>TT</td><td>TT</td><td>TT</td><td>TT</td><td>⋯</td><td>TT</td><td>TT</td><td>TT</td><td>TT</td><td>TT</td><td>TT</td><td>TT</td><td>TT</td><td>TC</td><td>TT</td></tr>\n",
       "\t<tr><th scope=row>SNP66</th><td>A/G</td><td>ST4.03ch01</td><td>NN</td><td>AG</td><td>NN</td><td>AA</td><td>AA</td><td>AG</td><td>AG</td><td>AG</td><td>⋯</td><td>AA</td><td>AA</td><td>AG</td><td>AA</td><td>AG</td><td>AA</td><td>AA</td><td>AA</td><td>AA</td><td>AA</td></tr>\n",
       "\t<tr><th scope=row>SNP70</th><td>C/T</td><td>ST4.03ch01</td><td>CT</td><td>CT</td><td>CC</td><td>CT</td><td>CT</td><td>CC</td><td>CC</td><td>CC</td><td>⋯</td><td>CC</td><td>CT</td><td>CT</td><td>CT</td><td>CT</td><td>CT</td><td>CT</td><td>TT</td><td>CC</td><td>CT</td></tr>\n",
       "\t<tr><th scope=row>SNP74</th><td>T/G</td><td>ST4.03ch01</td><td>TG</td><td>TG</td><td>TT</td><td>TT</td><td>TG</td><td>TT</td><td>TT</td><td>TT</td><td>⋯</td><td>TG</td><td>TT</td><td>TT</td><td>TT</td><td>TT</td><td>TT</td><td>TT</td><td>TT</td><td>TG</td><td>TT</td></tr>\n",
       "\t<tr><th scope=row>SNP81</th><td>T/C</td><td>ST4.03ch01</td><td>TT</td><td>TT</td><td>TT</td><td>TT</td><td>TT</td><td>TT</td><td>TT</td><td>TT</td><td>⋯</td><td>TT</td><td>TT</td><td>TT</td><td>TT</td><td>TT</td><td>TT</td><td>TT</td><td>TT</td><td>TC</td><td>TT</td></tr>\n",
       "\t<tr><th scope=row>SNP82</th><td>G/A</td><td>ST4.03ch01</td><td>GA</td><td>GA</td><td>GG</td><td>GA</td><td>GA</td><td>GG</td><td>GG</td><td>GG</td><td>⋯</td><td>GG</td><td>GA</td><td>GA</td><td>GA</td><td>GA</td><td>GA</td><td>GA</td><td>AA</td><td>GG</td><td>GA</td></tr>\n",
       "\t<tr><th scope=row>SNP84</th><td>C/T</td><td>ST4.03ch01</td><td>CC</td><td>CC</td><td>CC</td><td>CC</td><td>CC</td><td>CC</td><td>CC</td><td>CC</td><td>⋯</td><td>CC</td><td>CT</td><td>CC</td><td>CC</td><td>CC</td><td>CC</td><td>CC</td><td>CC</td><td>CC</td><td>CC</td></tr>\n",
       "\t<tr><th scope=row>⋮</th><td>⋮</td><td>⋮</td><td>⋮</td><td>⋮</td><td>⋮</td><td>⋮</td><td>⋮</td><td>⋮</td><td>⋮</td><td>⋮</td><td>⋱</td><td>⋮</td><td>⋮</td><td>⋮</td><td>⋮</td><td>⋮</td><td>⋮</td><td>⋮</td><td>⋮</td><td>⋮</td><td>⋮</td></tr>\n",
       "\t<tr><th scope=row>SNP83781</th><td>T/C</td><td>ST4.03ch12</td><td>TC</td><td>CC</td><td>TT</td><td>CC</td><td>TC</td><td>TT</td><td>TC</td><td>TT</td><td>⋯</td><td>TC</td><td>TT</td><td>TC</td><td>TC</td><td>TT</td><td>TT</td><td>TT</td><td>TC</td><td>TT</td><td>TT</td></tr>\n",
       "\t<tr><th scope=row>SNP83783</th><td>T/A</td><td>ST4.03ch12</td><td>TA</td><td>AA</td><td>TA</td><td>AA</td><td>TA</td><td>TT</td><td>TA</td><td>TT</td><td>⋯</td><td>TA</td><td>TA</td><td>TA</td><td>TA</td><td>TT</td><td>TT</td><td>TT</td><td>TA</td><td>TT</td><td>TT</td></tr>\n",
       "\t<tr><th scope=row>SNP83784</th><td>A/T</td><td>ST4.03ch12</td><td>AA</td><td>AA</td><td>AT</td><td>AT</td><td>AT</td><td>AA</td><td>AA</td><td>AA</td><td>⋯</td><td>AA</td><td>AA</td><td>AA</td><td>AA</td><td>AA</td><td>AA</td><td>AA</td><td>AA</td><td>AA</td><td>AA</td></tr>\n",
       "\t<tr><th scope=row>SNP83785</th><td>G/C</td><td>ST4.03ch12</td><td>GG</td><td>GG</td><td>GC</td><td>GC</td><td>GC</td><td>GG</td><td>GG</td><td>GG</td><td>⋯</td><td>GG</td><td>GG</td><td>GG</td><td>GG</td><td>GG</td><td>GG</td><td>GG</td><td>GG</td><td>GG</td><td>GG</td></tr>\n",
       "\t<tr><th scope=row>SNP83787</th><td>T/G</td><td>ST4.03ch12</td><td>TT</td><td>TT</td><td>TG</td><td>TG</td><td>TG</td><td>TT</td><td>TT</td><td>TT</td><td>⋯</td><td>TT</td><td>TT</td><td>TT</td><td>TT</td><td>TT</td><td>TT</td><td>TT</td><td>TT</td><td>TT</td><td>TT</td></tr>\n",
       "\t<tr><th scope=row>SNP83788</th><td>G/T</td><td>ST4.03ch12</td><td>GT</td><td>TT</td><td>GT</td><td>TT</td><td>GT</td><td>GG</td><td>GT</td><td>GG</td><td>⋯</td><td>GT</td><td>GT</td><td>GT</td><td>GT</td><td>GG</td><td>GG</td><td>GG</td><td>GT</td><td>GG</td><td>GG</td></tr>\n",
       "\t<tr><th scope=row>SNP83790</th><td>T/G</td><td>ST4.03ch12</td><td>TG</td><td>GG</td><td>TG</td><td>GG</td><td>TG</td><td>TT</td><td>TG</td><td>TT</td><td>⋯</td><td>TG</td><td>TG</td><td>TG</td><td>TG</td><td>TT</td><td>TT</td><td>TT</td><td>TG</td><td>TT</td><td>TT</td></tr>\n",
       "\t<tr><th scope=row>SNP83791</th><td>A/G</td><td>ST4.03ch12</td><td>AG</td><td>AA</td><td>AA</td><td>AA</td><td>AG</td><td>AA</td><td>AA</td><td>AA</td><td>⋯</td><td>AG</td><td>AA</td><td>AA</td><td>AA</td><td>AA</td><td>AA</td><td>AA</td><td>AA</td><td>AA</td><td>AA</td></tr>\n",
       "\t<tr><th scope=row>SNP83794</th><td>G/A</td><td>ST4.03ch12</td><td>GG</td><td>GG</td><td>GG</td><td>GG</td><td>GG</td><td>GG</td><td>GG</td><td>GG</td><td>⋯</td><td>GG</td><td>GG</td><td>GG</td><td>GG</td><td>GG</td><td>GG</td><td>GG</td><td>GG</td><td>GG</td><td>GG</td></tr>\n",
       "\t<tr><th scope=row>SNP83795</th><td>A/G</td><td>ST4.03ch12</td><td>AA</td><td>AA</td><td>AA</td><td>AA</td><td>AA</td><td>AA</td><td>AA</td><td>AA</td><td>⋯</td><td>AA</td><td>AA</td><td>GG</td><td>GG</td><td>AA</td><td>AA</td><td>AA</td><td>AA</td><td>AA</td><td>GG</td></tr>\n",
       "\t<tr><th scope=row>SNP83801</th><td>G/A</td><td>ST4.03ch12</td><td>GA</td><td>GA</td><td>GG</td><td>GA</td><td>GA</td><td>GG</td><td>GG</td><td>GG</td><td>⋯</td><td>GG</td><td>GG</td><td>GG</td><td>GG</td><td>GG</td><td>GG</td><td>GG</td><td>GA</td><td>GG</td><td>GG</td></tr>\n",
       "\t<tr><th scope=row>SNP83802</th><td>G/C</td><td>ST4.03ch12</td><td>GC</td><td>GG</td><td>GG</td><td>GC</td><td>GG</td><td>GG</td><td>GC</td><td>GG</td><td>⋯</td><td>GG</td><td>GG</td><td>GC</td><td>GC</td><td>GG</td><td>GG</td><td>GG</td><td>GG</td><td>GG</td><td>GG</td></tr>\n",
       "\t<tr><th scope=row>SNP83804</th><td>A/G</td><td>ST4.03ch12</td><td>AG</td><td>AG</td><td>AA</td><td>AG</td><td>AG</td><td>AA</td><td>AA</td><td>AA</td><td>⋯</td><td>AA</td><td>AA</td><td>AA</td><td>AA</td><td>AA</td><td>AA</td><td>AA</td><td>AG</td><td>AA</td><td>AA</td></tr>\n",
       "\t<tr><th scope=row>SNP83805</th><td>T/C</td><td>ST4.03ch12</td><td>TC</td><td>TT</td><td>TT</td><td>TC</td><td>TT</td><td>TT</td><td>TC</td><td>TT</td><td>⋯</td><td>TT</td><td>TT</td><td>TC</td><td>TC</td><td>TT</td><td>TT</td><td>TT</td><td>TT</td><td>TT</td><td>TT</td></tr>\n",
       "\t<tr><th scope=row>SNP83807</th><td>T/G</td><td>ST4.03ch12</td><td>TG</td><td>TG</td><td>TG</td><td>GG</td><td>TG</td><td>TT</td><td>TG</td><td>TT</td><td>⋯</td><td>TT</td><td>TT</td><td>TG</td><td>TG</td><td>TT</td><td>TT</td><td>TT</td><td>TG</td><td>TT</td><td>TT</td></tr>\n",
       "\t<tr><th scope=row>SNP83808</th><td>A/C</td><td>ST4.03ch12</td><td>AC</td><td>AA</td><td>AA</td><td>AC</td><td>AA</td><td>AA</td><td>AC</td><td>AA</td><td>⋯</td><td>AA</td><td>AA</td><td>AC</td><td>AC</td><td>AA</td><td>AA</td><td>AA</td><td>AA</td><td>AA</td><td>AA</td></tr>\n",
       "\t<tr><th scope=row>SNP83814</th><td>A/T</td><td>ST4.03ch12</td><td>AT</td><td>TT</td><td>AA</td><td>TT</td><td>AT</td><td>AA</td><td>AT</td><td>AA</td><td>⋯</td><td>AT</td><td>AA</td><td>AT</td><td>AT</td><td>AA</td><td>AA</td><td>AA</td><td>TT</td><td>AA</td><td>AA</td></tr>\n",
       "\t<tr><th scope=row>SNP83816</th><td>G/C</td><td>ST4.03ch12</td><td>GG</td><td>GG</td><td>GG</td><td>GG</td><td>CC</td><td>GG</td><td>GG</td><td>GG</td><td>⋯</td><td>GG</td><td>GG</td><td>GG</td><td>GG</td><td>GG</td><td>GG</td><td>GG</td><td>GG</td><td>GG</td><td>GG</td></tr>\n",
       "\t<tr><th scope=row>SNP83817</th><td>G/A</td><td>ST4.03ch12</td><td>GG</td><td>GG</td><td>GG</td><td>GG</td><td>AA</td><td>GG</td><td>GG</td><td>GG</td><td>⋯</td><td>GG</td><td>GG</td><td>GG</td><td>GG</td><td>GG</td><td>GG</td><td>GG</td><td>GG</td><td>GG</td><td>GG</td></tr>\n",
       "\t<tr><th scope=row>SNP83818</th><td>T/C</td><td>ST4.03ch12</td><td>TT</td><td>TT</td><td>TC</td><td>TT</td><td>TT</td><td>TT</td><td>TT</td><td>TT</td><td>⋯</td><td>TT</td><td>TT</td><td>TT</td><td>TT</td><td>TT</td><td>TT</td><td>TT</td><td>TT</td><td>TT</td><td>TT</td></tr>\n",
       "\t<tr><th scope=row>SNP83819</th><td>T/C</td><td>ST4.03ch12</td><td>TT</td><td>TT</td><td>TT</td><td>TT</td><td>TT</td><td>TT</td><td>TT</td><td>TT</td><td>⋯</td><td>TT</td><td>TT</td><td>TT</td><td>TT</td><td>TT</td><td>TT</td><td>TT</td><td>TT</td><td>TT</td><td>TT</td></tr>\n",
       "\t<tr><th scope=row>SNP83820</th><td>T/C</td><td>ST4.03ch12</td><td>TT</td><td>TT</td><td>TT</td><td>TT</td><td>TT</td><td>TT</td><td>TT</td><td>TT</td><td>⋯</td><td>TT</td><td>TT</td><td>TT</td><td>TT</td><td>TT</td><td>TT</td><td>TT</td><td>TT</td><td>TT</td><td>TT</td></tr>\n",
       "\t<tr><th scope=row>SNP83821</th><td>C/T</td><td>ST4.03ch12</td><td>TT</td><td>CC</td><td>CC</td><td>TT</td><td>TT</td><td>CC</td><td>TT</td><td>TT</td><td>⋯</td><td>CC</td><td>TT</td><td>TT</td><td>TT</td><td>TT</td><td>TT</td><td>CC</td><td>TT</td><td>CC</td><td>TT</td></tr>\n",
       "\t<tr><th scope=row>SNP83822</th><td>C/T</td><td>ST4.03ch12</td><td>TT</td><td>CC</td><td>CC</td><td>TT</td><td>TT</td><td>CC</td><td>TT</td><td>TT</td><td>⋯</td><td>CC</td><td>TT</td><td>CC</td><td>TT</td><td>TT</td><td>TT</td><td>CC</td><td>TT</td><td>CC</td><td>TT</td></tr>\n",
       "\t<tr><th scope=row>SNP83823</th><td>G/A</td><td>ST4.03ch12</td><td>AA</td><td>GG</td><td>GG</td><td>AA</td><td>AA</td><td>GG</td><td>AA</td><td>AA</td><td>⋯</td><td>GG</td><td>AA</td><td>AA</td><td>AA</td><td>AA</td><td>AA</td><td>GG</td><td>AA</td><td>GG</td><td>AA</td></tr>\n",
       "\t<tr><th scope=row>SNP83825</th><td>A/G</td><td>ST4.03ch12</td><td>AA</td><td>AA</td><td>AG</td><td>AA</td><td>AA</td><td>AA</td><td>AA</td><td>AA</td><td>⋯</td><td>AA</td><td>AG</td><td>AA</td><td>AA</td><td>AA</td><td>AA</td><td>AA</td><td>AA</td><td>AA</td><td>AA</td></tr>\n",
       "\t<tr><th scope=row>SNP83826</th><td>A/G</td><td>ST4.03ch12</td><td>AA</td><td>AA</td><td>AG</td><td>AA</td><td>AA</td><td>AA</td><td>AA</td><td>AA</td><td>⋯</td><td>AA</td><td>AG</td><td>AA</td><td>AA</td><td>AA</td><td>AA</td><td>AA</td><td>AA</td><td>AA</td><td>AA</td></tr>\n",
       "\t<tr><th scope=row>SNP83827</th><td>G/A</td><td>ST4.03ch12</td><td>GG</td><td>GG</td><td>GA</td><td>GG</td><td>GG</td><td>GG</td><td>GG</td><td>GG</td><td>⋯</td><td>GG</td><td>GA</td><td>GG</td><td>GG</td><td>GG</td><td>GG</td><td>GG</td><td>GG</td><td>GG</td><td>GG</td></tr>\n",
       "\t<tr><th scope=row>SNP83828</th><td>T/A</td><td>ST4.03ch12</td><td>TT</td><td>TT</td><td>TA</td><td>TT</td><td>TT</td><td>TT</td><td>TT</td><td>TT</td><td>⋯</td><td>TT</td><td>TA</td><td>TT</td><td>TT</td><td>TT</td><td>TT</td><td>TT</td><td>TT</td><td>TT</td><td>TT</td></tr>\n",
       "\t<tr><th scope=row>SNP83829</th><td>G/A</td><td>ST4.03ch12</td><td>GA</td><td>GG</td><td>GA</td><td>GA</td><td>GG</td><td>GA</td><td>GG</td><td>GG</td><td>⋯</td><td>GA</td><td>GG</td><td>GA</td><td>GA</td><td>GG</td><td>GA</td><td>GG</td><td>GA</td><td>GG</td><td>GG</td></tr>\n",
       "</tbody>\n",
       "</table>\n"
      ],
      "text/latex": [
       "A data.frame: 45849 × 152\n",
       "\\begin{tabular}{r|lllllllllllllllllllll}\n",
       "  & alleles & chrom & G1 & G2 & G3 & G4 & G5 & G6 & G7 & G8 & ⋯ & G141 & G142 & G143 & G144 & G145 & G146 & G147 & G148 & G149 & G150\\\\\n",
       "  & <chr> & <chr> & <chr> & <chr> & <chr> & <chr> & <chr> & <chr> & <chr> & <chr> & ⋯ & <chr> & <chr> & <chr> & <chr> & <chr> & <chr> & <chr> & <chr> & <chr> & <chr>\\\\\n",
       "\\hline\n",
       "\tSNP2 & A/G & ST4.03ch01 & AG & AG & AA & AA & AG & AA & AA & AA & ⋯ & AG & AA & AA & AA & AA & AA & AA & AA & AA & AA\\\\\n",
       "\tSNP4 & G/A & ST4.03ch01 & GA & GA & GG & GG & GA & GG & GG & GG & ⋯ & GA & GG & GG & GG & GG & GG & GG & GG & GG & GG\\\\\n",
       "\tSNP5 & C/T & ST4.03ch01 & CT & CT & TT & CT & CT & TT & TT & TT & ⋯ & CT & TT & TT & TT & TT & TT & TT & TT & CT & TT\\\\\n",
       "\tSNP6 & G/A & ST4.03ch01 & GG & GG & GG & GG & GG & GG & GG & GG & ⋯ & GG & GG & GG & GG & GG & GG & GG & GG & GA & GG\\\\\n",
       "\tSNP7 & A/G & ST4.03ch01 & AA & NN & AG & AA & AG & AA & AA & AA & ⋯ & AA & AA & AA & AA & AA & AA & AA & AA & AA & AA\\\\\n",
       "\tSNP17 & G/A & ST4.03ch01 & GA & GA & AA & GA & GA & AA & AA & AA & ⋯ & AA & GA & NN & AA & AA & AA & AA & AA & GA & GA\\\\\n",
       "\tSNP22 & G/A & ST4.03ch01 & GA & GA & GA & GA & GA & GG & GA & GG & ⋯ & GA & GA & GG & GA & NN & GA & GA & GA & GA & GA\\\\\n",
       "\tSNP25 & C/T & ST4.03ch01 & CC & CC & CT & CT & CC & CC & CC & CC & ⋯ & CT & CC & CC & CC & CC & CC & CC & CC & CC & CC\\\\\n",
       "\tSNP28 & G/A & ST4.03ch01 & NN & NN & GG & GG & NN & GA & GA & GA & ⋯ & GG & GG & GA & GA & GG & GA & GA & GA & GG & GA\\\\\n",
       "\tSNP29 & C/T & ST4.03ch01 & CT & CT & CC & CC & CT & CT & CT & CT & ⋯ & CT & CT & CT & CC & CT & CC & CC & CC & CC & CT\\\\\n",
       "\tSNP30 & G/A & ST4.03ch01 & GA & GA & GG & GA & GA & GA & GA & GA & ⋯ & GA & GA & GA & GG & GA & GG & GG & GG & GG & GG\\\\\n",
       "\tSNP38 & C/T & ST4.03ch01 & CT & CT & CC & CC & CT & CT & CT & CT & ⋯ & CT & CT & NN & CT & CC & CT & CT & CC & CT & CC\\\\\n",
       "\tSNP39 & G/A & ST4.03ch01 & GA & GA & GG & GG & GA & GA & GA & GA & ⋯ & GA & GA & GA & GG & GA & GG & GG & GG & GG & GG\\\\\n",
       "\tSNP44 & A/T & ST4.03ch01 & AT & AT & TT & AT & AT & AT & AT & AT & ⋯ & AT & AT & AT & AT & AT & AT & AT & AT & AT & AT\\\\\n",
       "\tSNP45 & T/C & ST4.03ch01 & TT & TT & NN & TT & TT & TT & TT & TT & ⋯ & TT & TC & TT & TT & TT & TT & TT & TT & TC & TT\\\\\n",
       "\tSNP46 & T/C & ST4.03ch01 & TT & TT & NN & TT & TT & TT & TT & TT & ⋯ & TT & TC & TT & TT & TT & TT & TT & TT & TC & TT\\\\\n",
       "\tSNP47 & C/T & ST4.03ch01 & CC & CC & NN & CC & CC & CC & CC & CC & ⋯ & CC & CT & CC & CC & CC & CC & CC & CC & CT & CC\\\\\n",
       "\tSNP51 & A/G & ST4.03ch01 & AG & AG & AG & AG & AG & AA & AA & AA & ⋯ & AA & AG & AG & AG & AG & AG & AG & AG & AA & AA\\\\\n",
       "\tSNP52 & G/C & ST4.03ch01 & GC & GC & GG & GC & GC & GC & GC & GC & ⋯ & GG & GG & GC & GG & GC & GG & GG & GG & GC & GC\\\\\n",
       "\tSNP54 & C/A & ST4.03ch01 & CC & CC & CC & CC & CC & CC & CC & CC & ⋯ & CC & NN & CC & CC & CC & CC & CC & CC & CC & CC\\\\\n",
       "\tSNP58 & C/T & ST4.03ch01 & CC & NN & CT & CT & CC & CC & CC & CC & ⋯ & CC & CC & CT & CT & CT & CT & CT & CT & CC & CC\\\\\n",
       "\tSNP59 & C/T & ST4.03ch01 & CC & CC & CC & CC & CC & CC & CC & CC & ⋯ & CC & CT & CC & CC & CC & CC & CC & CC & CC & CC\\\\\n",
       "\tSNP61 & T/C & ST4.03ch01 & TC & TC & CC & TC & TC & CC & CC & CC & ⋯ & TC & CC & CC & CC & CC & CC & CC & CC & TT & CC\\\\\n",
       "\tSNP62 & T/C & ST4.03ch01 & TT & TT & TT & TT & TT & TT & TT & TT & ⋯ & TT & TT & TT & TT & TT & TT & TT & TT & TC & TT\\\\\n",
       "\tSNP66 & A/G & ST4.03ch01 & NN & AG & NN & AA & AA & AG & AG & AG & ⋯ & AA & AA & AG & AA & AG & AA & AA & AA & AA & AA\\\\\n",
       "\tSNP70 & C/T & ST4.03ch01 & CT & CT & CC & CT & CT & CC & CC & CC & ⋯ & CC & CT & CT & CT & CT & CT & CT & TT & CC & CT\\\\\n",
       "\tSNP74 & T/G & ST4.03ch01 & TG & TG & TT & TT & TG & TT & TT & TT & ⋯ & TG & TT & TT & TT & TT & TT & TT & TT & TG & TT\\\\\n",
       "\tSNP81 & T/C & ST4.03ch01 & TT & TT & TT & TT & TT & TT & TT & TT & ⋯ & TT & TT & TT & TT & TT & TT & TT & TT & TC & TT\\\\\n",
       "\tSNP82 & G/A & ST4.03ch01 & GA & GA & GG & GA & GA & GG & GG & GG & ⋯ & GG & GA & GA & GA & GA & GA & GA & AA & GG & GA\\\\\n",
       "\tSNP84 & C/T & ST4.03ch01 & CC & CC & CC & CC & CC & CC & CC & CC & ⋯ & CC & CT & CC & CC & CC & CC & CC & CC & CC & CC\\\\\n",
       "\t⋮ & ⋮ & ⋮ & ⋮ & ⋮ & ⋮ & ⋮ & ⋮ & ⋮ & ⋮ & ⋮ & ⋱ & ⋮ & ⋮ & ⋮ & ⋮ & ⋮ & ⋮ & ⋮ & ⋮ & ⋮ & ⋮\\\\\n",
       "\tSNP83781 & T/C & ST4.03ch12 & TC & CC & TT & CC & TC & TT & TC & TT & ⋯ & TC & TT & TC & TC & TT & TT & TT & TC & TT & TT\\\\\n",
       "\tSNP83783 & T/A & ST4.03ch12 & TA & AA & TA & AA & TA & TT & TA & TT & ⋯ & TA & TA & TA & TA & TT & TT & TT & TA & TT & TT\\\\\n",
       "\tSNP83784 & A/T & ST4.03ch12 & AA & AA & AT & AT & AT & AA & AA & AA & ⋯ & AA & AA & AA & AA & AA & AA & AA & AA & AA & AA\\\\\n",
       "\tSNP83785 & G/C & ST4.03ch12 & GG & GG & GC & GC & GC & GG & GG & GG & ⋯ & GG & GG & GG & GG & GG & GG & GG & GG & GG & GG\\\\\n",
       "\tSNP83787 & T/G & ST4.03ch12 & TT & TT & TG & TG & TG & TT & TT & TT & ⋯ & TT & TT & TT & TT & TT & TT & TT & TT & TT & TT\\\\\n",
       "\tSNP83788 & G/T & ST4.03ch12 & GT & TT & GT & TT & GT & GG & GT & GG & ⋯ & GT & GT & GT & GT & GG & GG & GG & GT & GG & GG\\\\\n",
       "\tSNP83790 & T/G & ST4.03ch12 & TG & GG & TG & GG & TG & TT & TG & TT & ⋯ & TG & TG & TG & TG & TT & TT & TT & TG & TT & TT\\\\\n",
       "\tSNP83791 & A/G & ST4.03ch12 & AG & AA & AA & AA & AG & AA & AA & AA & ⋯ & AG & AA & AA & AA & AA & AA & AA & AA & AA & AA\\\\\n",
       "\tSNP83794 & G/A & ST4.03ch12 & GG & GG & GG & GG & GG & GG & GG & GG & ⋯ & GG & GG & GG & GG & GG & GG & GG & GG & GG & GG\\\\\n",
       "\tSNP83795 & A/G & ST4.03ch12 & AA & AA & AA & AA & AA & AA & AA & AA & ⋯ & AA & AA & GG & GG & AA & AA & AA & AA & AA & GG\\\\\n",
       "\tSNP83801 & G/A & ST4.03ch12 & GA & GA & GG & GA & GA & GG & GG & GG & ⋯ & GG & GG & GG & GG & GG & GG & GG & GA & GG & GG\\\\\n",
       "\tSNP83802 & G/C & ST4.03ch12 & GC & GG & GG & GC & GG & GG & GC & GG & ⋯ & GG & GG & GC & GC & GG & GG & GG & GG & GG & GG\\\\\n",
       "\tSNP83804 & A/G & ST4.03ch12 & AG & AG & AA & AG & AG & AA & AA & AA & ⋯ & AA & AA & AA & AA & AA & AA & AA & AG & AA & AA\\\\\n",
       "\tSNP83805 & T/C & ST4.03ch12 & TC & TT & TT & TC & TT & TT & TC & TT & ⋯ & TT & TT & TC & TC & TT & TT & TT & TT & TT & TT\\\\\n",
       "\tSNP83807 & T/G & ST4.03ch12 & TG & TG & TG & GG & TG & TT & TG & TT & ⋯ & TT & TT & TG & TG & TT & TT & TT & TG & TT & TT\\\\\n",
       "\tSNP83808 & A/C & ST4.03ch12 & AC & AA & AA & AC & AA & AA & AC & AA & ⋯ & AA & AA & AC & AC & AA & AA & AA & AA & AA & AA\\\\\n",
       "\tSNP83814 & A/T & ST4.03ch12 & AT & TT & AA & TT & AT & AA & AT & AA & ⋯ & AT & AA & AT & AT & AA & AA & AA & TT & AA & AA\\\\\n",
       "\tSNP83816 & G/C & ST4.03ch12 & GG & GG & GG & GG & CC & GG & GG & GG & ⋯ & GG & GG & GG & GG & GG & GG & GG & GG & GG & GG\\\\\n",
       "\tSNP83817 & G/A & ST4.03ch12 & GG & GG & GG & GG & AA & GG & GG & GG & ⋯ & GG & GG & GG & GG & GG & GG & GG & GG & GG & GG\\\\\n",
       "\tSNP83818 & T/C & ST4.03ch12 & TT & TT & TC & TT & TT & TT & TT & TT & ⋯ & TT & TT & TT & TT & TT & TT & TT & TT & TT & TT\\\\\n",
       "\tSNP83819 & T/C & ST4.03ch12 & TT & TT & TT & TT & TT & TT & TT & TT & ⋯ & TT & TT & TT & TT & TT & TT & TT & TT & TT & TT\\\\\n",
       "\tSNP83820 & T/C & ST4.03ch12 & TT & TT & TT & TT & TT & TT & TT & TT & ⋯ & TT & TT & TT & TT & TT & TT & TT & TT & TT & TT\\\\\n",
       "\tSNP83821 & C/T & ST4.03ch12 & TT & CC & CC & TT & TT & CC & TT & TT & ⋯ & CC & TT & TT & TT & TT & TT & CC & TT & CC & TT\\\\\n",
       "\tSNP83822 & C/T & ST4.03ch12 & TT & CC & CC & TT & TT & CC & TT & TT & ⋯ & CC & TT & CC & TT & TT & TT & CC & TT & CC & TT\\\\\n",
       "\tSNP83823 & G/A & ST4.03ch12 & AA & GG & GG & AA & AA & GG & AA & AA & ⋯ & GG & AA & AA & AA & AA & AA & GG & AA & GG & AA\\\\\n",
       "\tSNP83825 & A/G & ST4.03ch12 & AA & AA & AG & AA & AA & AA & AA & AA & ⋯ & AA & AG & AA & AA & AA & AA & AA & AA & AA & AA\\\\\n",
       "\tSNP83826 & A/G & ST4.03ch12 & AA & AA & AG & AA & AA & AA & AA & AA & ⋯ & AA & AG & AA & AA & AA & AA & AA & AA & AA & AA\\\\\n",
       "\tSNP83827 & G/A & ST4.03ch12 & GG & GG & GA & GG & GG & GG & GG & GG & ⋯ & GG & GA & GG & GG & GG & GG & GG & GG & GG & GG\\\\\n",
       "\tSNP83828 & T/A & ST4.03ch12 & TT & TT & TA & TT & TT & TT & TT & TT & ⋯ & TT & TA & TT & TT & TT & TT & TT & TT & TT & TT\\\\\n",
       "\tSNP83829 & G/A & ST4.03ch12 & GA & GG & GA & GA & GG & GA & GG & GG & ⋯ & GA & GG & GA & GA & GG & GA & GG & GA & GG & GG\\\\\n",
       "\\end{tabular}\n"
      ],
      "text/markdown": [
       "\n",
       "A data.frame: 45849 × 152\n",
       "\n",
       "| <!--/--> | alleles &lt;chr&gt; | chrom &lt;chr&gt; | G1 &lt;chr&gt; | G2 &lt;chr&gt; | G3 &lt;chr&gt; | G4 &lt;chr&gt; | G5 &lt;chr&gt; | G6 &lt;chr&gt; | G7 &lt;chr&gt; | G8 &lt;chr&gt; | ⋯ ⋯ | G141 &lt;chr&gt; | G142 &lt;chr&gt; | G143 &lt;chr&gt; | G144 &lt;chr&gt; | G145 &lt;chr&gt; | G146 &lt;chr&gt; | G147 &lt;chr&gt; | G148 &lt;chr&gt; | G149 &lt;chr&gt; | G150 &lt;chr&gt; |\n",
       "|---|---|---|---|---|---|---|---|---|---|---|---|---|---|---|---|---|---|---|---|---|---|\n",
       "| SNP2 | A/G | ST4.03ch01 | AG | AG | AA | AA | AG | AA | AA | AA | ⋯ | AG | AA | AA | AA | AA | AA | AA | AA | AA | AA |\n",
       "| SNP4 | G/A | ST4.03ch01 | GA | GA | GG | GG | GA | GG | GG | GG | ⋯ | GA | GG | GG | GG | GG | GG | GG | GG | GG | GG |\n",
       "| SNP5 | C/T | ST4.03ch01 | CT | CT | TT | CT | CT | TT | TT | TT | ⋯ | CT | TT | TT | TT | TT | TT | TT | TT | CT | TT |\n",
       "| SNP6 | G/A | ST4.03ch01 | GG | GG | GG | GG | GG | GG | GG | GG | ⋯ | GG | GG | GG | GG | GG | GG | GG | GG | GA | GG |\n",
       "| SNP7 | A/G | ST4.03ch01 | AA | NN | AG | AA | AG | AA | AA | AA | ⋯ | AA | AA | AA | AA | AA | AA | AA | AA | AA | AA |\n",
       "| SNP17 | G/A | ST4.03ch01 | GA | GA | AA | GA | GA | AA | AA | AA | ⋯ | AA | GA | NN | AA | AA | AA | AA | AA | GA | GA |\n",
       "| SNP22 | G/A | ST4.03ch01 | GA | GA | GA | GA | GA | GG | GA | GG | ⋯ | GA | GA | GG | GA | NN | GA | GA | GA | GA | GA |\n",
       "| SNP25 | C/T | ST4.03ch01 | CC | CC | CT | CT | CC | CC | CC | CC | ⋯ | CT | CC | CC | CC | CC | CC | CC | CC | CC | CC |\n",
       "| SNP28 | G/A | ST4.03ch01 | NN | NN | GG | GG | NN | GA | GA | GA | ⋯ | GG | GG | GA | GA | GG | GA | GA | GA | GG | GA |\n",
       "| SNP29 | C/T | ST4.03ch01 | CT | CT | CC | CC | CT | CT | CT | CT | ⋯ | CT | CT | CT | CC | CT | CC | CC | CC | CC | CT |\n",
       "| SNP30 | G/A | ST4.03ch01 | GA | GA | GG | GA | GA | GA | GA | GA | ⋯ | GA | GA | GA | GG | GA | GG | GG | GG | GG | GG |\n",
       "| SNP38 | C/T | ST4.03ch01 | CT | CT | CC | CC | CT | CT | CT | CT | ⋯ | CT | CT | NN | CT | CC | CT | CT | CC | CT | CC |\n",
       "| SNP39 | G/A | ST4.03ch01 | GA | GA | GG | GG | GA | GA | GA | GA | ⋯ | GA | GA | GA | GG | GA | GG | GG | GG | GG | GG |\n",
       "| SNP44 | A/T | ST4.03ch01 | AT | AT | TT | AT | AT | AT | AT | AT | ⋯ | AT | AT | AT | AT | AT | AT | AT | AT | AT | AT |\n",
       "| SNP45 | T/C | ST4.03ch01 | TT | TT | NN | TT | TT | TT | TT | TT | ⋯ | TT | TC | TT | TT | TT | TT | TT | TT | TC | TT |\n",
       "| SNP46 | T/C | ST4.03ch01 | TT | TT | NN | TT | TT | TT | TT | TT | ⋯ | TT | TC | TT | TT | TT | TT | TT | TT | TC | TT |\n",
       "| SNP47 | C/T | ST4.03ch01 | CC | CC | NN | CC | CC | CC | CC | CC | ⋯ | CC | CT | CC | CC | CC | CC | CC | CC | CT | CC |\n",
       "| SNP51 | A/G | ST4.03ch01 | AG | AG | AG | AG | AG | AA | AA | AA | ⋯ | AA | AG | AG | AG | AG | AG | AG | AG | AA | AA |\n",
       "| SNP52 | G/C | ST4.03ch01 | GC | GC | GG | GC | GC | GC | GC | GC | ⋯ | GG | GG | GC | GG | GC | GG | GG | GG | GC | GC |\n",
       "| SNP54 | C/A | ST4.03ch01 | CC | CC | CC | CC | CC | CC | CC | CC | ⋯ | CC | NN | CC | CC | CC | CC | CC | CC | CC | CC |\n",
       "| SNP58 | C/T | ST4.03ch01 | CC | NN | CT | CT | CC | CC | CC | CC | ⋯ | CC | CC | CT | CT | CT | CT | CT | CT | CC | CC |\n",
       "| SNP59 | C/T | ST4.03ch01 | CC | CC | CC | CC | CC | CC | CC | CC | ⋯ | CC | CT | CC | CC | CC | CC | CC | CC | CC | CC |\n",
       "| SNP61 | T/C | ST4.03ch01 | TC | TC | CC | TC | TC | CC | CC | CC | ⋯ | TC | CC | CC | CC | CC | CC | CC | CC | TT | CC |\n",
       "| SNP62 | T/C | ST4.03ch01 | TT | TT | TT | TT | TT | TT | TT | TT | ⋯ | TT | TT | TT | TT | TT | TT | TT | TT | TC | TT |\n",
       "| SNP66 | A/G | ST4.03ch01 | NN | AG | NN | AA | AA | AG | AG | AG | ⋯ | AA | AA | AG | AA | AG | AA | AA | AA | AA | AA |\n",
       "| SNP70 | C/T | ST4.03ch01 | CT | CT | CC | CT | CT | CC | CC | CC | ⋯ | CC | CT | CT | CT | CT | CT | CT | TT | CC | CT |\n",
       "| SNP74 | T/G | ST4.03ch01 | TG | TG | TT | TT | TG | TT | TT | TT | ⋯ | TG | TT | TT | TT | TT | TT | TT | TT | TG | TT |\n",
       "| SNP81 | T/C | ST4.03ch01 | TT | TT | TT | TT | TT | TT | TT | TT | ⋯ | TT | TT | TT | TT | TT | TT | TT | TT | TC | TT |\n",
       "| SNP82 | G/A | ST4.03ch01 | GA | GA | GG | GA | GA | GG | GG | GG | ⋯ | GG | GA | GA | GA | GA | GA | GA | AA | GG | GA |\n",
       "| SNP84 | C/T | ST4.03ch01 | CC | CC | CC | CC | CC | CC | CC | CC | ⋯ | CC | CT | CC | CC | CC | CC | CC | CC | CC | CC |\n",
       "| ⋮ | ⋮ | ⋮ | ⋮ | ⋮ | ⋮ | ⋮ | ⋮ | ⋮ | ⋮ | ⋮ | ⋱ | ⋮ | ⋮ | ⋮ | ⋮ | ⋮ | ⋮ | ⋮ | ⋮ | ⋮ | ⋮ |\n",
       "| SNP83781 | T/C | ST4.03ch12 | TC | CC | TT | CC | TC | TT | TC | TT | ⋯ | TC | TT | TC | TC | TT | TT | TT | TC | TT | TT |\n",
       "| SNP83783 | T/A | ST4.03ch12 | TA | AA | TA | AA | TA | TT | TA | TT | ⋯ | TA | TA | TA | TA | TT | TT | TT | TA | TT | TT |\n",
       "| SNP83784 | A/T | ST4.03ch12 | AA | AA | AT | AT | AT | AA | AA | AA | ⋯ | AA | AA | AA | AA | AA | AA | AA | AA | AA | AA |\n",
       "| SNP83785 | G/C | ST4.03ch12 | GG | GG | GC | GC | GC | GG | GG | GG | ⋯ | GG | GG | GG | GG | GG | GG | GG | GG | GG | GG |\n",
       "| SNP83787 | T/G | ST4.03ch12 | TT | TT | TG | TG | TG | TT | TT | TT | ⋯ | TT | TT | TT | TT | TT | TT | TT | TT | TT | TT |\n",
       "| SNP83788 | G/T | ST4.03ch12 | GT | TT | GT | TT | GT | GG | GT | GG | ⋯ | GT | GT | GT | GT | GG | GG | GG | GT | GG | GG |\n",
       "| SNP83790 | T/G | ST4.03ch12 | TG | GG | TG | GG | TG | TT | TG | TT | ⋯ | TG | TG | TG | TG | TT | TT | TT | TG | TT | TT |\n",
       "| SNP83791 | A/G | ST4.03ch12 | AG | AA | AA | AA | AG | AA | AA | AA | ⋯ | AG | AA | AA | AA | AA | AA | AA | AA | AA | AA |\n",
       "| SNP83794 | G/A | ST4.03ch12 | GG | GG | GG | GG | GG | GG | GG | GG | ⋯ | GG | GG | GG | GG | GG | GG | GG | GG | GG | GG |\n",
       "| SNP83795 | A/G | ST4.03ch12 | AA | AA | AA | AA | AA | AA | AA | AA | ⋯ | AA | AA | GG | GG | AA | AA | AA | AA | AA | GG |\n",
       "| SNP83801 | G/A | ST4.03ch12 | GA | GA | GG | GA | GA | GG | GG | GG | ⋯ | GG | GG | GG | GG | GG | GG | GG | GA | GG | GG |\n",
       "| SNP83802 | G/C | ST4.03ch12 | GC | GG | GG | GC | GG | GG | GC | GG | ⋯ | GG | GG | GC | GC | GG | GG | GG | GG | GG | GG |\n",
       "| SNP83804 | A/G | ST4.03ch12 | AG | AG | AA | AG | AG | AA | AA | AA | ⋯ | AA | AA | AA | AA | AA | AA | AA | AG | AA | AA |\n",
       "| SNP83805 | T/C | ST4.03ch12 | TC | TT | TT | TC | TT | TT | TC | TT | ⋯ | TT | TT | TC | TC | TT | TT | TT | TT | TT | TT |\n",
       "| SNP83807 | T/G | ST4.03ch12 | TG | TG | TG | GG | TG | TT | TG | TT | ⋯ | TT | TT | TG | TG | TT | TT | TT | TG | TT | TT |\n",
       "| SNP83808 | A/C | ST4.03ch12 | AC | AA | AA | AC | AA | AA | AC | AA | ⋯ | AA | AA | AC | AC | AA | AA | AA | AA | AA | AA |\n",
       "| SNP83814 | A/T | ST4.03ch12 | AT | TT | AA | TT | AT | AA | AT | AA | ⋯ | AT | AA | AT | AT | AA | AA | AA | TT | AA | AA |\n",
       "| SNP83816 | G/C | ST4.03ch12 | GG | GG | GG | GG | CC | GG | GG | GG | ⋯ | GG | GG | GG | GG | GG | GG | GG | GG | GG | GG |\n",
       "| SNP83817 | G/A | ST4.03ch12 | GG | GG | GG | GG | AA | GG | GG | GG | ⋯ | GG | GG | GG | GG | GG | GG | GG | GG | GG | GG |\n",
       "| SNP83818 | T/C | ST4.03ch12 | TT | TT | TC | TT | TT | TT | TT | TT | ⋯ | TT | TT | TT | TT | TT | TT | TT | TT | TT | TT |\n",
       "| SNP83819 | T/C | ST4.03ch12 | TT | TT | TT | TT | TT | TT | TT | TT | ⋯ | TT | TT | TT | TT | TT | TT | TT | TT | TT | TT |\n",
       "| SNP83820 | T/C | ST4.03ch12 | TT | TT | TT | TT | TT | TT | TT | TT | ⋯ | TT | TT | TT | TT | TT | TT | TT | TT | TT | TT |\n",
       "| SNP83821 | C/T | ST4.03ch12 | TT | CC | CC | TT | TT | CC | TT | TT | ⋯ | CC | TT | TT | TT | TT | TT | CC | TT | CC | TT |\n",
       "| SNP83822 | C/T | ST4.03ch12 | TT | CC | CC | TT | TT | CC | TT | TT | ⋯ | CC | TT | CC | TT | TT | TT | CC | TT | CC | TT |\n",
       "| SNP83823 | G/A | ST4.03ch12 | AA | GG | GG | AA | AA | GG | AA | AA | ⋯ | GG | AA | AA | AA | AA | AA | GG | AA | GG | AA |\n",
       "| SNP83825 | A/G | ST4.03ch12 | AA | AA | AG | AA | AA | AA | AA | AA | ⋯ | AA | AG | AA | AA | AA | AA | AA | AA | AA | AA |\n",
       "| SNP83826 | A/G | ST4.03ch12 | AA | AA | AG | AA | AA | AA | AA | AA | ⋯ | AA | AG | AA | AA | AA | AA | AA | AA | AA | AA |\n",
       "| SNP83827 | G/A | ST4.03ch12 | GG | GG | GA | GG | GG | GG | GG | GG | ⋯ | GG | GA | GG | GG | GG | GG | GG | GG | GG | GG |\n",
       "| SNP83828 | T/A | ST4.03ch12 | TT | TT | TA | TT | TT | TT | TT | TT | ⋯ | TT | TA | TT | TT | TT | TT | TT | TT | TT | TT |\n",
       "| SNP83829 | G/A | ST4.03ch12 | GA | GG | GA | GA | GG | GA | GG | GG | ⋯ | GA | GG | GA | GA | GG | GA | GG | GA | GG | GG |\n",
       "\n"
      ],
      "text/plain": [
       "         alleles chrom      G1 G2 G3 G4 G5 G6 G7 G8 ⋯ G141 G142 G143 G144 G145\n",
       "SNP2     A/G     ST4.03ch01 AG AG AA AA AG AA AA AA ⋯ AG   AA   AA   AA   AA  \n",
       "SNP4     G/A     ST4.03ch01 GA GA GG GG GA GG GG GG ⋯ GA   GG   GG   GG   GG  \n",
       "SNP5     C/T     ST4.03ch01 CT CT TT CT CT TT TT TT ⋯ CT   TT   TT   TT   TT  \n",
       "SNP6     G/A     ST4.03ch01 GG GG GG GG GG GG GG GG ⋯ GG   GG   GG   GG   GG  \n",
       "SNP7     A/G     ST4.03ch01 AA NN AG AA AG AA AA AA ⋯ AA   AA   AA   AA   AA  \n",
       "SNP17    G/A     ST4.03ch01 GA GA AA GA GA AA AA AA ⋯ AA   GA   NN   AA   AA  \n",
       "SNP22    G/A     ST4.03ch01 GA GA GA GA GA GG GA GG ⋯ GA   GA   GG   GA   NN  \n",
       "SNP25    C/T     ST4.03ch01 CC CC CT CT CC CC CC CC ⋯ CT   CC   CC   CC   CC  \n",
       "SNP28    G/A     ST4.03ch01 NN NN GG GG NN GA GA GA ⋯ GG   GG   GA   GA   GG  \n",
       "SNP29    C/T     ST4.03ch01 CT CT CC CC CT CT CT CT ⋯ CT   CT   CT   CC   CT  \n",
       "SNP30    G/A     ST4.03ch01 GA GA GG GA GA GA GA GA ⋯ GA   GA   GA   GG   GA  \n",
       "SNP38    C/T     ST4.03ch01 CT CT CC CC CT CT CT CT ⋯ CT   CT   NN   CT   CC  \n",
       "SNP39    G/A     ST4.03ch01 GA GA GG GG GA GA GA GA ⋯ GA   GA   GA   GG   GA  \n",
       "SNP44    A/T     ST4.03ch01 AT AT TT AT AT AT AT AT ⋯ AT   AT   AT   AT   AT  \n",
       "SNP45    T/C     ST4.03ch01 TT TT NN TT TT TT TT TT ⋯ TT   TC   TT   TT   TT  \n",
       "SNP46    T/C     ST4.03ch01 TT TT NN TT TT TT TT TT ⋯ TT   TC   TT   TT   TT  \n",
       "SNP47    C/T     ST4.03ch01 CC CC NN CC CC CC CC CC ⋯ CC   CT   CC   CC   CC  \n",
       "SNP51    A/G     ST4.03ch01 AG AG AG AG AG AA AA AA ⋯ AA   AG   AG   AG   AG  \n",
       "SNP52    G/C     ST4.03ch01 GC GC GG GC GC GC GC GC ⋯ GG   GG   GC   GG   GC  \n",
       "SNP54    C/A     ST4.03ch01 CC CC CC CC CC CC CC CC ⋯ CC   NN   CC   CC   CC  \n",
       "SNP58    C/T     ST4.03ch01 CC NN CT CT CC CC CC CC ⋯ CC   CC   CT   CT   CT  \n",
       "SNP59    C/T     ST4.03ch01 CC CC CC CC CC CC CC CC ⋯ CC   CT   CC   CC   CC  \n",
       "SNP61    T/C     ST4.03ch01 TC TC CC TC TC CC CC CC ⋯ TC   CC   CC   CC   CC  \n",
       "SNP62    T/C     ST4.03ch01 TT TT TT TT TT TT TT TT ⋯ TT   TT   TT   TT   TT  \n",
       "SNP66    A/G     ST4.03ch01 NN AG NN AA AA AG AG AG ⋯ AA   AA   AG   AA   AG  \n",
       "SNP70    C/T     ST4.03ch01 CT CT CC CT CT CC CC CC ⋯ CC   CT   CT   CT   CT  \n",
       "SNP74    T/G     ST4.03ch01 TG TG TT TT TG TT TT TT ⋯ TG   TT   TT   TT   TT  \n",
       "SNP81    T/C     ST4.03ch01 TT TT TT TT TT TT TT TT ⋯ TT   TT   TT   TT   TT  \n",
       "SNP82    G/A     ST4.03ch01 GA GA GG GA GA GG GG GG ⋯ GG   GA   GA   GA   GA  \n",
       "SNP84    C/T     ST4.03ch01 CC CC CC CC CC CC CC CC ⋯ CC   CT   CC   CC   CC  \n",
       "⋮        ⋮       ⋮          ⋮  ⋮  ⋮  ⋮  ⋮  ⋮  ⋮  ⋮  ⋱ ⋮    ⋮    ⋮    ⋮    ⋮   \n",
       "SNP83781 T/C     ST4.03ch12 TC CC TT CC TC TT TC TT ⋯ TC   TT   TC   TC   TT  \n",
       "SNP83783 T/A     ST4.03ch12 TA AA TA AA TA TT TA TT ⋯ TA   TA   TA   TA   TT  \n",
       "SNP83784 A/T     ST4.03ch12 AA AA AT AT AT AA AA AA ⋯ AA   AA   AA   AA   AA  \n",
       "SNP83785 G/C     ST4.03ch12 GG GG GC GC GC GG GG GG ⋯ GG   GG   GG   GG   GG  \n",
       "SNP83787 T/G     ST4.03ch12 TT TT TG TG TG TT TT TT ⋯ TT   TT   TT   TT   TT  \n",
       "SNP83788 G/T     ST4.03ch12 GT TT GT TT GT GG GT GG ⋯ GT   GT   GT   GT   GG  \n",
       "SNP83790 T/G     ST4.03ch12 TG GG TG GG TG TT TG TT ⋯ TG   TG   TG   TG   TT  \n",
       "SNP83791 A/G     ST4.03ch12 AG AA AA AA AG AA AA AA ⋯ AG   AA   AA   AA   AA  \n",
       "SNP83794 G/A     ST4.03ch12 GG GG GG GG GG GG GG GG ⋯ GG   GG   GG   GG   GG  \n",
       "SNP83795 A/G     ST4.03ch12 AA AA AA AA AA AA AA AA ⋯ AA   AA   GG   GG   AA  \n",
       "SNP83801 G/A     ST4.03ch12 GA GA GG GA GA GG GG GG ⋯ GG   GG   GG   GG   GG  \n",
       "SNP83802 G/C     ST4.03ch12 GC GG GG GC GG GG GC GG ⋯ GG   GG   GC   GC   GG  \n",
       "SNP83804 A/G     ST4.03ch12 AG AG AA AG AG AA AA AA ⋯ AA   AA   AA   AA   AA  \n",
       "SNP83805 T/C     ST4.03ch12 TC TT TT TC TT TT TC TT ⋯ TT   TT   TC   TC   TT  \n",
       "SNP83807 T/G     ST4.03ch12 TG TG TG GG TG TT TG TT ⋯ TT   TT   TG   TG   TT  \n",
       "SNP83808 A/C     ST4.03ch12 AC AA AA AC AA AA AC AA ⋯ AA   AA   AC   AC   AA  \n",
       "SNP83814 A/T     ST4.03ch12 AT TT AA TT AT AA AT AA ⋯ AT   AA   AT   AT   AA  \n",
       "SNP83816 G/C     ST4.03ch12 GG GG GG GG CC GG GG GG ⋯ GG   GG   GG   GG   GG  \n",
       "SNP83817 G/A     ST4.03ch12 GG GG GG GG AA GG GG GG ⋯ GG   GG   GG   GG   GG  \n",
       "SNP83818 T/C     ST4.03ch12 TT TT TC TT TT TT TT TT ⋯ TT   TT   TT   TT   TT  \n",
       "SNP83819 T/C     ST4.03ch12 TT TT TT TT TT TT TT TT ⋯ TT   TT   TT   TT   TT  \n",
       "SNP83820 T/C     ST4.03ch12 TT TT TT TT TT TT TT TT ⋯ TT   TT   TT   TT   TT  \n",
       "SNP83821 C/T     ST4.03ch12 TT CC CC TT TT CC TT TT ⋯ CC   TT   TT   TT   TT  \n",
       "SNP83822 C/T     ST4.03ch12 TT CC CC TT TT CC TT TT ⋯ CC   TT   CC   TT   TT  \n",
       "SNP83823 G/A     ST4.03ch12 AA GG GG AA AA GG AA AA ⋯ GG   AA   AA   AA   AA  \n",
       "SNP83825 A/G     ST4.03ch12 AA AA AG AA AA AA AA AA ⋯ AA   AG   AA   AA   AA  \n",
       "SNP83826 A/G     ST4.03ch12 AA AA AG AA AA AA AA AA ⋯ AA   AG   AA   AA   AA  \n",
       "SNP83827 G/A     ST4.03ch12 GG GG GA GG GG GG GG GG ⋯ GG   GA   GG   GG   GG  \n",
       "SNP83828 T/A     ST4.03ch12 TT TT TA TT TT TT TT TT ⋯ TT   TA   TT   TT   TT  \n",
       "SNP83829 G/A     ST4.03ch12 GA GG GA GA GG GA GG GG ⋯ GA   GG   GA   GA   GG  \n",
       "         G146 G147 G148 G149 G150\n",
       "SNP2     AA   AA   AA   AA   AA  \n",
       "SNP4     GG   GG   GG   GG   GG  \n",
       "SNP5     TT   TT   TT   CT   TT  \n",
       "SNP6     GG   GG   GG   GA   GG  \n",
       "SNP7     AA   AA   AA   AA   AA  \n",
       "SNP17    AA   AA   AA   GA   GA  \n",
       "SNP22    GA   GA   GA   GA   GA  \n",
       "SNP25    CC   CC   CC   CC   CC  \n",
       "SNP28    GA   GA   GA   GG   GA  \n",
       "SNP29    CC   CC   CC   CC   CT  \n",
       "SNP30    GG   GG   GG   GG   GG  \n",
       "SNP38    CT   CT   CC   CT   CC  \n",
       "SNP39    GG   GG   GG   GG   GG  \n",
       "SNP44    AT   AT   AT   AT   AT  \n",
       "SNP45    TT   TT   TT   TC   TT  \n",
       "SNP46    TT   TT   TT   TC   TT  \n",
       "SNP47    CC   CC   CC   CT   CC  \n",
       "SNP51    AG   AG   AG   AA   AA  \n",
       "SNP52    GG   GG   GG   GC   GC  \n",
       "SNP54    CC   CC   CC   CC   CC  \n",
       "SNP58    CT   CT   CT   CC   CC  \n",
       "SNP59    CC   CC   CC   CC   CC  \n",
       "SNP61    CC   CC   CC   TT   CC  \n",
       "SNP62    TT   TT   TT   TC   TT  \n",
       "SNP66    AA   AA   AA   AA   AA  \n",
       "SNP70    CT   CT   TT   CC   CT  \n",
       "SNP74    TT   TT   TT   TG   TT  \n",
       "SNP81    TT   TT   TT   TC   TT  \n",
       "SNP82    GA   GA   AA   GG   GA  \n",
       "SNP84    CC   CC   CC   CC   CC  \n",
       "⋮        ⋮    ⋮    ⋮    ⋮    ⋮   \n",
       "SNP83781 TT   TT   TC   TT   TT  \n",
       "SNP83783 TT   TT   TA   TT   TT  \n",
       "SNP83784 AA   AA   AA   AA   AA  \n",
       "SNP83785 GG   GG   GG   GG   GG  \n",
       "SNP83787 TT   TT   TT   TT   TT  \n",
       "SNP83788 GG   GG   GT   GG   GG  \n",
       "SNP83790 TT   TT   TG   TT   TT  \n",
       "SNP83791 AA   AA   AA   AA   AA  \n",
       "SNP83794 GG   GG   GG   GG   GG  \n",
       "SNP83795 AA   AA   AA   AA   GG  \n",
       "SNP83801 GG   GG   GA   GG   GG  \n",
       "SNP83802 GG   GG   GG   GG   GG  \n",
       "SNP83804 AA   AA   AG   AA   AA  \n",
       "SNP83805 TT   TT   TT   TT   TT  \n",
       "SNP83807 TT   TT   TG   TT   TT  \n",
       "SNP83808 AA   AA   AA   AA   AA  \n",
       "SNP83814 AA   AA   TT   AA   AA  \n",
       "SNP83816 GG   GG   GG   GG   GG  \n",
       "SNP83817 GG   GG   GG   GG   GG  \n",
       "SNP83818 TT   TT   TT   TT   TT  \n",
       "SNP83819 TT   TT   TT   TT   TT  \n",
       "SNP83820 TT   TT   TT   TT   TT  \n",
       "SNP83821 TT   CC   TT   CC   TT  \n",
       "SNP83822 TT   CC   TT   CC   TT  \n",
       "SNP83823 AA   GG   AA   GG   AA  \n",
       "SNP83825 AA   AA   AA   AA   AA  \n",
       "SNP83826 AA   AA   AA   AA   AA  \n",
       "SNP83827 GG   GG   GG   GG   GG  \n",
       "SNP83828 TT   TT   TT   TT   TT  \n",
       "SNP83829 GA   GG   GA   GG   GG  "
      ]
     },
     "metadata": {},
     "output_type": "display_data"
    }
   ],
   "source": [
    "data <- data[apply(data, 1, filtro_maf), ]\n",
    "imprimir_estado(data, n_marcadores_iniciales, n_genotipos_iniciales)\n",
    "data\n"
   ]
  }
 ],
 "metadata": {
  "kernelspec": {
   "display_name": "R",
   "language": "R",
   "name": "ir"
  },
  "language_info": {
   "codemirror_mode": "r",
   "file_extension": ".r",
   "mimetype": "text/x-r-source",
   "name": "R",
   "pygments_lexer": "r",
   "version": "4.3.3"
  }
 },
 "nbformat": 4,
 "nbformat_minor": 2
}
