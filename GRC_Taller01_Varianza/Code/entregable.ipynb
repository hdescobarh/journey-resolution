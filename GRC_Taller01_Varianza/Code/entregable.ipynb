{
 "cells": [
  {
   "cell_type": "markdown",
   "metadata": {},
   "source": [
    "# Taller 1. Introducción a R. Estadística descriptiva de rasgos continuo\n",
    "Genética de rasgos complejos 2024-01\n",
    "\n",
    "__Hans D. Escobar H.__\n",
    "\n",
    "1. Escriba un código de mínimo dos líneas para la varianza fenotípica total (Vp) para las \n",
    "localidades de Subachoque y Sumapaz.\n",
    " \n",
    "2. Escriba un código de mínimo dos líneas para estimar la heredabilidad en sentido amplio \n",
    "para cada localidad."
   ]
  },
  {
   "cell_type": "code",
   "execution_count": 1,
   "metadata": {
    "vscode": {
     "languageId": "r"
    }
   },
   "outputs": [],
   "source": [
    "# Environment setup\n",
    "\n",
    "# Required libraries validation\n",
    "if (!require(\"lme4\", quietly = TRUE)) {\n",
    "  print(\"Error: missing lme4 package\")\n",
    "  quit()\n",
    "}\n",
    "\n",
    "# V_P and H^2 functions\n",
    "phenotypic_variance <- function(line_variance, residual_variance) {\n",
    "  # V_P = V_G + V_E , V_G  := line_variance, V_E := residual_variance\n",
    "  return(line_variance + residual_variance)\n",
    "}\n",
    "\n",
    "broad_sense_heritability <- function(line_variance, phenotypic_variance) {\n",
    "  # $H^2 = \\frac{V_G}{V_P}$ - additive and non-additive genetic effects\n",
    "  return(line_variance / phenotypic_variance)\n",
    "}\n"
   ]
  },
  {
   "cell_type": "code",
   "execution_count": 2,
   "metadata": {
    "vscode": {
     "languageId": "r"
    }
   },
   "outputs": [
    {
     "name": "stdout",
     "output_type": "stream",
     "text": [
      "Raw data head (size=60):"
     ]
    },
    {
     "data": {
      "text/html": [
       "<table class=\"dataframe\">\n",
       "<caption>A data.frame: 6 × 3</caption>\n",
       "<thead>\n",
       "\t<tr><th></th><th scope=col>Location</th><th scope=col>Line</th><th scope=col>Pelargonina</th></tr>\n",
       "\t<tr><th></th><th scope=col>&lt;int&gt;</th><th scope=col>&lt;chr&gt;</th><th scope=col>&lt;dbl&gt;</th></tr>\n",
       "</thead>\n",
       "<tbody>\n",
       "\t<tr><th scope=row>1</th><td>1</td><td>a</td><td>12.43</td></tr>\n",
       "\t<tr><th scope=row>2</th><td>1</td><td>a</td><td>12.42</td></tr>\n",
       "\t<tr><th scope=row>3</th><td>1</td><td>a</td><td>12.40</td></tr>\n",
       "\t<tr><th scope=row>4</th><td>2</td><td>a</td><td>11.23</td></tr>\n",
       "\t<tr><th scope=row>5</th><td>2</td><td>a</td><td>11.22</td></tr>\n",
       "\t<tr><th scope=row>6</th><td>2</td><td>a</td><td>11.60</td></tr>\n",
       "</tbody>\n",
       "</table>\n"
      ],
      "text/latex": [
       "A data.frame: 6 × 3\n",
       "\\begin{tabular}{r|lll}\n",
       "  & Location & Line & Pelargonina\\\\\n",
       "  & <int> & <chr> & <dbl>\\\\\n",
       "\\hline\n",
       "\t1 & 1 & a & 12.43\\\\\n",
       "\t2 & 1 & a & 12.42\\\\\n",
       "\t3 & 1 & a & 12.40\\\\\n",
       "\t4 & 2 & a & 11.23\\\\\n",
       "\t5 & 2 & a & 11.22\\\\\n",
       "\t6 & 2 & a & 11.60\\\\\n",
       "\\end{tabular}\n"
      ],
      "text/markdown": [
       "\n",
       "A data.frame: 6 × 3\n",
       "\n",
       "| <!--/--> | Location &lt;int&gt; | Line &lt;chr&gt; | Pelargonina &lt;dbl&gt; |\n",
       "|---|---|---|---|\n",
       "| 1 | 1 | a | 12.43 |\n",
       "| 2 | 1 | a | 12.42 |\n",
       "| 3 | 1 | a | 12.40 |\n",
       "| 4 | 2 | a | 11.23 |\n",
       "| 5 | 2 | a | 11.22 |\n",
       "| 6 | 2 | a | 11.60 |\n",
       "\n"
      ],
      "text/plain": [
       "  Location Line Pelargonina\n",
       "1 1        a    12.43      \n",
       "2 1        a    12.42      \n",
       "3 1        a    12.40      \n",
       "4 2        a    11.23      \n",
       "5 2        a    11.22      \n",
       "6 2        a    11.60      "
      ]
     },
     "metadata": {},
     "output_type": "display_data"
    }
   ],
   "source": [
    "# Generate pelargonina table\n",
    "\n",
    "get_pelargonina_variances <- function(location_df) {\n",
    "  # Fit a linear mixed-effects model (LMM) to data\n",
    "  lmer_mod_object <- lmer(Pelargonina ~ (1 | Line), data = location_df)\n",
    "  # Extract Variance and Correlation Components\n",
    "  vc_df <- as.data.frame(VarCorr(lmer_mod_object))[, c(\"grp\", \"vcov\")]\n",
    "  return(vc_df)\n",
    "}\n",
    "\n",
    "\n",
    "data_df <- read.table(\"Example_Data/pelargo.txt\", header = TRUE)\n",
    "\n",
    "cat(\"Raw data head (size=\", nrow(data_df), \"):\", sep = \"\")\n",
    "head(data_df)\n",
    "\n",
    "pelargonina_summary <- data.frame(\n",
    "  # subachoque 1, sumapaz 2\n",
    "  \"Location\" = factor(levels = c(\"subachoque\", \"sumapaz\")),\n",
    "  \"V_G\" = double(),\n",
    "  \"V_E\" = double(),\n",
    "  \"V_P\" = double(),\n",
    "  \"H^2\" = double()\n",
    ")\n",
    "\n",
    "for (loc in c(\"1\", \"2\")) {\n",
    "  # Generate variance values\n",
    "  variances_df <- get_pelargonina_variances(data_df[data_df$Location == loc, ])\n",
    "  line_variance <- variances_df[variances_df$grp == \"Line\", ][, \"vcov\"]\n",
    "  residual_variance <- variances_df[variances_df$grp == \"Residual\", ][, \"vcov\"]\n",
    "  v_p <- phenotypic_variance(line_variance, residual_variance)\n",
    "  broad_heritability <- broad_sense_heritability(line_variance, v_p)\n",
    "\n",
    "  # Validation of location values\n",
    "  if (loc == 1) {\n",
    "    location <- \"subachoque\"\n",
    "  } else if (loc == 2) {\n",
    "    location <- \"sumapaz\"\n",
    "  } else {\n",
    "    throw(\"Invalid location value\", loc)\n",
    "  }\n",
    "\n",
    "  # Generate summary data frame\n",
    "  pelargonina_summary[nrow(pelargonina_summary) + 1, ] <- list(\n",
    "    location, line_variance, residual_variance, v_p, broad_heritability\n",
    "  )\n",
    "}\n"
   ]
  },
  {
   "cell_type": "code",
   "execution_count": 3,
   "metadata": {
    "vscode": {
     "languageId": "r"
    }
   },
   "outputs": [
    {
     "data": {
      "text/html": [
       "<table class=\"dataframe\">\n",
       "<caption>A data.frame: 2 × 5</caption>\n",
       "<thead>\n",
       "\t<tr><th></th><th scope=col>Location</th><th scope=col>V_G</th><th scope=col>V_E</th><th scope=col>V_P</th><th scope=col>H.2</th></tr>\n",
       "\t<tr><th></th><th scope=col>&lt;fct&gt;</th><th scope=col>&lt;dbl&gt;</th><th scope=col>&lt;dbl&gt;</th><th scope=col>&lt;dbl&gt;</th><th scope=col>&lt;dbl&gt;</th></tr>\n",
       "</thead>\n",
       "<tbody>\n",
       "\t<tr><th scope=row>1</th><td>subachoque</td><td>134.35622</td><td>0.28271</td><td>134.63893</td><td>0.9979002</td></tr>\n",
       "\t<tr><th scope=row>2</th><td>sumapaz   </td><td> 69.48284</td><td>0.27114</td><td> 69.75398</td><td>0.9961129</td></tr>\n",
       "</tbody>\n",
       "</table>\n"
      ],
      "text/latex": [
       "A data.frame: 2 × 5\n",
       "\\begin{tabular}{r|lllll}\n",
       "  & Location & V\\_G & V\\_E & V\\_P & H.2\\\\\n",
       "  & <fct> & <dbl> & <dbl> & <dbl> & <dbl>\\\\\n",
       "\\hline\n",
       "\t1 & subachoque & 134.35622 & 0.28271 & 134.63893 & 0.9979002\\\\\n",
       "\t2 & sumapaz    &  69.48284 & 0.27114 &  69.75398 & 0.9961129\\\\\n",
       "\\end{tabular}\n"
      ],
      "text/markdown": [
       "\n",
       "A data.frame: 2 × 5\n",
       "\n",
       "| <!--/--> | Location &lt;fct&gt; | V_G &lt;dbl&gt; | V_E &lt;dbl&gt; | V_P &lt;dbl&gt; | H.2 &lt;dbl&gt; |\n",
       "|---|---|---|---|---|---|\n",
       "| 1 | subachoque | 134.35622 | 0.28271 | 134.63893 | 0.9979002 |\n",
       "| 2 | sumapaz    |  69.48284 | 0.27114 |  69.75398 | 0.9961129 |\n",
       "\n"
      ],
      "text/plain": [
       "  Location   V_G       V_E     V_P       H.2      \n",
       "1 subachoque 134.35622 0.28271 134.63893 0.9979002\n",
       "2 sumapaz     69.48284 0.27114  69.75398 0.9961129"
      ]
     },
     "metadata": {},
     "output_type": "display_data"
    }
   ],
   "source": [
    "pelargonina_summary\n"
   ]
  },
  {
   "cell_type": "markdown",
   "metadata": {},
   "source": [
    "3. ¿Qué puede concluir de los resultados?"
   ]
  },
  {
   "cell_type": "markdown",
   "metadata": {},
   "source": [
    "El análisis realizado falla en capturar el efecto ambiental. Dado a que son las mismas líneas en distintos ambientes, se espera variabilidad genética similar; sin embargo, en Subachoque fue de casi el doble que en Sumapaz. Es necesario incluir comparaciones de la misma línea en distintas locaciones."
   ]
  }
 ],
 "metadata": {
  "kernelspec": {
   "display_name": "R",
   "language": "R",
   "name": "ir"
  },
  "language_info": {
   "codemirror_mode": "r",
   "file_extension": ".r",
   "mimetype": "text/x-r-source",
   "name": "R",
   "pygments_lexer": "r",
   "version": "4.1.2"
  }
 },
 "nbformat": 4,
 "nbformat_minor": 4
}
